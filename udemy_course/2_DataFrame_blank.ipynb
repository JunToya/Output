{
 "cells": [
  {
   "cell_type": "markdown",
   "id": "23c6d4cc",
   "metadata": {},
   "source": [
    "<a id=0></a>\n",
    "# 2. DataFrameを理解する"
   ]
  },
  {
   "cell_type": "markdown",
   "id": "cfd115fa",
   "metadata": {},
   "source": [
    "---\n",
    "### [1.Arrayの作成、SeriesとDataFrameの作成 ](#1)\n",
    "### [2.SeriesとDataFrame](#2)\n",
    "### [3.DataFrameの基礎データとaxisの理解](#3)\n",
    "### [4.IndexとColumnについて](#4)\n",
    "### [5.欠損値](#5)\n",
    "### [6.DataFrameを別のファイルとして保存](#6)\n",
    "---"
   ]
  },
  {
   "cell_type": "code",
   "execution_count": 1,
   "id": "5f4b23d4",
   "metadata": {},
   "outputs": [],
   "source": [
    "import numpy as np\n",
    "import pandas as pd\n",
    "import matplotlib.pyplot as plt\n",
    "import seaborn as sns"
   ]
  },
  {
   "cell_type": "markdown",
   "id": "0b658499",
   "metadata": {},
   "source": [
    "---\n",
    "<a id=1></a>\n",
    "[Topへ](#0)\n",
    "\n",
    "---\n",
    "## 1.Arrayの作成、SeriesとDataFrameの作成 "
   ]
  },
  {
   "cell_type": "markdown",
   "id": "39c9d4cc",
   "metadata": {},
   "source": [
    "* 100 - 10000の整数データ (100,)からSeriesを作成\n",
    "* Series と ndarry\n",
    "* Seriesに名前を付ける\n",
    "* 10 - 100の整数データ (100,)からSeriesを作成\n",
    "* 0 - 10の小数データ (100, 2)からDataFrameを作成\n",
    "* 40 - 60の範囲の一様分布の小数データ (100, 1)からDataFrameを作成\n",
    "* 平均 0、標準偏差 1の正規分布に従う小数データ (100, 1)からDataFrameを作成\n",
    "* 平均50、標準偏差10の正規分布に従う小数データ (100, 1)からDataFrameを作成\n",
    "* ['red', 'green', 'blue'] (100, 1)、 ['circle', 'square', 'triangle'] (100, 1)、ndarrayを合しDataFrameを作成\n",
    "* datetime 1997/7/5から1日刻み (100, 1)からDatetimeIndex、Seriesを作成\n",
    "* Series, DataFrameを結合\n",
    "* DataFrameのサンプル（レコード）の一部を抽出する\n",
    "---"
   ]
  },
  {
   "cell_type": "markdown",
   "id": "12f6c3df",
   "metadata": {},
   "source": [
    "100 - 10000の整数データ (100,)からSeriesを作成"
   ]
  },
  {
   "cell_type": "code",
   "execution_count": 2,
   "id": "1152c769",
   "metadata": {
    "scrolled": true
   },
   "outputs": [],
   "source": [
    "np.random.seed(17)\n",
    "arr_int1 = np.random.randint(100, 10000, 100)"
   ]
  },
  {
   "cell_type": "code",
   "execution_count": 3,
   "id": "2849c3da-e630-45ad-afba-13c10bb0f354",
   "metadata": {},
   "outputs": [
    {
     "data": {
      "text/plain": [
       "array([2291,  506, 9629, 6161, 8570])"
      ]
     },
     "execution_count": 3,
     "metadata": {},
     "output_type": "execute_result"
    }
   ],
   "source": [
    "arr_int1[:5]"
   ]
  },
  {
   "cell_type": "code",
   "execution_count": 4,
   "id": "2ade9796",
   "metadata": {},
   "outputs": [
    {
     "data": {
      "text/plain": [
       "0     2291\n",
       "1      506\n",
       "2     9629\n",
       "3     6161\n",
       "4     8570\n",
       "      ... \n",
       "95    4285\n",
       "96    9714\n",
       "97    5113\n",
       "98    5916\n",
       "99    1578\n",
       "Length: 100, dtype: int64"
      ]
     },
     "execution_count": 4,
     "metadata": {},
     "output_type": "execute_result"
    }
   ],
   "source": [
    "sr = pd.Series(arr_int1)\n",
    "sr"
   ]
  },
  {
   "cell_type": "markdown",
   "id": "2a9575e4",
   "metadata": {},
   "source": [
    "Series と ndarry"
   ]
  },
  {
   "cell_type": "code",
   "execution_count": 5,
   "id": "90b243d0-587b-4ad2-bfc6-59209d445000",
   "metadata": {},
   "outputs": [
    {
     "data": {
      "text/plain": [
       "pandas.core.series.Series"
      ]
     },
     "execution_count": 5,
     "metadata": {},
     "output_type": "execute_result"
    }
   ],
   "source": [
    "type(sr)"
   ]
  },
  {
   "cell_type": "code",
   "execution_count": 6,
   "id": "9b0464e8-c224-4c2b-b940-d12b79b255fe",
   "metadata": {},
   "outputs": [
    {
     "data": {
      "text/plain": [
       "1"
      ]
     },
     "execution_count": 6,
     "metadata": {},
     "output_type": "execute_result"
    }
   ],
   "source": [
    "sr.ndim"
   ]
  },
  {
   "cell_type": "code",
   "execution_count": 7,
   "id": "5a554e4c-4a86-46d2-a455-bee30dc60e52",
   "metadata": {},
   "outputs": [
    {
     "data": {
      "text/plain": [
       "(100,)"
      ]
     },
     "execution_count": 7,
     "metadata": {},
     "output_type": "execute_result"
    }
   ],
   "source": [
    "sr.shape"
   ]
  },
  {
   "cell_type": "code",
   "execution_count": 8,
   "id": "8f437807-a1a0-4e3c-a952-05e17178a13f",
   "metadata": {},
   "outputs": [
    {
     "data": {
      "text/plain": [
       "9991"
      ]
     },
     "execution_count": 8,
     "metadata": {},
     "output_type": "execute_result"
    }
   ],
   "source": [
    "sr.max()"
   ]
  },
  {
   "cell_type": "markdown",
   "id": "d4344159",
   "metadata": {},
   "source": [
    "Seriesに名前を付ける"
   ]
  },
  {
   "cell_type": "code",
   "execution_count": 9,
   "id": "70bdf0ef",
   "metadata": {},
   "outputs": [],
   "source": [
    "sr.name = 'Price'"
   ]
  },
  {
   "cell_type": "code",
   "execution_count": 10,
   "id": "3cd95328-4612-4a11-95b0-b3310d37651c",
   "metadata": {},
   "outputs": [
    {
     "data": {
      "text/plain": [
       "0     2291\n",
       "1      506\n",
       "2     9629\n",
       "3     6161\n",
       "4     8570\n",
       "      ... \n",
       "95    4285\n",
       "96    9714\n",
       "97    5113\n",
       "98    5916\n",
       "99    1578\n",
       "Name: Price, Length: 100, dtype: int64"
      ]
     },
     "execution_count": 10,
     "metadata": {},
     "output_type": "execute_result"
    }
   ],
   "source": [
    "sr"
   ]
  },
  {
   "cell_type": "code",
   "execution_count": 11,
   "id": "45a835fc-1658-40c0-83cb-140107312a47",
   "metadata": {},
   "outputs": [
    {
     "data": {
      "text/plain": [
       "0     2291\n",
       "1      506\n",
       "2     9629\n",
       "3     6161\n",
       "4     8570\n",
       "      ... \n",
       "95    4285\n",
       "96    9714\n",
       "97    5113\n",
       "98    5916\n",
       "99    1578\n",
       "Name: Price, Length: 100, dtype: int64"
      ]
     },
     "execution_count": 11,
     "metadata": {},
     "output_type": "execute_result"
    }
   ],
   "source": [
    "sr_price = pd.Series(arr_int1, name=\"Price\")\n",
    "sr_price"
   ]
  },
  {
   "cell_type": "markdown",
   "id": "8141d5ba",
   "metadata": {},
   "source": [
    "10 - 100の整数データ (100,)からSeriesを作成"
   ]
  },
  {
   "cell_type": "code",
   "execution_count": 12,
   "id": "7c6a375f",
   "metadata": {},
   "outputs": [],
   "source": [
    "np.random.seed(17)\n",
    "arr_int2 = np.random.randint(10, 100, 100)\n",
    "sr_quantity = pd.Series(arr_int2, name='Quantity')"
   ]
  },
  {
   "cell_type": "code",
   "execution_count": 13,
   "id": "b5f517d7-b3de-4a81-ae16-8e55e9770991",
   "metadata": {},
   "outputs": [
    {
     "data": {
      "text/plain": [
       "0     25\n",
       "1     16\n",
       "2     32\n",
       "3     67\n",
       "4     55\n",
       "      ..\n",
       "95    50\n",
       "96    76\n",
       "97    62\n",
       "98    57\n",
       "99    77\n",
       "Name: Quantity, Length: 100, dtype: int64"
      ]
     },
     "execution_count": 13,
     "metadata": {},
     "output_type": "execute_result"
    }
   ],
   "source": [
    "sr_quantity"
   ]
  },
  {
   "cell_type": "markdown",
   "id": "7cb44e85",
   "metadata": {},
   "source": [
    "0 - 10の小数データ (100, 2)からDataFrameを作成"
   ]
  },
  {
   "cell_type": "code",
   "execution_count": 14,
   "id": "f6335148",
   "metadata": {},
   "outputs": [],
   "source": [
    "np.random.seed(17)\n",
    "arr_fl = np.random.rand(100, 2) * 10\n",
    "\n",
    "# sr = pd.Series(arr_fl)\n",
    "# ValueError: Data must be 1-dimensional"
   ]
  },
  {
   "cell_type": "code",
   "execution_count": 15,
   "id": "b2082865-8b7f-4876-a784-69cc8c99dfb0",
   "metadata": {},
   "outputs": [
    {
     "data": {
      "text/html": [
       "<div>\n",
       "<style scoped>\n",
       "    .dataframe tbody tr th:only-of-type {\n",
       "        vertical-align: middle;\n",
       "    }\n",
       "\n",
       "    .dataframe tbody tr th {\n",
       "        vertical-align: top;\n",
       "    }\n",
       "\n",
       "    .dataframe thead th {\n",
       "        text-align: right;\n",
       "    }\n",
       "</style>\n",
       "<table border=\"1\" class=\"dataframe\">\n",
       "  <thead>\n",
       "    <tr style=\"text-align: right;\">\n",
       "      <th></th>\n",
       "      <th>0</th>\n",
       "      <th>1</th>\n",
       "    </tr>\n",
       "  </thead>\n",
       "  <tbody>\n",
       "    <tr>\n",
       "      <th>0</th>\n",
       "      <td>2.946650</td>\n",
       "      <td>5.305868</td>\n",
       "    </tr>\n",
       "    <tr>\n",
       "      <th>1</th>\n",
       "      <td>1.915208</td>\n",
       "      <td>0.679004</td>\n",
       "    </tr>\n",
       "    <tr>\n",
       "      <th>2</th>\n",
       "      <td>7.869855</td>\n",
       "      <td>6.563335</td>\n",
       "    </tr>\n",
       "    <tr>\n",
       "      <th>3</th>\n",
       "      <td>6.375209</td>\n",
       "      <td>5.756029</td>\n",
       "    </tr>\n",
       "    <tr>\n",
       "      <th>4</th>\n",
       "      <td>0.390629</td>\n",
       "      <td>3.578136</td>\n",
       "    </tr>\n",
       "    <tr>\n",
       "      <th>...</th>\n",
       "      <td>...</td>\n",
       "      <td>...</td>\n",
       "    </tr>\n",
       "    <tr>\n",
       "      <th>95</th>\n",
       "      <td>9.133029</td>\n",
       "      <td>5.902204</td>\n",
       "    </tr>\n",
       "    <tr>\n",
       "      <th>96</th>\n",
       "      <td>1.711943</td>\n",
       "      <td>7.144745</td>\n",
       "    </tr>\n",
       "    <tr>\n",
       "      <th>97</th>\n",
       "      <td>2.384461</td>\n",
       "      <td>9.218051</td>\n",
       "    </tr>\n",
       "    <tr>\n",
       "      <th>98</th>\n",
       "      <td>7.212739</td>\n",
       "      <td>6.769230</td>\n",
       "    </tr>\n",
       "    <tr>\n",
       "      <th>99</th>\n",
       "      <td>9.868106</td>\n",
       "      <td>5.397452</td>\n",
       "    </tr>\n",
       "  </tbody>\n",
       "</table>\n",
       "<p>100 rows × 2 columns</p>\n",
       "</div>"
      ],
      "text/plain": [
       "           0         1\n",
       "0   2.946650  5.305868\n",
       "1   1.915208  0.679004\n",
       "2   7.869855  6.563335\n",
       "3   6.375209  5.756029\n",
       "4   0.390629  3.578136\n",
       "..       ...       ...\n",
       "95  9.133029  5.902204\n",
       "96  1.711943  7.144745\n",
       "97  2.384461  9.218051\n",
       "98  7.212739  6.769230\n",
       "99  9.868106  5.397452\n",
       "\n",
       "[100 rows x 2 columns]"
      ]
     },
     "execution_count": 15,
     "metadata": {},
     "output_type": "execute_result"
    }
   ],
   "source": [
    "df = pd.DataFrame(arr_fl)\n",
    "df"
   ]
  },
  {
   "cell_type": "code",
   "execution_count": 16,
   "id": "dfca6c7b-7417-4b33-9361-7378e83bf516",
   "metadata": {},
   "outputs": [
    {
     "data": {
      "text/html": [
       "<div>\n",
       "<style scoped>\n",
       "    .dataframe tbody tr th:only-of-type {\n",
       "        vertical-align: middle;\n",
       "    }\n",
       "\n",
       "    .dataframe tbody tr th {\n",
       "        vertical-align: top;\n",
       "    }\n",
       "\n",
       "    .dataframe thead th {\n",
       "        text-align: right;\n",
       "    }\n",
       "</style>\n",
       "<table border=\"1\" class=\"dataframe\">\n",
       "  <thead>\n",
       "    <tr style=\"text-align: right;\">\n",
       "      <th></th>\n",
       "      <th>Width</th>\n",
       "      <th>Height</th>\n",
       "    </tr>\n",
       "  </thead>\n",
       "  <tbody>\n",
       "    <tr>\n",
       "      <th>0</th>\n",
       "      <td>2.946650</td>\n",
       "      <td>5.305868</td>\n",
       "    </tr>\n",
       "    <tr>\n",
       "      <th>1</th>\n",
       "      <td>1.915208</td>\n",
       "      <td>0.679004</td>\n",
       "    </tr>\n",
       "    <tr>\n",
       "      <th>2</th>\n",
       "      <td>7.869855</td>\n",
       "      <td>6.563335</td>\n",
       "    </tr>\n",
       "    <tr>\n",
       "      <th>3</th>\n",
       "      <td>6.375209</td>\n",
       "      <td>5.756029</td>\n",
       "    </tr>\n",
       "    <tr>\n",
       "      <th>4</th>\n",
       "      <td>0.390629</td>\n",
       "      <td>3.578136</td>\n",
       "    </tr>\n",
       "    <tr>\n",
       "      <th>...</th>\n",
       "      <td>...</td>\n",
       "      <td>...</td>\n",
       "    </tr>\n",
       "    <tr>\n",
       "      <th>95</th>\n",
       "      <td>9.133029</td>\n",
       "      <td>5.902204</td>\n",
       "    </tr>\n",
       "    <tr>\n",
       "      <th>96</th>\n",
       "      <td>1.711943</td>\n",
       "      <td>7.144745</td>\n",
       "    </tr>\n",
       "    <tr>\n",
       "      <th>97</th>\n",
       "      <td>2.384461</td>\n",
       "      <td>9.218051</td>\n",
       "    </tr>\n",
       "    <tr>\n",
       "      <th>98</th>\n",
       "      <td>7.212739</td>\n",
       "      <td>6.769230</td>\n",
       "    </tr>\n",
       "    <tr>\n",
       "      <th>99</th>\n",
       "      <td>9.868106</td>\n",
       "      <td>5.397452</td>\n",
       "    </tr>\n",
       "  </tbody>\n",
       "</table>\n",
       "<p>100 rows × 2 columns</p>\n",
       "</div>"
      ],
      "text/plain": [
       "       Width    Height\n",
       "0   2.946650  5.305868\n",
       "1   1.915208  0.679004\n",
       "2   7.869855  6.563335\n",
       "3   6.375209  5.756029\n",
       "4   0.390629  3.578136\n",
       "..       ...       ...\n",
       "95  9.133029  5.902204\n",
       "96  1.711943  7.144745\n",
       "97  2.384461  9.218051\n",
       "98  7.212739  6.769230\n",
       "99  9.868106  5.397452\n",
       "\n",
       "[100 rows x 2 columns]"
      ]
     },
     "execution_count": 16,
     "metadata": {},
     "output_type": "execute_result"
    }
   ],
   "source": [
    "df_wh = pd.DataFrame(arr_fl, columns=['Width', 'Height'])\n",
    "df_wh"
   ]
  },
  {
   "cell_type": "markdown",
   "id": "eb23916f",
   "metadata": {},
   "source": [
    "40 - 60の範囲の一様分布の小数データ (100, 1)からDataFrameを作成"
   ]
  },
  {
   "cell_type": "code",
   "execution_count": 17,
   "id": "99902c60",
   "metadata": {},
   "outputs": [
    {
     "data": {
      "text/html": [
       "<div>\n",
       "<style scoped>\n",
       "    .dataframe tbody tr th:only-of-type {\n",
       "        vertical-align: middle;\n",
       "    }\n",
       "\n",
       "    .dataframe tbody tr th {\n",
       "        vertical-align: top;\n",
       "    }\n",
       "\n",
       "    .dataframe thead th {\n",
       "        text-align: right;\n",
       "    }\n",
       "</style>\n",
       "<table border=\"1\" class=\"dataframe\">\n",
       "  <thead>\n",
       "    <tr style=\"text-align: right;\">\n",
       "      <th></th>\n",
       "      <th>Quality</th>\n",
       "    </tr>\n",
       "  </thead>\n",
       "  <tbody>\n",
       "    <tr>\n",
       "      <th>0</th>\n",
       "      <td>45.893300</td>\n",
       "    </tr>\n",
       "    <tr>\n",
       "      <th>1</th>\n",
       "      <td>50.611735</td>\n",
       "    </tr>\n",
       "    <tr>\n",
       "      <th>2</th>\n",
       "      <td>43.830416</td>\n",
       "    </tr>\n",
       "    <tr>\n",
       "      <th>3</th>\n",
       "      <td>41.358007</td>\n",
       "    </tr>\n",
       "    <tr>\n",
       "      <th>4</th>\n",
       "      <td>55.739709</td>\n",
       "    </tr>\n",
       "    <tr>\n",
       "      <th>...</th>\n",
       "      <td>...</td>\n",
       "    </tr>\n",
       "    <tr>\n",
       "      <th>95</th>\n",
       "      <td>41.603027</td>\n",
       "    </tr>\n",
       "    <tr>\n",
       "      <th>96</th>\n",
       "      <td>57.420940</td>\n",
       "    </tr>\n",
       "    <tr>\n",
       "      <th>97</th>\n",
       "      <td>54.261728</td>\n",
       "    </tr>\n",
       "    <tr>\n",
       "      <th>98</th>\n",
       "      <td>54.642241</td>\n",
       "    </tr>\n",
       "    <tr>\n",
       "      <th>99</th>\n",
       "      <td>56.472400</td>\n",
       "    </tr>\n",
       "  </tbody>\n",
       "</table>\n",
       "<p>100 rows × 1 columns</p>\n",
       "</div>"
      ],
      "text/plain": [
       "      Quality\n",
       "0   45.893300\n",
       "1   50.611735\n",
       "2   43.830416\n",
       "3   41.358007\n",
       "4   55.739709\n",
       "..        ...\n",
       "95  41.603027\n",
       "96  57.420940\n",
       "97  54.261728\n",
       "98  54.642241\n",
       "99  56.472400\n",
       "\n",
       "[100 rows x 1 columns]"
      ]
     },
     "execution_count": 17,
     "metadata": {},
     "output_type": "execute_result"
    }
   ],
   "source": [
    "np.random.seed(17)\n",
    "arr_uni = np.random.uniform(40, 60, (100, 1))\n",
    "\n",
    "df_quality = pd.DataFrame(arr_uni, columns=['Quality'])\n",
    "df_quality"
   ]
  },
  {
   "cell_type": "markdown",
   "id": "bdcdddfb",
   "metadata": {},
   "source": [
    "平均 0、標準偏差 1の正規分布に従う小数データ (100, 1)からDataFrameを作成"
   ]
  },
  {
   "cell_type": "code",
   "execution_count": 18,
   "id": "62f5ee56",
   "metadata": {},
   "outputs": [
    {
     "data": {
      "text/html": [
       "<div>\n",
       "<style scoped>\n",
       "    .dataframe tbody tr th:only-of-type {\n",
       "        vertical-align: middle;\n",
       "    }\n",
       "\n",
       "    .dataframe tbody tr th {\n",
       "        vertical-align: top;\n",
       "    }\n",
       "\n",
       "    .dataframe thead th {\n",
       "        text-align: right;\n",
       "    }\n",
       "</style>\n",
       "<table border=\"1\" class=\"dataframe\">\n",
       "  <thead>\n",
       "    <tr style=\"text-align: right;\">\n",
       "      <th></th>\n",
       "      <th>Difference</th>\n",
       "    </tr>\n",
       "  </thead>\n",
       "  <tbody>\n",
       "    <tr>\n",
       "      <th>0</th>\n",
       "      <td>0.276266</td>\n",
       "    </tr>\n",
       "    <tr>\n",
       "      <th>1</th>\n",
       "      <td>-1.854628</td>\n",
       "    </tr>\n",
       "    <tr>\n",
       "      <th>2</th>\n",
       "      <td>0.623901</td>\n",
       "    </tr>\n",
       "    <tr>\n",
       "      <th>3</th>\n",
       "      <td>1.145311</td>\n",
       "    </tr>\n",
       "    <tr>\n",
       "      <th>4</th>\n",
       "      <td>1.037190</td>\n",
       "    </tr>\n",
       "    <tr>\n",
       "      <th>...</th>\n",
       "      <td>...</td>\n",
       "    </tr>\n",
       "    <tr>\n",
       "      <th>95</th>\n",
       "      <td>1.130726</td>\n",
       "    </tr>\n",
       "    <tr>\n",
       "      <th>96</th>\n",
       "      <td>0.560040</td>\n",
       "    </tr>\n",
       "    <tr>\n",
       "      <th>97</th>\n",
       "      <td>-0.618397</td>\n",
       "    </tr>\n",
       "    <tr>\n",
       "      <th>98</th>\n",
       "      <td>-0.224799</td>\n",
       "    </tr>\n",
       "    <tr>\n",
       "      <th>99</th>\n",
       "      <td>2.215901</td>\n",
       "    </tr>\n",
       "  </tbody>\n",
       "</table>\n",
       "<p>100 rows × 1 columns</p>\n",
       "</div>"
      ],
      "text/plain": [
       "    Difference\n",
       "0     0.276266\n",
       "1    -1.854628\n",
       "2     0.623901\n",
       "3     1.145311\n",
       "4     1.037190\n",
       "..         ...\n",
       "95    1.130726\n",
       "96    0.560040\n",
       "97   -0.618397\n",
       "98   -0.224799\n",
       "99    2.215901\n",
       "\n",
       "[100 rows x 1 columns]"
      ]
     },
     "execution_count": 18,
     "metadata": {},
     "output_type": "execute_result"
    }
   ],
   "source": [
    "np.random.seed(17)\n",
    "arr_n = np.random.randn(100, 1)\n",
    "\n",
    "df_difference = pd.DataFrame(arr_n, columns=['Difference'])\n",
    "df_difference"
   ]
  },
  {
   "cell_type": "markdown",
   "id": "43c9224d",
   "metadata": {},
   "source": [
    "平均50、標準偏差10の正規分布に従う小数データ (100, 1)からDataFrameを作成"
   ]
  },
  {
   "cell_type": "code",
   "execution_count": 19,
   "id": "c3bc39bd",
   "metadata": {},
   "outputs": [
    {
     "data": {
      "text/html": [
       "<div>\n",
       "<style scoped>\n",
       "    .dataframe tbody tr th:only-of-type {\n",
       "        vertical-align: middle;\n",
       "    }\n",
       "\n",
       "    .dataframe tbody tr th {\n",
       "        vertical-align: top;\n",
       "    }\n",
       "\n",
       "    .dataframe thead th {\n",
       "        text-align: right;\n",
       "    }\n",
       "</style>\n",
       "<table border=\"1\" class=\"dataframe\">\n",
       "  <thead>\n",
       "    <tr style=\"text-align: right;\">\n",
       "      <th></th>\n",
       "      <th>Score</th>\n",
       "    </tr>\n",
       "  </thead>\n",
       "  <tbody>\n",
       "    <tr>\n",
       "      <th>0</th>\n",
       "      <td>52.762659</td>\n",
       "    </tr>\n",
       "    <tr>\n",
       "      <th>1</th>\n",
       "      <td>31.453719</td>\n",
       "    </tr>\n",
       "    <tr>\n",
       "      <th>2</th>\n",
       "      <td>56.239011</td>\n",
       "    </tr>\n",
       "    <tr>\n",
       "      <th>3</th>\n",
       "      <td>61.453113</td>\n",
       "    </tr>\n",
       "    <tr>\n",
       "      <th>4</th>\n",
       "      <td>60.371905</td>\n",
       "    </tr>\n",
       "    <tr>\n",
       "      <th>...</th>\n",
       "      <td>...</td>\n",
       "    </tr>\n",
       "    <tr>\n",
       "      <th>95</th>\n",
       "      <td>61.307264</td>\n",
       "    </tr>\n",
       "    <tr>\n",
       "      <th>96</th>\n",
       "      <td>55.600397</td>\n",
       "    </tr>\n",
       "    <tr>\n",
       "      <th>97</th>\n",
       "      <td>43.816027</td>\n",
       "    </tr>\n",
       "    <tr>\n",
       "      <th>98</th>\n",
       "      <td>47.752013</td>\n",
       "    </tr>\n",
       "    <tr>\n",
       "      <th>99</th>\n",
       "      <td>72.159015</td>\n",
       "    </tr>\n",
       "  </tbody>\n",
       "</table>\n",
       "<p>100 rows × 1 columns</p>\n",
       "</div>"
      ],
      "text/plain": [
       "        Score\n",
       "0   52.762659\n",
       "1   31.453719\n",
       "2   56.239011\n",
       "3   61.453113\n",
       "4   60.371905\n",
       "..        ...\n",
       "95  61.307264\n",
       "96  55.600397\n",
       "97  43.816027\n",
       "98  47.752013\n",
       "99  72.159015\n",
       "\n",
       "[100 rows x 1 columns]"
      ]
     },
     "execution_count": 19,
     "metadata": {},
     "output_type": "execute_result"
    }
   ],
   "source": [
    "np.random.seed(17)\n",
    "arr_nor = np.random.normal(50, 10, (100, 1))\n",
    "\n",
    "df_score = pd.DataFrame(arr_nor, columns=['Score'])\n",
    "df_score"
   ]
  },
  {
   "cell_type": "markdown",
   "id": "47ad1fe0",
   "metadata": {},
   "source": [
    "['red', 'green', 'blue'] (100, 1)、 ['circle', 'square', 'triangle'] (100, 1)、ndarrayを結合しDataFrameを作成"
   ]
  },
  {
   "cell_type": "code",
   "execution_count": 20,
   "id": "4cfeb29d",
   "metadata": {},
   "outputs": [],
   "source": [
    "np.random.seed(17)\n",
    "colors = ['red', 'green', 'blue']\n",
    "shapes =  ['circle', 'square', 'triangle'] \n",
    "arr_colors = np.random.choice(colors, (100, 1))\n",
    "arr_shapes = np.random.choice(shapes, (100, 1))"
   ]
  },
  {
   "cell_type": "code",
   "execution_count": 21,
   "id": "b542cfa3-0e8d-4edb-94ac-f1122c06f8e5",
   "metadata": {},
   "outputs": [],
   "source": [
    "# arr_cs = np.concatenate([arr_colors, arr_shapes])\n",
    "# arr_cs"
   ]
  },
  {
   "cell_type": "code",
   "execution_count": 22,
   "id": "f627b30c-e9d1-4deb-baea-d85fc8ef5515",
   "metadata": {},
   "outputs": [
    {
     "data": {
      "text/plain": [
       "array([['green', 'triangle'],\n",
       "       ['blue', 'triangle'],\n",
       "       ['blue', 'square'],\n",
       "       ['green', 'square'],\n",
       "       ['red', 'square']], dtype='<U8')"
      ]
     },
     "execution_count": 22,
     "metadata": {},
     "output_type": "execute_result"
    }
   ],
   "source": [
    "arr_cs = np.concatenate([arr_colors, arr_shapes], axis=1)\n",
    "arr_cs[:5]"
   ]
  },
  {
   "cell_type": "code",
   "execution_count": 23,
   "id": "b9c0545c-1fab-4565-a498-0d6d237fd665",
   "metadata": {},
   "outputs": [
    {
     "data": {
      "text/plain": [
       "array([['green', 'triangle'],\n",
       "       ['blue', 'triangle'],\n",
       "       ['blue', 'square'],\n",
       "       ['green', 'square'],\n",
       "       ['red', 'square']], dtype='<U8')"
      ]
     },
     "execution_count": 23,
     "metadata": {},
     "output_type": "execute_result"
    }
   ],
   "source": [
    "arr_cs_hstack = np.hstack([arr_colors, arr_shapes])\n",
    "arr_cs_hstack[:5]"
   ]
  },
  {
   "cell_type": "code",
   "execution_count": 24,
   "id": "8998bf5c-1a21-4a70-89ab-215bb80e2bda",
   "metadata": {},
   "outputs": [
    {
     "data": {
      "text/plain": [
       "array([['blue'],\n",
       "       ['red'],\n",
       "       ['triangle'],\n",
       "       ['triangle'],\n",
       "       ['square']], dtype='<U8')"
      ]
     },
     "execution_count": 24,
     "metadata": {},
     "output_type": "execute_result"
    }
   ],
   "source": [
    "arr_cs_vstack = np.vstack([arr_colors, arr_shapes])\n",
    "arr_cs_vstack[98:103]"
   ]
  },
  {
   "cell_type": "code",
   "execution_count": 25,
   "id": "ce92e003-d478-4b52-8358-5ffc928e2e5c",
   "metadata": {},
   "outputs": [
    {
     "data": {
      "text/html": [
       "<div>\n",
       "<style scoped>\n",
       "    .dataframe tbody tr th:only-of-type {\n",
       "        vertical-align: middle;\n",
       "    }\n",
       "\n",
       "    .dataframe tbody tr th {\n",
       "        vertical-align: top;\n",
       "    }\n",
       "\n",
       "    .dataframe thead th {\n",
       "        text-align: right;\n",
       "    }\n",
       "</style>\n",
       "<table border=\"1\" class=\"dataframe\">\n",
       "  <thead>\n",
       "    <tr style=\"text-align: right;\">\n",
       "      <th></th>\n",
       "      <th>Color</th>\n",
       "      <th>Shape</th>\n",
       "    </tr>\n",
       "  </thead>\n",
       "  <tbody>\n",
       "    <tr>\n",
       "      <th>0</th>\n",
       "      <td>green</td>\n",
       "      <td>triangle</td>\n",
       "    </tr>\n",
       "    <tr>\n",
       "      <th>1</th>\n",
       "      <td>blue</td>\n",
       "      <td>triangle</td>\n",
       "    </tr>\n",
       "    <tr>\n",
       "      <th>2</th>\n",
       "      <td>blue</td>\n",
       "      <td>square</td>\n",
       "    </tr>\n",
       "    <tr>\n",
       "      <th>3</th>\n",
       "      <td>green</td>\n",
       "      <td>square</td>\n",
       "    </tr>\n",
       "    <tr>\n",
       "      <th>4</th>\n",
       "      <td>red</td>\n",
       "      <td>square</td>\n",
       "    </tr>\n",
       "    <tr>\n",
       "      <th>...</th>\n",
       "      <td>...</td>\n",
       "      <td>...</td>\n",
       "    </tr>\n",
       "    <tr>\n",
       "      <th>95</th>\n",
       "      <td>blue</td>\n",
       "      <td>circle</td>\n",
       "    </tr>\n",
       "    <tr>\n",
       "      <th>96</th>\n",
       "      <td>red</td>\n",
       "      <td>triangle</td>\n",
       "    </tr>\n",
       "    <tr>\n",
       "      <th>97</th>\n",
       "      <td>blue</td>\n",
       "      <td>square</td>\n",
       "    </tr>\n",
       "    <tr>\n",
       "      <th>98</th>\n",
       "      <td>blue</td>\n",
       "      <td>circle</td>\n",
       "    </tr>\n",
       "    <tr>\n",
       "      <th>99</th>\n",
       "      <td>red</td>\n",
       "      <td>circle</td>\n",
       "    </tr>\n",
       "  </tbody>\n",
       "</table>\n",
       "<p>100 rows × 2 columns</p>\n",
       "</div>"
      ],
      "text/plain": [
       "    Color     Shape\n",
       "0   green  triangle\n",
       "1    blue  triangle\n",
       "2    blue    square\n",
       "3   green    square\n",
       "4     red    square\n",
       "..    ...       ...\n",
       "95   blue    circle\n",
       "96    red  triangle\n",
       "97   blue    square\n",
       "98   blue    circle\n",
       "99    red    circle\n",
       "\n",
       "[100 rows x 2 columns]"
      ]
     },
     "execution_count": 25,
     "metadata": {},
     "output_type": "execute_result"
    }
   ],
   "source": [
    "df_cs = pd.DataFrame(arr_cs, columns=['Color', 'Shape'])\n",
    "df_cs"
   ]
  },
  {
   "cell_type": "markdown",
   "id": "958718f5",
   "metadata": {},
   "source": [
    "datetime 1997/7/5から1日刻み (100, 1)からDatetimeIndex、Seriesを作成"
   ]
  },
  {
   "cell_type": "code",
   "execution_count": 26,
   "id": "09d08503",
   "metadata": {},
   "outputs": [
    {
     "data": {
      "text/plain": [
       "DatetimeIndex(['1997-07-05', '1997-07-06', '1997-07-07', '1997-07-08',\n",
       "               '1997-07-09'],\n",
       "              dtype='datetime64[ns]', freq='D')"
      ]
     },
     "execution_count": 26,
     "metadata": {},
     "output_type": "execute_result"
    }
   ],
   "source": [
    "dates = pd.date_range('1997/7/5', periods=100, freq='D')\n",
    "# D:日　　　　B：月曜ー金曜　　　　W：週（日曜から）　　　　M：月末　　　　Y：年末\n",
    "#　　H：時　　　　T：分　　　　S：秒　　　など\n",
    "# ２D、１２Hなどとしても使用可\n",
    "dates[:10]\n",
    "dates[:5]"
   ]
  },
  {
   "cell_type": "code",
   "execution_count": 27,
   "id": "2446dc56-84d5-4bdb-b411-5143dfe95fdf",
   "metadata": {},
   "outputs": [
    {
     "data": {
      "text/plain": [
       "pandas.core.series.Series"
      ]
     },
     "execution_count": 27,
     "metadata": {},
     "output_type": "execute_result"
    }
   ],
   "source": [
    "sr_date = pd.Series(dates, name=\"Date\")\n",
    "type(sr_date)"
   ]
  },
  {
   "cell_type": "markdown",
   "id": "7eff40d1",
   "metadata": {},
   "source": [
    "Series, DataFrameを結合"
   ]
  },
  {
   "cell_type": "code",
   "execution_count": 28,
   "id": "cd7743f6",
   "metadata": {
    "scrolled": true
   },
   "outputs": [
    {
     "data": {
      "text/html": [
       "<div>\n",
       "<style scoped>\n",
       "    .dataframe tbody tr th:only-of-type {\n",
       "        vertical-align: middle;\n",
       "    }\n",
       "\n",
       "    .dataframe tbody tr th {\n",
       "        vertical-align: top;\n",
       "    }\n",
       "\n",
       "    .dataframe thead th {\n",
       "        text-align: right;\n",
       "    }\n",
       "</style>\n",
       "<table border=\"1\" class=\"dataframe\">\n",
       "  <thead>\n",
       "    <tr style=\"text-align: right;\">\n",
       "      <th></th>\n",
       "      <th>Date</th>\n",
       "      <th>Price</th>\n",
       "      <th>Quantity</th>\n",
       "      <th>Width</th>\n",
       "      <th>Height</th>\n",
       "      <th>Quality</th>\n",
       "      <th>Score</th>\n",
       "      <th>Difference</th>\n",
       "      <th>Color</th>\n",
       "      <th>Shape</th>\n",
       "    </tr>\n",
       "  </thead>\n",
       "  <tbody>\n",
       "    <tr>\n",
       "      <th>0</th>\n",
       "      <td>1997-07-05</td>\n",
       "      <td>2291</td>\n",
       "      <td>25</td>\n",
       "      <td>2.946650</td>\n",
       "      <td>5.305868</td>\n",
       "      <td>45.893300</td>\n",
       "      <td>52.762659</td>\n",
       "      <td>0.276266</td>\n",
       "      <td>green</td>\n",
       "      <td>triangle</td>\n",
       "    </tr>\n",
       "    <tr>\n",
       "      <th>1</th>\n",
       "      <td>1997-07-06</td>\n",
       "      <td>506</td>\n",
       "      <td>16</td>\n",
       "      <td>1.915208</td>\n",
       "      <td>0.679004</td>\n",
       "      <td>50.611735</td>\n",
       "      <td>31.453719</td>\n",
       "      <td>-1.854628</td>\n",
       "      <td>blue</td>\n",
       "      <td>triangle</td>\n",
       "    </tr>\n",
       "    <tr>\n",
       "      <th>2</th>\n",
       "      <td>1997-07-07</td>\n",
       "      <td>9629</td>\n",
       "      <td>32</td>\n",
       "      <td>7.869855</td>\n",
       "      <td>6.563335</td>\n",
       "      <td>43.830416</td>\n",
       "      <td>56.239011</td>\n",
       "      <td>0.623901</td>\n",
       "      <td>blue</td>\n",
       "      <td>square</td>\n",
       "    </tr>\n",
       "    <tr>\n",
       "      <th>3</th>\n",
       "      <td>1997-07-08</td>\n",
       "      <td>6161</td>\n",
       "      <td>67</td>\n",
       "      <td>6.375209</td>\n",
       "      <td>5.756029</td>\n",
       "      <td>41.358007</td>\n",
       "      <td>61.453113</td>\n",
       "      <td>1.145311</td>\n",
       "      <td>green</td>\n",
       "      <td>square</td>\n",
       "    </tr>\n",
       "    <tr>\n",
       "      <th>4</th>\n",
       "      <td>1997-07-09</td>\n",
       "      <td>8570</td>\n",
       "      <td>55</td>\n",
       "      <td>0.390629</td>\n",
       "      <td>3.578136</td>\n",
       "      <td>55.739709</td>\n",
       "      <td>60.371905</td>\n",
       "      <td>1.037190</td>\n",
       "      <td>red</td>\n",
       "      <td>square</td>\n",
       "    </tr>\n",
       "    <tr>\n",
       "      <th>...</th>\n",
       "      <td>...</td>\n",
       "      <td>...</td>\n",
       "      <td>...</td>\n",
       "      <td>...</td>\n",
       "      <td>...</td>\n",
       "      <td>...</td>\n",
       "      <td>...</td>\n",
       "      <td>...</td>\n",
       "      <td>...</td>\n",
       "      <td>...</td>\n",
       "    </tr>\n",
       "    <tr>\n",
       "      <th>95</th>\n",
       "      <td>1997-10-08</td>\n",
       "      <td>4285</td>\n",
       "      <td>50</td>\n",
       "      <td>9.133029</td>\n",
       "      <td>5.902204</td>\n",
       "      <td>41.603027</td>\n",
       "      <td>61.307264</td>\n",
       "      <td>1.130726</td>\n",
       "      <td>blue</td>\n",
       "      <td>circle</td>\n",
       "    </tr>\n",
       "    <tr>\n",
       "      <th>96</th>\n",
       "      <td>1997-10-09</td>\n",
       "      <td>9714</td>\n",
       "      <td>76</td>\n",
       "      <td>1.711943</td>\n",
       "      <td>7.144745</td>\n",
       "      <td>57.420940</td>\n",
       "      <td>55.600397</td>\n",
       "      <td>0.560040</td>\n",
       "      <td>red</td>\n",
       "      <td>triangle</td>\n",
       "    </tr>\n",
       "    <tr>\n",
       "      <th>97</th>\n",
       "      <td>1997-10-10</td>\n",
       "      <td>5113</td>\n",
       "      <td>62</td>\n",
       "      <td>2.384461</td>\n",
       "      <td>9.218051</td>\n",
       "      <td>54.261728</td>\n",
       "      <td>43.816027</td>\n",
       "      <td>-0.618397</td>\n",
       "      <td>blue</td>\n",
       "      <td>square</td>\n",
       "    </tr>\n",
       "    <tr>\n",
       "      <th>98</th>\n",
       "      <td>1997-10-11</td>\n",
       "      <td>5916</td>\n",
       "      <td>57</td>\n",
       "      <td>7.212739</td>\n",
       "      <td>6.769230</td>\n",
       "      <td>54.642241</td>\n",
       "      <td>47.752013</td>\n",
       "      <td>-0.224799</td>\n",
       "      <td>blue</td>\n",
       "      <td>circle</td>\n",
       "    </tr>\n",
       "    <tr>\n",
       "      <th>99</th>\n",
       "      <td>1997-10-12</td>\n",
       "      <td>1578</td>\n",
       "      <td>77</td>\n",
       "      <td>9.868106</td>\n",
       "      <td>5.397452</td>\n",
       "      <td>56.472400</td>\n",
       "      <td>72.159015</td>\n",
       "      <td>2.215901</td>\n",
       "      <td>red</td>\n",
       "      <td>circle</td>\n",
       "    </tr>\n",
       "  </tbody>\n",
       "</table>\n",
       "<p>100 rows × 10 columns</p>\n",
       "</div>"
      ],
      "text/plain": [
       "         Date  Price  Quantity     Width    Height    Quality      Score  \\\n",
       "0  1997-07-05   2291        25  2.946650  5.305868  45.893300  52.762659   \n",
       "1  1997-07-06    506        16  1.915208  0.679004  50.611735  31.453719   \n",
       "2  1997-07-07   9629        32  7.869855  6.563335  43.830416  56.239011   \n",
       "3  1997-07-08   6161        67  6.375209  5.756029  41.358007  61.453113   \n",
       "4  1997-07-09   8570        55  0.390629  3.578136  55.739709  60.371905   \n",
       "..        ...    ...       ...       ...       ...        ...        ...   \n",
       "95 1997-10-08   4285        50  9.133029  5.902204  41.603027  61.307264   \n",
       "96 1997-10-09   9714        76  1.711943  7.144745  57.420940  55.600397   \n",
       "97 1997-10-10   5113        62  2.384461  9.218051  54.261728  43.816027   \n",
       "98 1997-10-11   5916        57  7.212739  6.769230  54.642241  47.752013   \n",
       "99 1997-10-12   1578        77  9.868106  5.397452  56.472400  72.159015   \n",
       "\n",
       "    Difference  Color     Shape  \n",
       "0     0.276266  green  triangle  \n",
       "1    -1.854628   blue  triangle  \n",
       "2     0.623901   blue    square  \n",
       "3     1.145311  green    square  \n",
       "4     1.037190    red    square  \n",
       "..         ...    ...       ...  \n",
       "95    1.130726   blue    circle  \n",
       "96    0.560040    red  triangle  \n",
       "97   -0.618397   blue    square  \n",
       "98   -0.224799   blue    circle  \n",
       "99    2.215901    red    circle  \n",
       "\n",
       "[100 rows x 10 columns]"
      ]
     },
     "execution_count": 28,
     "metadata": {},
     "output_type": "execute_result"
    }
   ],
   "source": [
    "df = pd.concat([sr_date, sr_price, sr_quantity, df_wh,\n",
    "                df_quality, df_score,df_difference, df_cs], axis=1)\n",
    "df"
   ]
  },
  {
   "cell_type": "markdown",
   "id": "174ef27d",
   "metadata": {},
   "source": [
    "DataFrameのサンプル（レコード）の一部を抽出する"
   ]
  },
  {
   "cell_type": "code",
   "execution_count": 29,
   "id": "fc3053fa",
   "metadata": {
    "scrolled": true
   },
   "outputs": [
    {
     "data": {
      "text/html": [
       "<div>\n",
       "<style scoped>\n",
       "    .dataframe tbody tr th:only-of-type {\n",
       "        vertical-align: middle;\n",
       "    }\n",
       "\n",
       "    .dataframe tbody tr th {\n",
       "        vertical-align: top;\n",
       "    }\n",
       "\n",
       "    .dataframe thead th {\n",
       "        text-align: right;\n",
       "    }\n",
       "</style>\n",
       "<table border=\"1\" class=\"dataframe\">\n",
       "  <thead>\n",
       "    <tr style=\"text-align: right;\">\n",
       "      <th></th>\n",
       "      <th>Date</th>\n",
       "      <th>Price</th>\n",
       "      <th>Quantity</th>\n",
       "      <th>Width</th>\n",
       "      <th>Height</th>\n",
       "      <th>Quality</th>\n",
       "      <th>Score</th>\n",
       "      <th>Difference</th>\n",
       "      <th>Color</th>\n",
       "      <th>Shape</th>\n",
       "    </tr>\n",
       "  </thead>\n",
       "  <tbody>\n",
       "    <tr>\n",
       "      <th>0</th>\n",
       "      <td>1997-07-05</td>\n",
       "      <td>2291</td>\n",
       "      <td>25</td>\n",
       "      <td>2.946650</td>\n",
       "      <td>5.305868</td>\n",
       "      <td>45.893300</td>\n",
       "      <td>52.762659</td>\n",
       "      <td>0.276266</td>\n",
       "      <td>green</td>\n",
       "      <td>triangle</td>\n",
       "    </tr>\n",
       "    <tr>\n",
       "      <th>1</th>\n",
       "      <td>1997-07-06</td>\n",
       "      <td>506</td>\n",
       "      <td>16</td>\n",
       "      <td>1.915208</td>\n",
       "      <td>0.679004</td>\n",
       "      <td>50.611735</td>\n",
       "      <td>31.453719</td>\n",
       "      <td>-1.854628</td>\n",
       "      <td>blue</td>\n",
       "      <td>triangle</td>\n",
       "    </tr>\n",
       "    <tr>\n",
       "      <th>2</th>\n",
       "      <td>1997-07-07</td>\n",
       "      <td>9629</td>\n",
       "      <td>32</td>\n",
       "      <td>7.869855</td>\n",
       "      <td>6.563335</td>\n",
       "      <td>43.830416</td>\n",
       "      <td>56.239011</td>\n",
       "      <td>0.623901</td>\n",
       "      <td>blue</td>\n",
       "      <td>square</td>\n",
       "    </tr>\n",
       "    <tr>\n",
       "      <th>3</th>\n",
       "      <td>1997-07-08</td>\n",
       "      <td>6161</td>\n",
       "      <td>67</td>\n",
       "      <td>6.375209</td>\n",
       "      <td>5.756029</td>\n",
       "      <td>41.358007</td>\n",
       "      <td>61.453113</td>\n",
       "      <td>1.145311</td>\n",
       "      <td>green</td>\n",
       "      <td>square</td>\n",
       "    </tr>\n",
       "    <tr>\n",
       "      <th>4</th>\n",
       "      <td>1997-07-09</td>\n",
       "      <td>8570</td>\n",
       "      <td>55</td>\n",
       "      <td>0.390629</td>\n",
       "      <td>3.578136</td>\n",
       "      <td>55.739709</td>\n",
       "      <td>60.371905</td>\n",
       "      <td>1.037190</td>\n",
       "      <td>red</td>\n",
       "      <td>square</td>\n",
       "    </tr>\n",
       "  </tbody>\n",
       "</table>\n",
       "</div>"
      ],
      "text/plain": [
       "        Date  Price  Quantity     Width    Height    Quality      Score  \\\n",
       "0 1997-07-05   2291        25  2.946650  5.305868  45.893300  52.762659   \n",
       "1 1997-07-06    506        16  1.915208  0.679004  50.611735  31.453719   \n",
       "2 1997-07-07   9629        32  7.869855  6.563335  43.830416  56.239011   \n",
       "3 1997-07-08   6161        67  6.375209  5.756029  41.358007  61.453113   \n",
       "4 1997-07-09   8570        55  0.390629  3.578136  55.739709  60.371905   \n",
       "\n",
       "   Difference  Color     Shape  \n",
       "0    0.276266  green  triangle  \n",
       "1   -1.854628   blue  triangle  \n",
       "2    0.623901   blue    square  \n",
       "3    1.145311  green    square  \n",
       "4    1.037190    red    square  "
      ]
     },
     "execution_count": 29,
     "metadata": {},
     "output_type": "execute_result"
    }
   ],
   "source": [
    "df.head()"
   ]
  },
  {
   "cell_type": "code",
   "execution_count": 30,
   "id": "919a02ea-87ba-4d75-a995-f8380d5f23d7",
   "metadata": {},
   "outputs": [
    {
     "data": {
      "text/html": [
       "<div>\n",
       "<style scoped>\n",
       "    .dataframe tbody tr th:only-of-type {\n",
       "        vertical-align: middle;\n",
       "    }\n",
       "\n",
       "    .dataframe tbody tr th {\n",
       "        vertical-align: top;\n",
       "    }\n",
       "\n",
       "    .dataframe thead th {\n",
       "        text-align: right;\n",
       "    }\n",
       "</style>\n",
       "<table border=\"1\" class=\"dataframe\">\n",
       "  <thead>\n",
       "    <tr style=\"text-align: right;\">\n",
       "      <th></th>\n",
       "      <th>Date</th>\n",
       "      <th>Price</th>\n",
       "      <th>Quantity</th>\n",
       "      <th>Width</th>\n",
       "      <th>Height</th>\n",
       "      <th>Quality</th>\n",
       "      <th>Score</th>\n",
       "      <th>Difference</th>\n",
       "      <th>Color</th>\n",
       "      <th>Shape</th>\n",
       "    </tr>\n",
       "  </thead>\n",
       "  <tbody>\n",
       "    <tr>\n",
       "      <th>95</th>\n",
       "      <td>1997-10-08</td>\n",
       "      <td>4285</td>\n",
       "      <td>50</td>\n",
       "      <td>9.133029</td>\n",
       "      <td>5.902204</td>\n",
       "      <td>41.603027</td>\n",
       "      <td>61.307264</td>\n",
       "      <td>1.130726</td>\n",
       "      <td>blue</td>\n",
       "      <td>circle</td>\n",
       "    </tr>\n",
       "    <tr>\n",
       "      <th>96</th>\n",
       "      <td>1997-10-09</td>\n",
       "      <td>9714</td>\n",
       "      <td>76</td>\n",
       "      <td>1.711943</td>\n",
       "      <td>7.144745</td>\n",
       "      <td>57.420940</td>\n",
       "      <td>55.600397</td>\n",
       "      <td>0.560040</td>\n",
       "      <td>red</td>\n",
       "      <td>triangle</td>\n",
       "    </tr>\n",
       "    <tr>\n",
       "      <th>97</th>\n",
       "      <td>1997-10-10</td>\n",
       "      <td>5113</td>\n",
       "      <td>62</td>\n",
       "      <td>2.384461</td>\n",
       "      <td>9.218051</td>\n",
       "      <td>54.261728</td>\n",
       "      <td>43.816027</td>\n",
       "      <td>-0.618397</td>\n",
       "      <td>blue</td>\n",
       "      <td>square</td>\n",
       "    </tr>\n",
       "    <tr>\n",
       "      <th>98</th>\n",
       "      <td>1997-10-11</td>\n",
       "      <td>5916</td>\n",
       "      <td>57</td>\n",
       "      <td>7.212739</td>\n",
       "      <td>6.769230</td>\n",
       "      <td>54.642241</td>\n",
       "      <td>47.752013</td>\n",
       "      <td>-0.224799</td>\n",
       "      <td>blue</td>\n",
       "      <td>circle</td>\n",
       "    </tr>\n",
       "    <tr>\n",
       "      <th>99</th>\n",
       "      <td>1997-10-12</td>\n",
       "      <td>1578</td>\n",
       "      <td>77</td>\n",
       "      <td>9.868106</td>\n",
       "      <td>5.397452</td>\n",
       "      <td>56.472400</td>\n",
       "      <td>72.159015</td>\n",
       "      <td>2.215901</td>\n",
       "      <td>red</td>\n",
       "      <td>circle</td>\n",
       "    </tr>\n",
       "  </tbody>\n",
       "</table>\n",
       "</div>"
      ],
      "text/plain": [
       "         Date  Price  Quantity     Width    Height    Quality      Score  \\\n",
       "95 1997-10-08   4285        50  9.133029  5.902204  41.603027  61.307264   \n",
       "96 1997-10-09   9714        76  1.711943  7.144745  57.420940  55.600397   \n",
       "97 1997-10-10   5113        62  2.384461  9.218051  54.261728  43.816027   \n",
       "98 1997-10-11   5916        57  7.212739  6.769230  54.642241  47.752013   \n",
       "99 1997-10-12   1578        77  9.868106  5.397452  56.472400  72.159015   \n",
       "\n",
       "    Difference Color     Shape  \n",
       "95    1.130726  blue    circle  \n",
       "96    0.560040   red  triangle  \n",
       "97   -0.618397  blue    square  \n",
       "98   -0.224799  blue    circle  \n",
       "99    2.215901   red    circle  "
      ]
     },
     "execution_count": 30,
     "metadata": {},
     "output_type": "execute_result"
    }
   ],
   "source": [
    "df.tail()"
   ]
  },
  {
   "cell_type": "code",
   "execution_count": 31,
   "id": "60a1a527-19d0-4b33-a651-6004fdbd7251",
   "metadata": {},
   "outputs": [
    {
     "data": {
      "text/html": [
       "<div>\n",
       "<style scoped>\n",
       "    .dataframe tbody tr th:only-of-type {\n",
       "        vertical-align: middle;\n",
       "    }\n",
       "\n",
       "    .dataframe tbody tr th {\n",
       "        vertical-align: top;\n",
       "    }\n",
       "\n",
       "    .dataframe thead th {\n",
       "        text-align: right;\n",
       "    }\n",
       "</style>\n",
       "<table border=\"1\" class=\"dataframe\">\n",
       "  <thead>\n",
       "    <tr style=\"text-align: right;\">\n",
       "      <th></th>\n",
       "      <th>Date</th>\n",
       "      <th>Price</th>\n",
       "      <th>Quantity</th>\n",
       "      <th>Width</th>\n",
       "      <th>Height</th>\n",
       "      <th>Quality</th>\n",
       "      <th>Score</th>\n",
       "      <th>Difference</th>\n",
       "      <th>Color</th>\n",
       "      <th>Shape</th>\n",
       "    </tr>\n",
       "  </thead>\n",
       "  <tbody>\n",
       "    <tr>\n",
       "      <th>13</th>\n",
       "      <td>1997-07-18</td>\n",
       "      <td>5863</td>\n",
       "      <td>27</td>\n",
       "      <td>1.509067</td>\n",
       "      <td>0.552414</td>\n",
       "      <td>57.545811</td>\n",
       "      <td>48.619507</td>\n",
       "      <td>-0.138049</td>\n",
       "      <td>green</td>\n",
       "      <td>triangle</td>\n",
       "    </tr>\n",
       "    <tr>\n",
       "      <th>92</th>\n",
       "      <td>1997-10-05</td>\n",
       "      <td>8057</td>\n",
       "      <td>60</td>\n",
       "      <td>5.927891</td>\n",
       "      <td>0.157152</td>\n",
       "      <td>59.760133</td>\n",
       "      <td>78.711269</td>\n",
       "      <td>2.871127</td>\n",
       "      <td>blue</td>\n",
       "      <td>square</td>\n",
       "    </tr>\n",
       "    <tr>\n",
       "      <th>18</th>\n",
       "      <td>1997-07-23</td>\n",
       "      <td>1933</td>\n",
       "      <td>73</td>\n",
       "      <td>6.767624</td>\n",
       "      <td>1.184723</td>\n",
       "      <td>49.670572</td>\n",
       "      <td>39.077701</td>\n",
       "      <td>-1.092230</td>\n",
       "      <td>blue</td>\n",
       "      <td>triangle</td>\n",
       "    </tr>\n",
       "  </tbody>\n",
       "</table>\n",
       "</div>"
      ],
      "text/plain": [
       "         Date  Price  Quantity     Width    Height    Quality      Score  \\\n",
       "13 1997-07-18   5863        27  1.509067  0.552414  57.545811  48.619507   \n",
       "92 1997-10-05   8057        60  5.927891  0.157152  59.760133  78.711269   \n",
       "18 1997-07-23   1933        73  6.767624  1.184723  49.670572  39.077701   \n",
       "\n",
       "    Difference  Color     Shape  \n",
       "13   -0.138049  green  triangle  \n",
       "92    2.871127   blue    square  \n",
       "18   -1.092230   blue  triangle  "
      ]
     },
     "execution_count": 31,
     "metadata": {},
     "output_type": "execute_result"
    }
   ],
   "source": [
    "df.sample(3)"
   ]
  },
  {
   "cell_type": "code",
   "execution_count": 32,
   "id": "37285d86-3a7c-423b-b717-c33bf5f94905",
   "metadata": {},
   "outputs": [
    {
     "data": {
      "text/html": [
       "<div>\n",
       "<style scoped>\n",
       "    .dataframe tbody tr th:only-of-type {\n",
       "        vertical-align: middle;\n",
       "    }\n",
       "\n",
       "    .dataframe tbody tr th {\n",
       "        vertical-align: top;\n",
       "    }\n",
       "\n",
       "    .dataframe thead th {\n",
       "        text-align: right;\n",
       "    }\n",
       "</style>\n",
       "<table border=\"1\" class=\"dataframe\">\n",
       "  <thead>\n",
       "    <tr style=\"text-align: right;\">\n",
       "      <th></th>\n",
       "      <th>Date</th>\n",
       "      <th>Price</th>\n",
       "      <th>Quantity</th>\n",
       "      <th>Width</th>\n",
       "      <th>Height</th>\n",
       "      <th>Quality</th>\n",
       "      <th>Score</th>\n",
       "      <th>Difference</th>\n",
       "      <th>Color</th>\n",
       "      <th>Shape</th>\n",
       "    </tr>\n",
       "  </thead>\n",
       "  <tbody>\n",
       "    <tr>\n",
       "      <th>71</th>\n",
       "      <td>1997-09-14</td>\n",
       "      <td>6801</td>\n",
       "      <td>99</td>\n",
       "      <td>3.606084</td>\n",
       "      <td>1.688734</td>\n",
       "      <td>44.727623</td>\n",
       "      <td>49.963040</td>\n",
       "      <td>-0.003696</td>\n",
       "      <td>blue</td>\n",
       "      <td>square</td>\n",
       "    </tr>\n",
       "    <tr>\n",
       "      <th>28</th>\n",
       "      <td>1997-08-02</td>\n",
       "      <td>3216</td>\n",
       "      <td>15</td>\n",
       "      <td>1.304293</td>\n",
       "      <td>9.843835</td>\n",
       "      <td>54.360744</td>\n",
       "      <td>42.447770</td>\n",
       "      <td>-0.755223</td>\n",
       "      <td>green</td>\n",
       "      <td>circle</td>\n",
       "    </tr>\n",
       "    <tr>\n",
       "      <th>9</th>\n",
       "      <td>1997-07-14</td>\n",
       "      <td>1874</td>\n",
       "      <td>94</td>\n",
       "      <td>4.835286</td>\n",
       "      <td>2.829882</td>\n",
       "      <td>47.156272</td>\n",
       "      <td>45.622168</td>\n",
       "      <td>-0.437783</td>\n",
       "      <td>red</td>\n",
       "      <td>circle</td>\n",
       "    </tr>\n",
       "    <tr>\n",
       "      <th>4</th>\n",
       "      <td>1997-07-09</td>\n",
       "      <td>8570</td>\n",
       "      <td>55</td>\n",
       "      <td>0.390629</td>\n",
       "      <td>3.578136</td>\n",
       "      <td>55.739709</td>\n",
       "      <td>60.371905</td>\n",
       "      <td>1.037190</td>\n",
       "      <td>red</td>\n",
       "      <td>square</td>\n",
       "    </tr>\n",
       "    <tr>\n",
       "      <th>73</th>\n",
       "      <td>1997-09-16</td>\n",
       "      <td>6354</td>\n",
       "      <td>84</td>\n",
       "      <td>7.945283</td>\n",
       "      <td>7.917093</td>\n",
       "      <td>54.312865</td>\n",
       "      <td>56.844951</td>\n",
       "      <td>0.684495</td>\n",
       "      <td>green</td>\n",
       "      <td>triangle</td>\n",
       "    </tr>\n",
       "    <tr>\n",
       "      <th>...</th>\n",
       "      <td>...</td>\n",
       "      <td>...</td>\n",
       "      <td>...</td>\n",
       "      <td>...</td>\n",
       "      <td>...</td>\n",
       "      <td>...</td>\n",
       "      <td>...</td>\n",
       "      <td>...</td>\n",
       "      <td>...</td>\n",
       "      <td>...</td>\n",
       "    </tr>\n",
       "    <tr>\n",
       "      <th>45</th>\n",
       "      <td>1997-08-19</td>\n",
       "      <td>7708</td>\n",
       "      <td>36</td>\n",
       "      <td>5.156806</td>\n",
       "      <td>5.698250</td>\n",
       "      <td>54.871535</td>\n",
       "      <td>50.991466</td>\n",
       "      <td>0.099147</td>\n",
       "      <td>blue</td>\n",
       "      <td>triangle</td>\n",
       "    </tr>\n",
       "    <tr>\n",
       "      <th>57</th>\n",
       "      <td>1997-08-31</td>\n",
       "      <td>639</td>\n",
       "      <td>30</td>\n",
       "      <td>9.479230</td>\n",
       "      <td>1.300150</td>\n",
       "      <td>59.687671</td>\n",
       "      <td>61.854042</td>\n",
       "      <td>1.185404</td>\n",
       "      <td>red</td>\n",
       "      <td>triangle</td>\n",
       "    </tr>\n",
       "    <tr>\n",
       "      <th>22</th>\n",
       "      <td>1997-07-27</td>\n",
       "      <td>8521</td>\n",
       "      <td>67</td>\n",
       "      <td>7.187761</td>\n",
       "      <td>7.435768</td>\n",
       "      <td>47.920949</td>\n",
       "      <td>54.913338</td>\n",
       "      <td>0.491334</td>\n",
       "      <td>green</td>\n",
       "      <td>square</td>\n",
       "    </tr>\n",
       "    <tr>\n",
       "      <th>6</th>\n",
       "      <td>1997-07-11</td>\n",
       "      <td>3723</td>\n",
       "      <td>41</td>\n",
       "      <td>8.640421</td>\n",
       "      <td>8.772905</td>\n",
       "      <td>52.750418</td>\n",
       "      <td>48.883017</td>\n",
       "      <td>-0.111698</td>\n",
       "      <td>blue</td>\n",
       "      <td>circle</td>\n",
       "    </tr>\n",
       "    <tr>\n",
       "      <th>15</th>\n",
       "      <td>1997-07-20</td>\n",
       "      <td>7530</td>\n",
       "      <td>66</td>\n",
       "      <td>1.987739</td>\n",
       "      <td>8.313639</td>\n",
       "      <td>53.048372</td>\n",
       "      <td>32.247177</td>\n",
       "      <td>-1.775282</td>\n",
       "      <td>blue</td>\n",
       "      <td>square</td>\n",
       "    </tr>\n",
       "  </tbody>\n",
       "</table>\n",
       "<p>100 rows × 10 columns</p>\n",
       "</div>"
      ],
      "text/plain": [
       "         Date  Price  Quantity     Width    Height    Quality      Score  \\\n",
       "71 1997-09-14   6801        99  3.606084  1.688734  44.727623  49.963040   \n",
       "28 1997-08-02   3216        15  1.304293  9.843835  54.360744  42.447770   \n",
       "9  1997-07-14   1874        94  4.835286  2.829882  47.156272  45.622168   \n",
       "4  1997-07-09   8570        55  0.390629  3.578136  55.739709  60.371905   \n",
       "73 1997-09-16   6354        84  7.945283  7.917093  54.312865  56.844951   \n",
       "..        ...    ...       ...       ...       ...        ...        ...   \n",
       "45 1997-08-19   7708        36  5.156806  5.698250  54.871535  50.991466   \n",
       "57 1997-08-31    639        30  9.479230  1.300150  59.687671  61.854042   \n",
       "22 1997-07-27   8521        67  7.187761  7.435768  47.920949  54.913338   \n",
       "6  1997-07-11   3723        41  8.640421  8.772905  52.750418  48.883017   \n",
       "15 1997-07-20   7530        66  1.987739  8.313639  53.048372  32.247177   \n",
       "\n",
       "    Difference  Color     Shape  \n",
       "71   -0.003696   blue    square  \n",
       "28   -0.755223  green    circle  \n",
       "9    -0.437783    red    circle  \n",
       "4     1.037190    red    square  \n",
       "73    0.684495  green  triangle  \n",
       "..         ...    ...       ...  \n",
       "45    0.099147   blue  triangle  \n",
       "57    1.185404    red  triangle  \n",
       "22    0.491334  green    square  \n",
       "6    -0.111698   blue    circle  \n",
       "15   -1.775282   blue    square  \n",
       "\n",
       "[100 rows x 10 columns]"
      ]
     },
     "execution_count": 32,
     "metadata": {},
     "output_type": "execute_result"
    }
   ],
   "source": [
    "df.sample(frac=1, random_state=17)"
   ]
  },
  {
   "cell_type": "code",
   "execution_count": 33,
   "id": "0e6b4e16-aecc-4c22-91de-69c8380f063f",
   "metadata": {},
   "outputs": [],
   "source": [
    "# pd.set_option('display.max_rows', 100)\n",
    "# pd.set_option('display.max_columns', 100)"
   ]
  },
  {
   "cell_type": "markdown",
   "id": "9b716def",
   "metadata": {},
   "source": [
    "---\n",
    "<a id=2></a>\n",
    "[Topへ](#0)\n",
    "\n",
    "---\n",
    "## 2.SeriesとDataFrame"
   ]
  },
  {
   "cell_type": "markdown",
   "id": "3a0b885a",
   "metadata": {},
   "source": [
    "* SeriesとDataFrameの関係性\n",
    "* Series、DataFrameをndarrayに変換\n",
    "* Series、DataFrameをlistに変換\n",
    "* Series、DataFrameをdictionaryに変換\n",
    "* Seriesの作成\n",
    "* DataFrameの作成\n",
    "---"
   ]
  },
  {
   "cell_type": "markdown",
   "id": "3a4878ac",
   "metadata": {},
   "source": [
    "SeriesとDataFrameの関係性"
   ]
  },
  {
   "cell_type": "code",
   "execution_count": 34,
   "id": "93673e23",
   "metadata": {},
   "outputs": [
    {
     "data": {
      "text/plain": [
       "0    2291\n",
       "1     506\n",
       "2    9629\n",
       "3    6161\n",
       "4    8570\n",
       "Name: Price, dtype: int64"
      ]
     },
     "execution_count": 34,
     "metadata": {},
     "output_type": "execute_result"
    }
   ],
   "source": [
    "sr_price.head()"
   ]
  },
  {
   "cell_type": "code",
   "execution_count": 35,
   "id": "23f30188-ae96-4dfb-be06-575d0ba9ee5f",
   "metadata": {},
   "outputs": [
    {
     "data": {
      "text/plain": [
       "0    2291\n",
       "1     506\n",
       "2    9629\n",
       "3    6161\n",
       "4    8570\n",
       "Name: Price, dtype: int64"
      ]
     },
     "execution_count": 35,
     "metadata": {},
     "output_type": "execute_result"
    }
   ],
   "source": [
    "df[\"Price\"].head()"
   ]
  },
  {
   "cell_type": "code",
   "execution_count": 36,
   "id": "ed7c4098-1010-451b-a1a0-4649307d473d",
   "metadata": {},
   "outputs": [
    {
     "data": {
      "text/plain": [
       "pandas.core.series.Series"
      ]
     },
     "execution_count": 36,
     "metadata": {},
     "output_type": "execute_result"
    }
   ],
   "source": [
    "type(df['Price'])"
   ]
  },
  {
   "cell_type": "code",
   "execution_count": 37,
   "id": "6ff0efc9-683a-4a94-9d1e-d47c934e0833",
   "metadata": {},
   "outputs": [
    {
     "data": {
      "text/plain": [
       "0    2291\n",
       "1     506\n",
       "2    9629\n",
       "3    6161\n",
       "4    8570\n",
       "Name: Price, dtype: int64"
      ]
     },
     "execution_count": 37,
     "metadata": {},
     "output_type": "execute_result"
    }
   ],
   "source": [
    "df.Price.head()"
   ]
  },
  {
   "cell_type": "markdown",
   "id": "efc68bab",
   "metadata": {},
   "source": [
    "Series、DataFrameをndarrayに変換"
   ]
  },
  {
   "cell_type": "code",
   "execution_count": 38,
   "id": "df76f80a",
   "metadata": {},
   "outputs": [
    {
     "data": {
      "text/plain": [
       "array([2291,  506, 9629, 6161, 8570, 9347, 3723, 4664, 3045, 1874, 5916,\n",
       "       2926, 4678, 5863, 8099, 7530, 7434, 8255, 1933, 4893, 3445, 5202,\n",
       "       8521, 4629, 2180, 2977,  266, 5222, 3216, 7194, 7645, 7921, 2716,\n",
       "       4479, 2894, 8119, 9110, 4768, 3180,  535, 2431, 4063, 6307, 1150,\n",
       "       3263, 7708,  722, 1838, 4710, 1429, 3349, 9900, 1584,  888, 4467,\n",
       "       7304, 3649,  639, 3863, 7409, 3193, 1648, 9085,  975, 3773, 7399,\n",
       "       5294, 4513, 1991, 5535, 5523, 6801, 5985, 6354, 1554, 4239, 5511,\n",
       "       4002, 7804, 2343, 4086, 9187, 4236, 2854, 1864, 6035, 7975, 8538,\n",
       "       1702,  860, 2078, 2427, 8057, 7691, 9991, 4285, 9714, 5113, 5916,\n",
       "       1578])"
      ]
     },
     "execution_count": 38,
     "metadata": {},
     "output_type": "execute_result"
    }
   ],
   "source": [
    "df[\"Price\"].values"
   ]
  },
  {
   "cell_type": "code",
   "execution_count": 39,
   "id": "403b1668-22af-4add-97cb-7d2efe3d59ce",
   "metadata": {},
   "outputs": [
    {
     "data": {
      "text/plain": [
       "array([[Timestamp('1997-07-05 00:00:00'), 2291, 25, 2.9466500268710973,\n",
       "        5.305867556052942, 45.893300053742195, 52.76265890021319,\n",
       "        0.27626589002131874, 'green', 'triangle'],\n",
       "       [Timestamp('1997-07-06 00:00:00'), 506, 16, 1.9152078694749486,\n",
       "        0.6790035819129137, 50.61173511210588, 31.45371921193495,\n",
       "        -1.854628078806505, 'blue', 'triangle']], dtype=object)"
      ]
     },
     "execution_count": 39,
     "metadata": {},
     "output_type": "execute_result"
    }
   ],
   "source": [
    "df.values[:2]"
   ]
  },
  {
   "cell_type": "markdown",
   "id": "e377093a",
   "metadata": {},
   "source": [
    "Series、DataFrameをlistに変換"
   ]
  },
  {
   "cell_type": "code",
   "execution_count": 40,
   "id": "95b91e63",
   "metadata": {},
   "outputs": [
    {
     "data": {
      "text/plain": [
       "[2291, 506, 9629, 6161, 8570]"
      ]
     },
     "execution_count": 40,
     "metadata": {},
     "output_type": "execute_result"
    }
   ],
   "source": [
    "df['Price'].tolist()[:5]"
   ]
  },
  {
   "cell_type": "code",
   "execution_count": 41,
   "id": "2635b807-13ef-4f79-8a2f-90bf115567f9",
   "metadata": {},
   "outputs": [
    {
     "data": {
      "text/plain": [
       "[[Timestamp('1997-07-05 00:00:00'),\n",
       "  2291,\n",
       "  25,\n",
       "  2.9466500268710973,\n",
       "  5.305867556052942,\n",
       "  45.893300053742195,\n",
       "  52.76265890021319,\n",
       "  0.27626589002131874,\n",
       "  'green',\n",
       "  'triangle'],\n",
       " [Timestamp('1997-07-06 00:00:00'),\n",
       "  506,\n",
       "  16,\n",
       "  1.9152078694749486,\n",
       "  0.6790035819129137,\n",
       "  50.61173511210588,\n",
       "  31.45371921193495,\n",
       "  -1.854628078806505,\n",
       "  'blue',\n",
       "  'triangle'],\n",
       " [Timestamp('1997-07-07 00:00:00'),\n",
       "  9629,\n",
       "  32,\n",
       "  7.869854599999133,\n",
       "  6.563335217758555,\n",
       "  43.830415738949895,\n",
       "  56.239011113263565,\n",
       "  0.6239011113263563,\n",
       "  'blue',\n",
       "  'square']]"
      ]
     },
     "execution_count": 41,
     "metadata": {},
     "output_type": "execute_result"
    }
   ],
   "source": [
    "df.values.tolist()[:3]"
   ]
  },
  {
   "cell_type": "markdown",
   "id": "2472015d",
   "metadata": {},
   "source": [
    "Series、DataFrameをdictionaryに変換"
   ]
  },
  {
   "cell_type": "code",
   "execution_count": 42,
   "id": "d07a55dc",
   "metadata": {
    "scrolled": true
   },
   "outputs": [
    {
     "data": {
      "text/plain": [
       "{0: 2291,\n",
       " 1: 506,\n",
       " 2: 9629,\n",
       " 3: 6161,\n",
       " 4: 8570,\n",
       " 5: 9347,\n",
       " 6: 3723,\n",
       " 7: 4664,\n",
       " 8: 3045,\n",
       " 9: 1874,\n",
       " 10: 5916,\n",
       " 11: 2926,\n",
       " 12: 4678,\n",
       " 13: 5863,\n",
       " 14: 8099,\n",
       " 15: 7530,\n",
       " 16: 7434,\n",
       " 17: 8255,\n",
       " 18: 1933,\n",
       " 19: 4893,\n",
       " 20: 3445,\n",
       " 21: 5202,\n",
       " 22: 8521,\n",
       " 23: 4629,\n",
       " 24: 2180,\n",
       " 25: 2977,\n",
       " 26: 266,\n",
       " 27: 5222,\n",
       " 28: 3216,\n",
       " 29: 7194,\n",
       " 30: 7645,\n",
       " 31: 7921,\n",
       " 32: 2716,\n",
       " 33: 4479,\n",
       " 34: 2894,\n",
       " 35: 8119,\n",
       " 36: 9110,\n",
       " 37: 4768,\n",
       " 38: 3180,\n",
       " 39: 535,\n",
       " 40: 2431,\n",
       " 41: 4063,\n",
       " 42: 6307,\n",
       " 43: 1150,\n",
       " 44: 3263,\n",
       " 45: 7708,\n",
       " 46: 722,\n",
       " 47: 1838,\n",
       " 48: 4710,\n",
       " 49: 1429,\n",
       " 50: 3349,\n",
       " 51: 9900,\n",
       " 52: 1584,\n",
       " 53: 888,\n",
       " 54: 4467,\n",
       " 55: 7304,\n",
       " 56: 3649,\n",
       " 57: 639,\n",
       " 58: 3863,\n",
       " 59: 7409,\n",
       " 60: 3193,\n",
       " 61: 1648,\n",
       " 62: 9085,\n",
       " 63: 975,\n",
       " 64: 3773,\n",
       " 65: 7399,\n",
       " 66: 5294,\n",
       " 67: 4513,\n",
       " 68: 1991,\n",
       " 69: 5535,\n",
       " 70: 5523,\n",
       " 71: 6801,\n",
       " 72: 5985,\n",
       " 73: 6354,\n",
       " 74: 1554,\n",
       " 75: 4239,\n",
       " 76: 5511,\n",
       " 77: 4002,\n",
       " 78: 7804,\n",
       " 79: 2343,\n",
       " 80: 4086,\n",
       " 81: 9187,\n",
       " 82: 4236,\n",
       " 83: 2854,\n",
       " 84: 1864,\n",
       " 85: 6035,\n",
       " 86: 7975,\n",
       " 87: 8538,\n",
       " 88: 1702,\n",
       " 89: 860,\n",
       " 90: 2078,\n",
       " 91: 2427,\n",
       " 92: 8057,\n",
       " 93: 7691,\n",
       " 94: 9991,\n",
       " 95: 4285,\n",
       " 96: 9714,\n",
       " 97: 5113,\n",
       " 98: 5916,\n",
       " 99: 1578}"
      ]
     },
     "execution_count": 42,
     "metadata": {},
     "output_type": "execute_result"
    }
   ],
   "source": [
    "df['Price'].to_dict()"
   ]
  },
  {
   "cell_type": "code",
   "execution_count": 43,
   "id": "65c1de2c-8307-49d1-9125-1ef8bb5f7216",
   "metadata": {},
   "outputs": [],
   "source": [
    "# df.to_dict()\n",
    "# df.to_dict(orient='records')"
   ]
  },
  {
   "cell_type": "markdown",
   "id": "d2951ede",
   "metadata": {},
   "source": [
    "Seriesの作成"
   ]
  },
  {
   "cell_type": "code",
   "execution_count": 44,
   "id": "6a4459eb",
   "metadata": {},
   "outputs": [
    {
     "data": {
      "text/plain": [
       "A    84\n",
       "B    10\n",
       "C    31\n",
       "D    92\n",
       "E    42\n",
       "F    67\n",
       "G     7\n",
       "H    61\n",
       "Name: sample, dtype: int64"
      ]
     },
     "execution_count": 44,
     "metadata": {},
     "output_type": "execute_result"
    }
   ],
   "source": [
    "arr = np.random.randint(0, 100, 8)\n",
    "pd.Series(arr, name='sample', index=list('ABCDEFGH'))"
   ]
  },
  {
   "cell_type": "code",
   "execution_count": 45,
   "id": "2e6857eb-7d3a-4548-befd-1c3f0d9da63f",
   "metadata": {},
   "outputs": [
    {
     "data": {
      "text/plain": [
       "A    1\n",
       "B    2\n",
       "C    3\n",
       "Name: sample, dtype: int64"
      ]
     },
     "execution_count": 45,
     "metadata": {},
     "output_type": "execute_result"
    }
   ],
   "source": [
    "pd.Series({\"A\":1, \"B\":2, \"C\":3}, name='sample')"
   ]
  },
  {
   "cell_type": "markdown",
   "id": "21e391e4",
   "metadata": {},
   "source": [
    "DataFrameの作成"
   ]
  },
  {
   "cell_type": "code",
   "execution_count": 46,
   "id": "c6ec9798",
   "metadata": {},
   "outputs": [
    {
     "data": {
      "text/html": [
       "<div>\n",
       "<style scoped>\n",
       "    .dataframe tbody tr th:only-of-type {\n",
       "        vertical-align: middle;\n",
       "    }\n",
       "\n",
       "    .dataframe tbody tr th {\n",
       "        vertical-align: top;\n",
       "    }\n",
       "\n",
       "    .dataframe thead th {\n",
       "        text-align: right;\n",
       "    }\n",
       "</style>\n",
       "<table border=\"1\" class=\"dataframe\">\n",
       "  <thead>\n",
       "    <tr style=\"text-align: right;\">\n",
       "      <th></th>\n",
       "      <th>A</th>\n",
       "      <th>B</th>\n",
       "      <th>C</th>\n",
       "    </tr>\n",
       "  </thead>\n",
       "  <tbody>\n",
       "    <tr>\n",
       "      <th>x</th>\n",
       "      <td>1</td>\n",
       "      <td>2</td>\n",
       "      <td>3</td>\n",
       "    </tr>\n",
       "    <tr>\n",
       "      <th>y</th>\n",
       "      <td>10</td>\n",
       "      <td>20</td>\n",
       "      <td>30</td>\n",
       "    </tr>\n",
       "  </tbody>\n",
       "</table>\n",
       "</div>"
      ],
      "text/plain": [
       "    A   B   C\n",
       "x   1   2   3\n",
       "y  10  20  30"
      ]
     },
     "execution_count": 46,
     "metadata": {},
     "output_type": "execute_result"
    }
   ],
   "source": [
    "pd.DataFrame([{\"A\":1, \"B\":2, \"C\":3}, {\"A\":10, \"C\":30, \"B\":20}], \n",
    "             index=[\"x\", \"y\"])"
   ]
  },
  {
   "cell_type": "code",
   "execution_count": 47,
   "id": "76a7616c-2ab5-4af1-b24a-c97778acaaf5",
   "metadata": {},
   "outputs": [
    {
     "data": {
      "text/html": [
       "<div>\n",
       "<style scoped>\n",
       "    .dataframe tbody tr th:only-of-type {\n",
       "        vertical-align: middle;\n",
       "    }\n",
       "\n",
       "    .dataframe tbody tr th {\n",
       "        vertical-align: top;\n",
       "    }\n",
       "\n",
       "    .dataframe thead th {\n",
       "        text-align: right;\n",
       "    }\n",
       "</style>\n",
       "<table border=\"1\" class=\"dataframe\">\n",
       "  <thead>\n",
       "    <tr style=\"text-align: right;\">\n",
       "      <th></th>\n",
       "      <th>0</th>\n",
       "      <th>1</th>\n",
       "      <th>2</th>\n",
       "      <th>3</th>\n",
       "      <th>4</th>\n",
       "      <th>5</th>\n",
       "      <th>6</th>\n",
       "      <th>7</th>\n",
       "      <th>8</th>\n",
       "      <th>9</th>\n",
       "    </tr>\n",
       "  </thead>\n",
       "  <tbody>\n",
       "    <tr>\n",
       "      <th>0</th>\n",
       "      <td>0.132036</td>\n",
       "      <td>0.529263</td>\n",
       "      <td>0.135220</td>\n",
       "      <td>0.276802</td>\n",
       "      <td>0.004602</td>\n",
       "      <td>0.431318</td>\n",
       "      <td>0.233486</td>\n",
       "      <td>0.001938</td>\n",
       "      <td>0.816954</td>\n",
       "      <td>0.617396</td>\n",
       "    </tr>\n",
       "    <tr>\n",
       "      <th>1</th>\n",
       "      <td>-0.483602</td>\n",
       "      <td>0.869613</td>\n",
       "      <td>-0.398346</td>\n",
       "      <td>0.449468</td>\n",
       "      <td>2.978047</td>\n",
       "      <td>0.960284</td>\n",
       "      <td>0.970523</td>\n",
       "      <td>-1.682364</td>\n",
       "      <td>1.329373</td>\n",
       "      <td>-0.654708</td>\n",
       "    </tr>\n",
       "  </tbody>\n",
       "</table>\n",
       "</div>"
      ],
      "text/plain": [
       "          0         1         2         3         4         5         6  \\\n",
       "0  0.132036  0.529263  0.135220  0.276802  0.004602  0.431318  0.233486   \n",
       "1 -0.483602  0.869613 -0.398346  0.449468  2.978047  0.960284  0.970523   \n",
       "\n",
       "          7         8         9  \n",
       "0  0.001938  0.816954  0.617396  \n",
       "1 -1.682364  1.329373 -0.654708  "
      ]
     },
     "execution_count": 47,
     "metadata": {},
     "output_type": "execute_result"
    }
   ],
   "source": [
    "arr1 = np.random.rand(10)\n",
    "arr2 = np.random.randn(10)\n",
    "pd.DataFrame([arr1, arr2])"
   ]
  },
  {
   "cell_type": "markdown",
   "id": "7fcaac03",
   "metadata": {},
   "source": [
    "---\n",
    "<a id=3></a>\n",
    "[Topへ](#0)\n",
    "\n",
    "---\n",
    "## 3.DataFrameの基礎データとaxisの理解"
   ]
  },
  {
   "cell_type": "markdown",
   "id": "c7a44bed",
   "metadata": {},
   "source": [
    "* len(df) : レコード数\n",
    "* df.info() : null, dtypeなど\n",
    "* df.size : 要素数\n",
    "* df.shape : index * columns\n",
    "* df.count : 個数（要素の数）\n",
    "* df.sum() : 合計（要素の値の合計）\n",
    "* axisの理解\n",
    "---"
   ]
  },
  {
   "cell_type": "markdown",
   "id": "e0821cfe",
   "metadata": {},
   "source": [
    "len(df) : レコード数"
   ]
  },
  {
   "cell_type": "code",
   "execution_count": 48,
   "id": "a577dff9",
   "metadata": {},
   "outputs": [
    {
     "data": {
      "text/plain": [
       "100"
      ]
     },
     "execution_count": 48,
     "metadata": {},
     "output_type": "execute_result"
    }
   ],
   "source": [
    "len(df)"
   ]
  },
  {
   "cell_type": "markdown",
   "id": "9c19cadc",
   "metadata": {},
   "source": [
    "df.info() : null, dtypeなど"
   ]
  },
  {
   "cell_type": "code",
   "execution_count": 49,
   "id": "a5ede561",
   "metadata": {
    "scrolled": true
   },
   "outputs": [
    {
     "name": "stdout",
     "output_type": "stream",
     "text": [
      "<class 'pandas.core.frame.DataFrame'>\n",
      "RangeIndex: 100 entries, 0 to 99\n",
      "Data columns (total 10 columns):\n",
      " #   Column      Non-Null Count  Dtype         \n",
      "---  ------      --------------  -----         \n",
      " 0   Date        100 non-null    datetime64[ns]\n",
      " 1   Price       100 non-null    int64         \n",
      " 2   Quantity    100 non-null    int64         \n",
      " 3   Width       100 non-null    float64       \n",
      " 4   Height      100 non-null    float64       \n",
      " 5   Quality     100 non-null    float64       \n",
      " 6   Score       100 non-null    float64       \n",
      " 7   Difference  100 non-null    float64       \n",
      " 8   Color       100 non-null    object        \n",
      " 9   Shape       100 non-null    object        \n",
      "dtypes: datetime64[ns](1), float64(5), int64(2), object(2)\n",
      "memory usage: 7.9+ KB\n"
     ]
    }
   ],
   "source": [
    "df.info()"
   ]
  },
  {
   "cell_type": "markdown",
   "id": "1661cc32",
   "metadata": {},
   "source": [
    "df.size : 要素数"
   ]
  },
  {
   "cell_type": "code",
   "execution_count": 50,
   "id": "8ec49949",
   "metadata": {},
   "outputs": [
    {
     "data": {
      "text/plain": [
       "1000"
      ]
     },
     "execution_count": 50,
     "metadata": {},
     "output_type": "execute_result"
    }
   ],
   "source": [
    "df.size"
   ]
  },
  {
   "cell_type": "markdown",
   "id": "b7a2c4c8",
   "metadata": {},
   "source": [
    "df.shape : index * columns"
   ]
  },
  {
   "cell_type": "code",
   "execution_count": 51,
   "id": "f3c926e7",
   "metadata": {},
   "outputs": [
    {
     "data": {
      "text/plain": [
       "(100, 10)"
      ]
     },
     "execution_count": 51,
     "metadata": {},
     "output_type": "execute_result"
    }
   ],
   "source": [
    "df.shape"
   ]
  },
  {
   "cell_type": "markdown",
   "id": "188eefc8",
   "metadata": {},
   "source": [
    "df.count(): 個数（要素の数）"
   ]
  },
  {
   "cell_type": "code",
   "execution_count": 52,
   "id": "05b6655b",
   "metadata": {},
   "outputs": [
    {
     "data": {
      "text/plain": [
       "Date          100\n",
       "Price         100\n",
       "Quantity      100\n",
       "Width         100\n",
       "Height        100\n",
       "Quality       100\n",
       "Score         100\n",
       "Difference    100\n",
       "Color         100\n",
       "Shape         100\n",
       "dtype: int64"
      ]
     },
     "execution_count": 52,
     "metadata": {},
     "output_type": "execute_result"
    }
   ],
   "source": [
    "df.count()"
   ]
  },
  {
   "cell_type": "code",
   "execution_count": 53,
   "id": "36e3a8ca-98d0-443a-9a43-f41c3b3e94d3",
   "metadata": {},
   "outputs": [],
   "source": [
    "# df.count(axis=1)"
   ]
  },
  {
   "cell_type": "code",
   "execution_count": 54,
   "id": "d0be2d6a-8ba2-481f-888a-3322bb994adf",
   "metadata": {},
   "outputs": [
    {
     "data": {
      "text/plain": [
       "1000"
      ]
     },
     "execution_count": 54,
     "metadata": {},
     "output_type": "execute_result"
    }
   ],
   "source": [
    "df.count().sum()"
   ]
  },
  {
   "cell_type": "code",
   "execution_count": 55,
   "id": "da6ac0c6-2612-4280-8049-3e3ce77cc457",
   "metadata": {},
   "outputs": [
    {
     "data": {
      "text/plain": [
       "10"
      ]
     },
     "execution_count": 55,
     "metadata": {},
     "output_type": "execute_result"
    }
   ],
   "source": [
    "df.count().count()"
   ]
  },
  {
   "cell_type": "code",
   "execution_count": 56,
   "id": "9a20dfd3-770b-4218-b647-b3d54a2fa237",
   "metadata": {},
   "outputs": [
    {
     "data": {
      "text/plain": [
       "pandas.core.series.Series"
      ]
     },
     "execution_count": 56,
     "metadata": {},
     "output_type": "execute_result"
    }
   ],
   "source": [
    "type(df.count())"
   ]
  },
  {
   "cell_type": "markdown",
   "id": "ddbbb4c5",
   "metadata": {},
   "source": [
    "df.sum() : 合計（要素の値の合計）"
   ]
  },
  {
   "cell_type": "code",
   "execution_count": 57,
   "id": "4b4262d8",
   "metadata": {},
   "outputs": [],
   "source": [
    "# TypeErrorが発生する可能性があります。\n",
    "# デフォルトがnumeric_only = Falseに変更されているのがその原因です\n",
    "# エラーが出た場合はこのセルは無視して次に説明をするnumeric_only = Trueを利用して合計値を算出してください"
   ]
  },
  {
   "cell_type": "code",
   "execution_count": 58,
   "id": "a40f73a5-ec86-467e-bfa6-c2365f4d890f",
   "metadata": {},
   "outputs": [
    {
     "name": "stderr",
     "output_type": "stream",
     "text": [
      "/var/folders/vh/fvhqhrh16wzb2dlwf7p5fqyh0000gn/T/ipykernel_22653/1703867807.py:1: FutureWarning: The default value of numeric_only in DataFrame.sum is deprecated. In a future version, it will default to False. In addition, specifying 'numeric_only=None' is deprecated. Select only valid columns or specify the value of numeric_only to silence this warning.\n",
      "  df.sum()\n"
     ]
    },
    {
     "data": {
      "text/plain": [
       "Price                                                    475938\n",
       "Quantity                                                   5014\n",
       "Width                                                517.582747\n",
       "Height                                               512.554742\n",
       "Quality                                             5020.788093\n",
       "Score                                               5111.509794\n",
       "Difference                                            11.150979\n",
       "Color         greenbluebluegreenredgreenblueredredredgreenbl...\n",
       "Shape         triangletrianglesquaresquaresquaretrianglecirc...\n",
       "dtype: object"
      ]
     },
     "execution_count": 58,
     "metadata": {},
     "output_type": "execute_result"
    }
   ],
   "source": [
    "df.sum()"
   ]
  },
  {
   "cell_type": "code",
   "execution_count": 59,
   "id": "d27828ba-3287-4639-9fbe-0db083938365",
   "metadata": {},
   "outputs": [
    {
     "data": {
      "text/plain": [
       "Price         475938.000000\n",
       "Quantity        5014.000000\n",
       "Width            517.582747\n",
       "Height           512.554742\n",
       "Quality         5020.788093\n",
       "Score           5111.509794\n",
       "Difference        11.150979\n",
       "dtype: float64"
      ]
     },
     "execution_count": 59,
     "metadata": {},
     "output_type": "execute_result"
    }
   ],
   "source": [
    "df.sum(numeric_only=True)"
   ]
  },
  {
   "cell_type": "code",
   "execution_count": 60,
   "id": "13f18f0c-536f-4e70-a618-5781ebf1d154",
   "metadata": {},
   "outputs": [
    {
     "data": {
      "text/plain": [
       "Price         475938.000000\n",
       "Quantity        5014.000000\n",
       "Width            517.582747\n",
       "Height           512.554742\n",
       "Quality         5020.788093\n",
       "Score           5111.509794\n",
       "Difference        11.150979\n",
       "dtype: float64"
      ]
     },
     "execution_count": 60,
     "metadata": {},
     "output_type": "execute_result"
    }
   ],
   "source": [
    "df.select_dtypes(include=['int', 'float']).sum()"
   ]
  },
  {
   "cell_type": "code",
   "execution_count": 61,
   "id": "c365eb8b-d193-4c6b-9c7b-d2db1fd7c6c4",
   "metadata": {},
   "outputs": [
    {
     "name": "stderr",
     "output_type": "stream",
     "text": [
      "/var/folders/vh/fvhqhrh16wzb2dlwf7p5fqyh0000gn/T/ipykernel_22653/1541225867.py:1: FutureWarning: Dropping of nuisance columns in DataFrame reductions (with 'numeric_only=None') is deprecated; in a future version this will raise TypeError.  Select only valid columns before calling the reduction.\n",
      "  df.sum(axis=1)[:2]\n"
     ]
    },
    {
     "data": {
      "text/plain": [
       "0    2423.184742\n",
       "1     604.805038\n",
       "dtype: float64"
      ]
     },
     "execution_count": 61,
     "metadata": {},
     "output_type": "execute_result"
    }
   ],
   "source": [
    "df.sum(axis=1)[:2]"
   ]
  },
  {
   "cell_type": "markdown",
   "id": "b2b2ebd1",
   "metadata": {},
   "source": [
    "axisの理解"
   ]
  },
  {
   "cell_type": "code",
   "execution_count": 62,
   "id": "2e966e5c",
   "metadata": {
    "scrolled": true
   },
   "outputs": [
    {
     "data": {
      "text/plain": [
       "array([[ 0,  1,  2,  3],\n",
       "       [ 4,  5,  6,  7],\n",
       "       [ 8,  9, 10, 11]])"
      ]
     },
     "execution_count": 62,
     "metadata": {},
     "output_type": "execute_result"
    }
   ],
   "source": [
    "arr = np.arange(12).reshape(3, 4)\n",
    "arr"
   ]
  },
  {
   "cell_type": "code",
   "execution_count": 63,
   "id": "ee6b5ba3-1bae-46f3-946d-caa8872f677d",
   "metadata": {},
   "outputs": [
    {
     "data": {
      "text/plain": [
       "(3, 4)"
      ]
     },
     "execution_count": 63,
     "metadata": {},
     "output_type": "execute_result"
    }
   ],
   "source": [
    "arr.shape"
   ]
  },
  {
   "cell_type": "code",
   "execution_count": 64,
   "id": "bd2ca314-0066-4f1b-ae48-64deceea5188",
   "metadata": {},
   "outputs": [
    {
     "data": {
      "text/plain": [
       "(66, 11)"
      ]
     },
     "execution_count": 64,
     "metadata": {},
     "output_type": "execute_result"
    }
   ],
   "source": [
    "arr.sum(), arr.max()"
   ]
  },
  {
   "cell_type": "code",
   "execution_count": 65,
   "id": "adaacd07-bcf9-45d4-b610-9826b5267a26",
   "metadata": {},
   "outputs": [
    {
     "data": {
      "text/plain": [
       "(array([12, 15, 18, 21]), array([ 8,  9, 10, 11]))"
      ]
     },
     "execution_count": 65,
     "metadata": {},
     "output_type": "execute_result"
    }
   ],
   "source": [
    "arr.sum(axis=0), arr.max(axis=0)"
   ]
  },
  {
   "cell_type": "code",
   "execution_count": 66,
   "id": "aff73fdb-3778-4854-85e3-b5702a30fb55",
   "metadata": {},
   "outputs": [
    {
     "data": {
      "text/plain": [
       "(array([ 6, 22, 38]), array([ 3,  7, 11]))"
      ]
     },
     "execution_count": 66,
     "metadata": {},
     "output_type": "execute_result"
    }
   ],
   "source": [
    "arr.sum(axis=1), arr.max(axis=1)"
   ]
  },
  {
   "cell_type": "code",
   "execution_count": 67,
   "id": "6e02adb7-d100-4bae-9b4b-23627079ea9b",
   "metadata": {},
   "outputs": [
    {
     "data": {
      "text/plain": [
       "array([[[ 0,  1],\n",
       "        [ 2,  3],\n",
       "        [ 4,  5]],\n",
       "\n",
       "       [[ 6,  7],\n",
       "        [ 8,  9],\n",
       "        [10, 11]]])"
      ]
     },
     "execution_count": 67,
     "metadata": {},
     "output_type": "execute_result"
    }
   ],
   "source": [
    "arr = arr.reshape(2, 3, 2)\n",
    "arr"
   ]
  },
  {
   "cell_type": "code",
   "execution_count": 68,
   "id": "21b63c66-d43c-42a0-b074-b8370586cc31",
   "metadata": {},
   "outputs": [
    {
     "data": {
      "text/plain": [
       "array([[ 1,  5,  9],\n",
       "       [13, 17, 21]])"
      ]
     },
     "execution_count": 68,
     "metadata": {},
     "output_type": "execute_result"
    }
   ],
   "source": [
    "arr.sum(axis=2)"
   ]
  },
  {
   "cell_type": "markdown",
   "id": "0007a8fe",
   "metadata": {},
   "source": [
    "---\n",
    "<a id=4></a>\n",
    "[Topへ](#0)\n",
    "\n",
    "---\n",
    "## 4.IndexとColumnについて"
   ]
  },
  {
   "cell_type": "markdown",
   "id": "cb82e767",
   "metadata": {},
   "source": [
    "* indexとcolumnsの取得\n",
    "* indexの設定とリセット\n",
    "* indexラベル、columnラベルの変更\n",
    "---"
   ]
  },
  {
   "cell_type": "markdown",
   "id": "fdacedbc",
   "metadata": {},
   "source": [
    "indexとcolumnsの取得"
   ]
  },
  {
   "cell_type": "code",
   "execution_count": 69,
   "id": "d6f378e5",
   "metadata": {
    "scrolled": true
   },
   "outputs": [
    {
     "data": {
      "text/plain": [
       "RangeIndex(start=0, stop=100, step=1)"
      ]
     },
     "execution_count": 69,
     "metadata": {},
     "output_type": "execute_result"
    }
   ],
   "source": [
    "df.index"
   ]
  },
  {
   "cell_type": "code",
   "execution_count": 70,
   "id": "46ecb2b3-b235-49a0-bfc2-41a083ea8073",
   "metadata": {},
   "outputs": [
    {
     "data": {
      "text/plain": [
       "array([ 0,  1,  2,  3,  4,  5,  6,  7,  8,  9, 10, 11, 12, 13, 14, 15, 16,\n",
       "       17, 18, 19, 20, 21, 22, 23, 24, 25, 26, 27, 28, 29, 30, 31, 32, 33,\n",
       "       34, 35, 36, 37, 38, 39, 40, 41, 42, 43, 44, 45, 46, 47, 48, 49, 50,\n",
       "       51, 52, 53, 54, 55, 56, 57, 58, 59, 60, 61, 62, 63, 64, 65, 66, 67,\n",
       "       68, 69, 70, 71, 72, 73, 74, 75, 76, 77, 78, 79, 80, 81, 82, 83, 84,\n",
       "       85, 86, 87, 88, 89, 90, 91, 92, 93, 94, 95, 96, 97, 98, 99])"
      ]
     },
     "execution_count": 70,
     "metadata": {},
     "output_type": "execute_result"
    }
   ],
   "source": [
    "df.index.values"
   ]
  },
  {
   "cell_type": "code",
   "execution_count": 71,
   "id": "c3f8f894-26ce-4481-992c-84439cda787f",
   "metadata": {},
   "outputs": [
    {
     "data": {
      "text/plain": [
       "array([ 1,  5,  9, 13, 17])"
      ]
     },
     "execution_count": 71,
     "metadata": {},
     "output_type": "execute_result"
    }
   ],
   "source": [
    "pd.RangeIndex(1, 20, 4).values"
   ]
  },
  {
   "cell_type": "code",
   "execution_count": 72,
   "id": "cbffd603-e46f-49a2-8d74-9738ac9ff5a1",
   "metadata": {},
   "outputs": [
    {
     "data": {
      "text/plain": [
       "Index(['Date', 'Price', 'Quantity', 'Width', 'Height', 'Quality', 'Score',\n",
       "       'Difference', 'Color', 'Shape'],\n",
       "      dtype='object')"
      ]
     },
     "execution_count": 72,
     "metadata": {},
     "output_type": "execute_result"
    }
   ],
   "source": [
    "df.columns"
   ]
  },
  {
   "cell_type": "code",
   "execution_count": 73,
   "id": "add5db02-537c-4982-891e-c8177f056284",
   "metadata": {},
   "outputs": [
    {
     "data": {
      "text/plain": [
       "pandas.core.indexes.base.Index"
      ]
     },
     "execution_count": 73,
     "metadata": {},
     "output_type": "execute_result"
    }
   ],
   "source": [
    "type(df.columns)"
   ]
  },
  {
   "cell_type": "markdown",
   "id": "288f110d",
   "metadata": {},
   "source": [
    "indexの設定とリセット"
   ]
  },
  {
   "cell_type": "code",
   "execution_count": 74,
   "id": "a55dfbf7",
   "metadata": {
    "scrolled": true
   },
   "outputs": [
    {
     "data": {
      "text/html": [
       "<div>\n",
       "<style scoped>\n",
       "    .dataframe tbody tr th:only-of-type {\n",
       "        vertical-align: middle;\n",
       "    }\n",
       "\n",
       "    .dataframe tbody tr th {\n",
       "        vertical-align: top;\n",
       "    }\n",
       "\n",
       "    .dataframe thead th {\n",
       "        text-align: right;\n",
       "    }\n",
       "</style>\n",
       "<table border=\"1\" class=\"dataframe\">\n",
       "  <thead>\n",
       "    <tr style=\"text-align: right;\">\n",
       "      <th></th>\n",
       "      <th>Date</th>\n",
       "      <th>Price</th>\n",
       "      <th>Quantity</th>\n",
       "      <th>Width</th>\n",
       "      <th>Height</th>\n",
       "      <th>Quality</th>\n",
       "      <th>Score</th>\n",
       "      <th>Difference</th>\n",
       "      <th>Color</th>\n",
       "      <th>Shape</th>\n",
       "    </tr>\n",
       "  </thead>\n",
       "  <tbody>\n",
       "    <tr>\n",
       "      <th>0</th>\n",
       "      <td>1997-07-05</td>\n",
       "      <td>2291</td>\n",
       "      <td>25</td>\n",
       "      <td>2.946650</td>\n",
       "      <td>5.305868</td>\n",
       "      <td>45.893300</td>\n",
       "      <td>52.762659</td>\n",
       "      <td>0.276266</td>\n",
       "      <td>green</td>\n",
       "      <td>triangle</td>\n",
       "    </tr>\n",
       "    <tr>\n",
       "      <th>1</th>\n",
       "      <td>1997-07-06</td>\n",
       "      <td>506</td>\n",
       "      <td>16</td>\n",
       "      <td>1.915208</td>\n",
       "      <td>0.679004</td>\n",
       "      <td>50.611735</td>\n",
       "      <td>31.453719</td>\n",
       "      <td>-1.854628</td>\n",
       "      <td>blue</td>\n",
       "      <td>triangle</td>\n",
       "    </tr>\n",
       "    <tr>\n",
       "      <th>2</th>\n",
       "      <td>1997-07-07</td>\n",
       "      <td>9629</td>\n",
       "      <td>32</td>\n",
       "      <td>7.869855</td>\n",
       "      <td>6.563335</td>\n",
       "      <td>43.830416</td>\n",
       "      <td>56.239011</td>\n",
       "      <td>0.623901</td>\n",
       "      <td>blue</td>\n",
       "      <td>square</td>\n",
       "    </tr>\n",
       "  </tbody>\n",
       "</table>\n",
       "</div>"
      ],
      "text/plain": [
       "        Date  Price  Quantity     Width    Height    Quality      Score  \\\n",
       "0 1997-07-05   2291        25  2.946650  5.305868  45.893300  52.762659   \n",
       "1 1997-07-06    506        16  1.915208  0.679004  50.611735  31.453719   \n",
       "2 1997-07-07   9629        32  7.869855  6.563335  43.830416  56.239011   \n",
       "\n",
       "   Difference  Color     Shape  \n",
       "0    0.276266  green  triangle  \n",
       "1   -1.854628   blue  triangle  \n",
       "2    0.623901   blue    square  "
      ]
     },
     "execution_count": 74,
     "metadata": {},
     "output_type": "execute_result"
    }
   ],
   "source": [
    "df.head(3)"
   ]
  },
  {
   "cell_type": "code",
   "execution_count": 75,
   "id": "6c82f8e1-de27-4e92-8431-8ecb09d31d49",
   "metadata": {},
   "outputs": [],
   "source": [
    "df.set_index('Date', inplace=True)"
   ]
  },
  {
   "cell_type": "code",
   "execution_count": 76,
   "id": "ff3c6629-476e-4a55-8326-c88d142ba91c",
   "metadata": {},
   "outputs": [
    {
     "data": {
      "text/html": [
       "<div>\n",
       "<style scoped>\n",
       "    .dataframe tbody tr th:only-of-type {\n",
       "        vertical-align: middle;\n",
       "    }\n",
       "\n",
       "    .dataframe tbody tr th {\n",
       "        vertical-align: top;\n",
       "    }\n",
       "\n",
       "    .dataframe thead th {\n",
       "        text-align: right;\n",
       "    }\n",
       "</style>\n",
       "<table border=\"1\" class=\"dataframe\">\n",
       "  <thead>\n",
       "    <tr style=\"text-align: right;\">\n",
       "      <th></th>\n",
       "      <th>Price</th>\n",
       "      <th>Quantity</th>\n",
       "      <th>Width</th>\n",
       "      <th>Height</th>\n",
       "      <th>Quality</th>\n",
       "      <th>Score</th>\n",
       "      <th>Difference</th>\n",
       "      <th>Color</th>\n",
       "      <th>Shape</th>\n",
       "    </tr>\n",
       "    <tr>\n",
       "      <th>Date</th>\n",
       "      <th></th>\n",
       "      <th></th>\n",
       "      <th></th>\n",
       "      <th></th>\n",
       "      <th></th>\n",
       "      <th></th>\n",
       "      <th></th>\n",
       "      <th></th>\n",
       "      <th></th>\n",
       "    </tr>\n",
       "  </thead>\n",
       "  <tbody>\n",
       "    <tr>\n",
       "      <th>1997-07-05</th>\n",
       "      <td>2291</td>\n",
       "      <td>25</td>\n",
       "      <td>2.946650</td>\n",
       "      <td>5.305868</td>\n",
       "      <td>45.893300</td>\n",
       "      <td>52.762659</td>\n",
       "      <td>0.276266</td>\n",
       "      <td>green</td>\n",
       "      <td>triangle</td>\n",
       "    </tr>\n",
       "    <tr>\n",
       "      <th>1997-07-06</th>\n",
       "      <td>506</td>\n",
       "      <td>16</td>\n",
       "      <td>1.915208</td>\n",
       "      <td>0.679004</td>\n",
       "      <td>50.611735</td>\n",
       "      <td>31.453719</td>\n",
       "      <td>-1.854628</td>\n",
       "      <td>blue</td>\n",
       "      <td>triangle</td>\n",
       "    </tr>\n",
       "    <tr>\n",
       "      <th>1997-07-07</th>\n",
       "      <td>9629</td>\n",
       "      <td>32</td>\n",
       "      <td>7.869855</td>\n",
       "      <td>6.563335</td>\n",
       "      <td>43.830416</td>\n",
       "      <td>56.239011</td>\n",
       "      <td>0.623901</td>\n",
       "      <td>blue</td>\n",
       "      <td>square</td>\n",
       "    </tr>\n",
       "  </tbody>\n",
       "</table>\n",
       "</div>"
      ],
      "text/plain": [
       "            Price  Quantity     Width    Height    Quality      Score  \\\n",
       "Date                                                                    \n",
       "1997-07-05   2291        25  2.946650  5.305868  45.893300  52.762659   \n",
       "1997-07-06    506        16  1.915208  0.679004  50.611735  31.453719   \n",
       "1997-07-07   9629        32  7.869855  6.563335  43.830416  56.239011   \n",
       "\n",
       "            Difference  Color     Shape  \n",
       "Date                                     \n",
       "1997-07-05    0.276266  green  triangle  \n",
       "1997-07-06   -1.854628   blue  triangle  \n",
       "1997-07-07    0.623901   blue    square  "
      ]
     },
     "execution_count": 76,
     "metadata": {},
     "output_type": "execute_result"
    }
   ],
   "source": [
    "df.head(3)"
   ]
  },
  {
   "cell_type": "code",
   "execution_count": 77,
   "id": "3d33606b-30ad-4c55-9c75-15859a82b76b",
   "metadata": {},
   "outputs": [
    {
     "data": {
      "text/html": [
       "<div>\n",
       "<style scoped>\n",
       "    .dataframe tbody tr th:only-of-type {\n",
       "        vertical-align: middle;\n",
       "    }\n",
       "\n",
       "    .dataframe tbody tr th {\n",
       "        vertical-align: top;\n",
       "    }\n",
       "\n",
       "    .dataframe thead th {\n",
       "        text-align: right;\n",
       "    }\n",
       "</style>\n",
       "<table border=\"1\" class=\"dataframe\">\n",
       "  <thead>\n",
       "    <tr style=\"text-align: right;\">\n",
       "      <th></th>\n",
       "      <th>Date</th>\n",
       "      <th>Price</th>\n",
       "      <th>Quantity</th>\n",
       "      <th>Width</th>\n",
       "      <th>Height</th>\n",
       "      <th>Quality</th>\n",
       "      <th>Score</th>\n",
       "      <th>Difference</th>\n",
       "      <th>Color</th>\n",
       "      <th>Shape</th>\n",
       "    </tr>\n",
       "  </thead>\n",
       "  <tbody>\n",
       "    <tr>\n",
       "      <th>0</th>\n",
       "      <td>1997-07-05</td>\n",
       "      <td>2291</td>\n",
       "      <td>25</td>\n",
       "      <td>2.946650</td>\n",
       "      <td>5.305868</td>\n",
       "      <td>45.893300</td>\n",
       "      <td>52.762659</td>\n",
       "      <td>0.276266</td>\n",
       "      <td>green</td>\n",
       "      <td>triangle</td>\n",
       "    </tr>\n",
       "    <tr>\n",
       "      <th>1</th>\n",
       "      <td>1997-07-06</td>\n",
       "      <td>506</td>\n",
       "      <td>16</td>\n",
       "      <td>1.915208</td>\n",
       "      <td>0.679004</td>\n",
       "      <td>50.611735</td>\n",
       "      <td>31.453719</td>\n",
       "      <td>-1.854628</td>\n",
       "      <td>blue</td>\n",
       "      <td>triangle</td>\n",
       "    </tr>\n",
       "    <tr>\n",
       "      <th>2</th>\n",
       "      <td>1997-07-07</td>\n",
       "      <td>9629</td>\n",
       "      <td>32</td>\n",
       "      <td>7.869855</td>\n",
       "      <td>6.563335</td>\n",
       "      <td>43.830416</td>\n",
       "      <td>56.239011</td>\n",
       "      <td>0.623901</td>\n",
       "      <td>blue</td>\n",
       "      <td>square</td>\n",
       "    </tr>\n",
       "  </tbody>\n",
       "</table>\n",
       "</div>"
      ],
      "text/plain": [
       "        Date  Price  Quantity     Width    Height    Quality      Score  \\\n",
       "0 1997-07-05   2291        25  2.946650  5.305868  45.893300  52.762659   \n",
       "1 1997-07-06    506        16  1.915208  0.679004  50.611735  31.453719   \n",
       "2 1997-07-07   9629        32  7.869855  6.563335  43.830416  56.239011   \n",
       "\n",
       "   Difference  Color     Shape  \n",
       "0    0.276266  green  triangle  \n",
       "1   -1.854628   blue  triangle  \n",
       "2    0.623901   blue    square  "
      ]
     },
     "execution_count": 77,
     "metadata": {},
     "output_type": "execute_result"
    }
   ],
   "source": [
    "df.reset_index(inplace=True)\n",
    "df.head(3)"
   ]
  },
  {
   "cell_type": "markdown",
   "id": "3fc836da",
   "metadata": {},
   "source": [
    "indexラベル、columnラベルの変更"
   ]
  },
  {
   "cell_type": "code",
   "execution_count": 78,
   "id": "21bb7ee6",
   "metadata": {},
   "outputs": [],
   "source": [
    "cols = df.columns"
   ]
  },
  {
   "cell_type": "code",
   "execution_count": 79,
   "id": "c4908eff-ba9e-4255-bba1-2a7c5a67b2bb",
   "metadata": {},
   "outputs": [
    {
     "data": {
      "text/html": [
       "<div>\n",
       "<style scoped>\n",
       "    .dataframe tbody tr th:only-of-type {\n",
       "        vertical-align: middle;\n",
       "    }\n",
       "\n",
       "    .dataframe tbody tr th {\n",
       "        vertical-align: top;\n",
       "    }\n",
       "\n",
       "    .dataframe thead th {\n",
       "        text-align: right;\n",
       "    }\n",
       "</style>\n",
       "<table border=\"1\" class=\"dataframe\">\n",
       "  <thead>\n",
       "    <tr style=\"text-align: right;\">\n",
       "      <th></th>\n",
       "      <th>Time</th>\n",
       "      <th>Price</th>\n",
       "      <th>Quantity</th>\n",
       "      <th>Width</th>\n",
       "      <th>Height</th>\n",
       "      <th>Quality</th>\n",
       "      <th>Score</th>\n",
       "      <th>Difference</th>\n",
       "      <th>Color</th>\n",
       "      <th>Shape</th>\n",
       "    </tr>\n",
       "  </thead>\n",
       "  <tbody>\n",
       "    <tr>\n",
       "      <th>ZERO</th>\n",
       "      <td>1997-07-05</td>\n",
       "      <td>2291</td>\n",
       "      <td>25</td>\n",
       "      <td>2.946650</td>\n",
       "      <td>5.305868</td>\n",
       "      <td>45.893300</td>\n",
       "      <td>52.762659</td>\n",
       "      <td>0.276266</td>\n",
       "      <td>green</td>\n",
       "      <td>triangle</td>\n",
       "    </tr>\n",
       "    <tr>\n",
       "      <th>1</th>\n",
       "      <td>1997-07-06</td>\n",
       "      <td>506</td>\n",
       "      <td>16</td>\n",
       "      <td>1.915208</td>\n",
       "      <td>0.679004</td>\n",
       "      <td>50.611735</td>\n",
       "      <td>31.453719</td>\n",
       "      <td>-1.854628</td>\n",
       "      <td>blue</td>\n",
       "      <td>triangle</td>\n",
       "    </tr>\n",
       "    <tr>\n",
       "      <th>2</th>\n",
       "      <td>1997-07-07</td>\n",
       "      <td>9629</td>\n",
       "      <td>32</td>\n",
       "      <td>7.869855</td>\n",
       "      <td>6.563335</td>\n",
       "      <td>43.830416</td>\n",
       "      <td>56.239011</td>\n",
       "      <td>0.623901</td>\n",
       "      <td>blue</td>\n",
       "      <td>square</td>\n",
       "    </tr>\n",
       "    <tr>\n",
       "      <th>3</th>\n",
       "      <td>1997-07-08</td>\n",
       "      <td>6161</td>\n",
       "      <td>67</td>\n",
       "      <td>6.375209</td>\n",
       "      <td>5.756029</td>\n",
       "      <td>41.358007</td>\n",
       "      <td>61.453113</td>\n",
       "      <td>1.145311</td>\n",
       "      <td>green</td>\n",
       "      <td>square</td>\n",
       "    </tr>\n",
       "    <tr>\n",
       "      <th>4</th>\n",
       "      <td>1997-07-09</td>\n",
       "      <td>8570</td>\n",
       "      <td>55</td>\n",
       "      <td>0.390629</td>\n",
       "      <td>3.578136</td>\n",
       "      <td>55.739709</td>\n",
       "      <td>60.371905</td>\n",
       "      <td>1.037190</td>\n",
       "      <td>red</td>\n",
       "      <td>square</td>\n",
       "    </tr>\n",
       "    <tr>\n",
       "      <th>...</th>\n",
       "      <td>...</td>\n",
       "      <td>...</td>\n",
       "      <td>...</td>\n",
       "      <td>...</td>\n",
       "      <td>...</td>\n",
       "      <td>...</td>\n",
       "      <td>...</td>\n",
       "      <td>...</td>\n",
       "      <td>...</td>\n",
       "      <td>...</td>\n",
       "    </tr>\n",
       "    <tr>\n",
       "      <th>95</th>\n",
       "      <td>1997-10-08</td>\n",
       "      <td>4285</td>\n",
       "      <td>50</td>\n",
       "      <td>9.133029</td>\n",
       "      <td>5.902204</td>\n",
       "      <td>41.603027</td>\n",
       "      <td>61.307264</td>\n",
       "      <td>1.130726</td>\n",
       "      <td>blue</td>\n",
       "      <td>circle</td>\n",
       "    </tr>\n",
       "    <tr>\n",
       "      <th>96</th>\n",
       "      <td>1997-10-09</td>\n",
       "      <td>9714</td>\n",
       "      <td>76</td>\n",
       "      <td>1.711943</td>\n",
       "      <td>7.144745</td>\n",
       "      <td>57.420940</td>\n",
       "      <td>55.600397</td>\n",
       "      <td>0.560040</td>\n",
       "      <td>red</td>\n",
       "      <td>triangle</td>\n",
       "    </tr>\n",
       "    <tr>\n",
       "      <th>97</th>\n",
       "      <td>1997-10-10</td>\n",
       "      <td>5113</td>\n",
       "      <td>62</td>\n",
       "      <td>2.384461</td>\n",
       "      <td>9.218051</td>\n",
       "      <td>54.261728</td>\n",
       "      <td>43.816027</td>\n",
       "      <td>-0.618397</td>\n",
       "      <td>blue</td>\n",
       "      <td>square</td>\n",
       "    </tr>\n",
       "    <tr>\n",
       "      <th>98</th>\n",
       "      <td>1997-10-11</td>\n",
       "      <td>5916</td>\n",
       "      <td>57</td>\n",
       "      <td>7.212739</td>\n",
       "      <td>6.769230</td>\n",
       "      <td>54.642241</td>\n",
       "      <td>47.752013</td>\n",
       "      <td>-0.224799</td>\n",
       "      <td>blue</td>\n",
       "      <td>circle</td>\n",
       "    </tr>\n",
       "    <tr>\n",
       "      <th>99</th>\n",
       "      <td>1997-10-12</td>\n",
       "      <td>1578</td>\n",
       "      <td>77</td>\n",
       "      <td>9.868106</td>\n",
       "      <td>5.397452</td>\n",
       "      <td>56.472400</td>\n",
       "      <td>72.159015</td>\n",
       "      <td>2.215901</td>\n",
       "      <td>red</td>\n",
       "      <td>circle</td>\n",
       "    </tr>\n",
       "  </tbody>\n",
       "</table>\n",
       "<p>100 rows × 10 columns</p>\n",
       "</div>"
      ],
      "text/plain": [
       "           Time  Price  Quantity     Width    Height    Quality      Score  \\\n",
       "ZERO 1997-07-05   2291        25  2.946650  5.305868  45.893300  52.762659   \n",
       "1    1997-07-06    506        16  1.915208  0.679004  50.611735  31.453719   \n",
       "2    1997-07-07   9629        32  7.869855  6.563335  43.830416  56.239011   \n",
       "3    1997-07-08   6161        67  6.375209  5.756029  41.358007  61.453113   \n",
       "4    1997-07-09   8570        55  0.390629  3.578136  55.739709  60.371905   \n",
       "...         ...    ...       ...       ...       ...        ...        ...   \n",
       "95   1997-10-08   4285        50  9.133029  5.902204  41.603027  61.307264   \n",
       "96   1997-10-09   9714        76  1.711943  7.144745  57.420940  55.600397   \n",
       "97   1997-10-10   5113        62  2.384461  9.218051  54.261728  43.816027   \n",
       "98   1997-10-11   5916        57  7.212739  6.769230  54.642241  47.752013   \n",
       "99   1997-10-12   1578        77  9.868106  5.397452  56.472400  72.159015   \n",
       "\n",
       "      Difference  Color     Shape  \n",
       "ZERO    0.276266  green  triangle  \n",
       "1      -1.854628   blue  triangle  \n",
       "2       0.623901   blue    square  \n",
       "3       1.145311  green    square  \n",
       "4       1.037190    red    square  \n",
       "...          ...    ...       ...  \n",
       "95      1.130726   blue    circle  \n",
       "96      0.560040    red  triangle  \n",
       "97     -0.618397   blue    square  \n",
       "98     -0.224799   blue    circle  \n",
       "99      2.215901    red    circle  \n",
       "\n",
       "[100 rows x 10 columns]"
      ]
     },
     "execution_count": 79,
     "metadata": {},
     "output_type": "execute_result"
    }
   ],
   "source": [
    "df.rename(index={0:'ZERO'}, columns={'Date':'Time'})"
   ]
  },
  {
   "cell_type": "code",
   "execution_count": 80,
   "id": "3a6eb50a-6cb2-412b-a3c7-f53766d5a7db",
   "metadata": {},
   "outputs": [
    {
     "data": {
      "text/html": [
       "<div>\n",
       "<style scoped>\n",
       "    .dataframe tbody tr th:only-of-type {\n",
       "        vertical-align: middle;\n",
       "    }\n",
       "\n",
       "    .dataframe tbody tr th {\n",
       "        vertical-align: top;\n",
       "    }\n",
       "\n",
       "    .dataframe thead th {\n",
       "        text-align: right;\n",
       "    }\n",
       "</style>\n",
       "<table border=\"1\" class=\"dataframe\">\n",
       "  <thead>\n",
       "    <tr style=\"text-align: right;\">\n",
       "      <th></th>\n",
       "      <th>Date</th>\n",
       "      <th>Price</th>\n",
       "      <th>Quantity</th>\n",
       "      <th>Width</th>\n",
       "      <th>Height</th>\n",
       "      <th>Quality</th>\n",
       "      <th>Score</th>\n",
       "      <th>Difference</th>\n",
       "      <th>Color</th>\n",
       "      <th>Shape</th>\n",
       "    </tr>\n",
       "  </thead>\n",
       "  <tbody>\n",
       "    <tr>\n",
       "      <th>100</th>\n",
       "      <td>1997-07-05</td>\n",
       "      <td>2291</td>\n",
       "      <td>25</td>\n",
       "      <td>2.946650</td>\n",
       "      <td>5.305868</td>\n",
       "      <td>45.893300</td>\n",
       "      <td>52.762659</td>\n",
       "      <td>0.276266</td>\n",
       "      <td>green</td>\n",
       "      <td>triangle</td>\n",
       "    </tr>\n",
       "    <tr>\n",
       "      <th>101</th>\n",
       "      <td>1997-07-06</td>\n",
       "      <td>506</td>\n",
       "      <td>16</td>\n",
       "      <td>1.915208</td>\n",
       "      <td>0.679004</td>\n",
       "      <td>50.611735</td>\n",
       "      <td>31.453719</td>\n",
       "      <td>-1.854628</td>\n",
       "      <td>blue</td>\n",
       "      <td>triangle</td>\n",
       "    </tr>\n",
       "    <tr>\n",
       "      <th>102</th>\n",
       "      <td>1997-07-07</td>\n",
       "      <td>9629</td>\n",
       "      <td>32</td>\n",
       "      <td>7.869855</td>\n",
       "      <td>6.563335</td>\n",
       "      <td>43.830416</td>\n",
       "      <td>56.239011</td>\n",
       "      <td>0.623901</td>\n",
       "      <td>blue</td>\n",
       "      <td>square</td>\n",
       "    </tr>\n",
       "  </tbody>\n",
       "</table>\n",
       "</div>"
      ],
      "text/plain": [
       "          Date  Price  Quantity     Width    Height    Quality      Score  \\\n",
       "100 1997-07-05   2291        25  2.946650  5.305868  45.893300  52.762659   \n",
       "101 1997-07-06    506        16  1.915208  0.679004  50.611735  31.453719   \n",
       "102 1997-07-07   9629        32  7.869855  6.563335  43.830416  56.239011   \n",
       "\n",
       "     Difference  Color     Shape  \n",
       "100    0.276266  green  triangle  \n",
       "101   -1.854628   blue  triangle  \n",
       "102    0.623901   blue    square  "
      ]
     },
     "execution_count": 80,
     "metadata": {},
     "output_type": "execute_result"
    }
   ],
   "source": [
    "df.index = np.arange(100, 200)\n",
    "df.head(3)"
   ]
  },
  {
   "cell_type": "code",
   "execution_count": 81,
   "id": "06f13d6f-07c6-40fc-a02b-b9f9ed5c3856",
   "metadata": {},
   "outputs": [
    {
     "data": {
      "text/html": [
       "<div>\n",
       "<style scoped>\n",
       "    .dataframe tbody tr th:only-of-type {\n",
       "        vertical-align: middle;\n",
       "    }\n",
       "\n",
       "    .dataframe tbody tr th {\n",
       "        vertical-align: top;\n",
       "    }\n",
       "\n",
       "    .dataframe thead th {\n",
       "        text-align: right;\n",
       "    }\n",
       "</style>\n",
       "<table border=\"1\" class=\"dataframe\">\n",
       "  <thead>\n",
       "    <tr style=\"text-align: right;\">\n",
       "      <th></th>\n",
       "      <th>A</th>\n",
       "      <th>B</th>\n",
       "      <th>C</th>\n",
       "      <th>D</th>\n",
       "      <th>E</th>\n",
       "      <th>F</th>\n",
       "      <th>G</th>\n",
       "      <th>H</th>\n",
       "      <th>I</th>\n",
       "      <th>J</th>\n",
       "    </tr>\n",
       "  </thead>\n",
       "  <tbody>\n",
       "    <tr>\n",
       "      <th>100</th>\n",
       "      <td>1997-07-05</td>\n",
       "      <td>2291</td>\n",
       "      <td>25</td>\n",
       "      <td>2.946650</td>\n",
       "      <td>5.305868</td>\n",
       "      <td>45.893300</td>\n",
       "      <td>52.762659</td>\n",
       "      <td>0.276266</td>\n",
       "      <td>green</td>\n",
       "      <td>triangle</td>\n",
       "    </tr>\n",
       "    <tr>\n",
       "      <th>101</th>\n",
       "      <td>1997-07-06</td>\n",
       "      <td>506</td>\n",
       "      <td>16</td>\n",
       "      <td>1.915208</td>\n",
       "      <td>0.679004</td>\n",
       "      <td>50.611735</td>\n",
       "      <td>31.453719</td>\n",
       "      <td>-1.854628</td>\n",
       "      <td>blue</td>\n",
       "      <td>triangle</td>\n",
       "    </tr>\n",
       "    <tr>\n",
       "      <th>102</th>\n",
       "      <td>1997-07-07</td>\n",
       "      <td>9629</td>\n",
       "      <td>32</td>\n",
       "      <td>7.869855</td>\n",
       "      <td>6.563335</td>\n",
       "      <td>43.830416</td>\n",
       "      <td>56.239011</td>\n",
       "      <td>0.623901</td>\n",
       "      <td>blue</td>\n",
       "      <td>square</td>\n",
       "    </tr>\n",
       "  </tbody>\n",
       "</table>\n",
       "</div>"
      ],
      "text/plain": [
       "             A     B   C         D         E          F          G         H  \\\n",
       "100 1997-07-05  2291  25  2.946650  5.305868  45.893300  52.762659  0.276266   \n",
       "101 1997-07-06   506  16  1.915208  0.679004  50.611735  31.453719 -1.854628   \n",
       "102 1997-07-07  9629  32  7.869855  6.563335  43.830416  56.239011  0.623901   \n",
       "\n",
       "         I         J  \n",
       "100  green  triangle  \n",
       "101   blue  triangle  \n",
       "102   blue    square  "
      ]
     },
     "execution_count": 81,
     "metadata": {},
     "output_type": "execute_result"
    }
   ],
   "source": [
    "df.columns = list('ABCDEFGHIJ')\n",
    "df.head(3)"
   ]
  },
  {
   "cell_type": "code",
   "execution_count": 82,
   "id": "1eb49f3f-b30b-4a64-aadf-342d0fd04d85",
   "metadata": {},
   "outputs": [
    {
     "data": {
      "text/html": [
       "<div>\n",
       "<style scoped>\n",
       "    .dataframe tbody tr th:only-of-type {\n",
       "        vertical-align: middle;\n",
       "    }\n",
       "\n",
       "    .dataframe tbody tr th {\n",
       "        vertical-align: top;\n",
       "    }\n",
       "\n",
       "    .dataframe thead th {\n",
       "        text-align: right;\n",
       "    }\n",
       "</style>\n",
       "<table border=\"1\" class=\"dataframe\">\n",
       "  <thead>\n",
       "    <tr style=\"text-align: right;\">\n",
       "      <th></th>\n",
       "      <th>#A</th>\n",
       "      <th>#B</th>\n",
       "      <th>#C</th>\n",
       "      <th>#D</th>\n",
       "      <th>#E</th>\n",
       "      <th>#F</th>\n",
       "      <th>#G</th>\n",
       "      <th>#H</th>\n",
       "      <th>#I</th>\n",
       "      <th>#J</th>\n",
       "    </tr>\n",
       "  </thead>\n",
       "  <tbody>\n",
       "    <tr>\n",
       "      <th>100</th>\n",
       "      <td>1997-07-05</td>\n",
       "      <td>2291</td>\n",
       "      <td>25</td>\n",
       "      <td>2.946650</td>\n",
       "      <td>5.305868</td>\n",
       "      <td>45.893300</td>\n",
       "      <td>52.762659</td>\n",
       "      <td>0.276266</td>\n",
       "      <td>green</td>\n",
       "      <td>triangle</td>\n",
       "    </tr>\n",
       "    <tr>\n",
       "      <th>101</th>\n",
       "      <td>1997-07-06</td>\n",
       "      <td>506</td>\n",
       "      <td>16</td>\n",
       "      <td>1.915208</td>\n",
       "      <td>0.679004</td>\n",
       "      <td>50.611735</td>\n",
       "      <td>31.453719</td>\n",
       "      <td>-1.854628</td>\n",
       "      <td>blue</td>\n",
       "      <td>triangle</td>\n",
       "    </tr>\n",
       "    <tr>\n",
       "      <th>102</th>\n",
       "      <td>1997-07-07</td>\n",
       "      <td>9629</td>\n",
       "      <td>32</td>\n",
       "      <td>7.869855</td>\n",
       "      <td>6.563335</td>\n",
       "      <td>43.830416</td>\n",
       "      <td>56.239011</td>\n",
       "      <td>0.623901</td>\n",
       "      <td>blue</td>\n",
       "      <td>square</td>\n",
       "    </tr>\n",
       "  </tbody>\n",
       "</table>\n",
       "</div>"
      ],
      "text/plain": [
       "            #A    #B  #C        #D        #E         #F         #G        #H  \\\n",
       "100 1997-07-05  2291  25  2.946650  5.305868  45.893300  52.762659  0.276266   \n",
       "101 1997-07-06   506  16  1.915208  0.679004  50.611735  31.453719 -1.854628   \n",
       "102 1997-07-07  9629  32  7.869855  6.563335  43.830416  56.239011  0.623901   \n",
       "\n",
       "        #I        #J  \n",
       "100  green  triangle  \n",
       "101   blue  triangle  \n",
       "102   blue    square  "
      ]
     },
     "execution_count": 82,
     "metadata": {},
     "output_type": "execute_result"
    }
   ],
   "source": [
    "df = df.add_prefix('#')\n",
    "df.head(3)\n",
    "# suffix"
   ]
  },
  {
   "cell_type": "code",
   "execution_count": 83,
   "id": "35c198a9-05ba-4020-a02a-03299ec121fb",
   "metadata": {},
   "outputs": [
    {
     "data": {
      "text/html": [
       "<div>\n",
       "<style scoped>\n",
       "    .dataframe tbody tr th:only-of-type {\n",
       "        vertical-align: middle;\n",
       "    }\n",
       "\n",
       "    .dataframe tbody tr th {\n",
       "        vertical-align: top;\n",
       "    }\n",
       "\n",
       "    .dataframe thead th {\n",
       "        text-align: right;\n",
       "    }\n",
       "</style>\n",
       "<table border=\"1\" class=\"dataframe\">\n",
       "  <thead>\n",
       "    <tr style=\"text-align: right;\">\n",
       "      <th></th>\n",
       "      <th>#A</th>\n",
       "      <th>#B</th>\n",
       "      <th>#C</th>\n",
       "      <th>#D</th>\n",
       "      <th>#E</th>\n",
       "      <th>#F</th>\n",
       "      <th>#G</th>\n",
       "      <th>#H</th>\n",
       "      <th>#I</th>\n",
       "      <th>#J</th>\n",
       "    </tr>\n",
       "  </thead>\n",
       "  <tbody>\n",
       "    <tr>\n",
       "      <th>0</th>\n",
       "      <td>1997-07-05</td>\n",
       "      <td>2291</td>\n",
       "      <td>25</td>\n",
       "      <td>2.946650</td>\n",
       "      <td>5.305868</td>\n",
       "      <td>45.893300</td>\n",
       "      <td>52.762659</td>\n",
       "      <td>0.276266</td>\n",
       "      <td>green</td>\n",
       "      <td>triangle</td>\n",
       "    </tr>\n",
       "    <tr>\n",
       "      <th>1</th>\n",
       "      <td>1997-07-06</td>\n",
       "      <td>506</td>\n",
       "      <td>16</td>\n",
       "      <td>1.915208</td>\n",
       "      <td>0.679004</td>\n",
       "      <td>50.611735</td>\n",
       "      <td>31.453719</td>\n",
       "      <td>-1.854628</td>\n",
       "      <td>blue</td>\n",
       "      <td>triangle</td>\n",
       "    </tr>\n",
       "    <tr>\n",
       "      <th>2</th>\n",
       "      <td>1997-07-07</td>\n",
       "      <td>9629</td>\n",
       "      <td>32</td>\n",
       "      <td>7.869855</td>\n",
       "      <td>6.563335</td>\n",
       "      <td>43.830416</td>\n",
       "      <td>56.239011</td>\n",
       "      <td>0.623901</td>\n",
       "      <td>blue</td>\n",
       "      <td>square</td>\n",
       "    </tr>\n",
       "  </tbody>\n",
       "</table>\n",
       "</div>"
      ],
      "text/plain": [
       "          #A    #B  #C        #D        #E         #F         #G        #H  \\\n",
       "0 1997-07-05  2291  25  2.946650  5.305868  45.893300  52.762659  0.276266   \n",
       "1 1997-07-06   506  16  1.915208  0.679004  50.611735  31.453719 -1.854628   \n",
       "2 1997-07-07  9629  32  7.869855  6.563335  43.830416  56.239011  0.623901   \n",
       "\n",
       "      #I        #J  \n",
       "0  green  triangle  \n",
       "1   blue  triangle  \n",
       "2   blue    square  "
      ]
     },
     "execution_count": 83,
     "metadata": {},
     "output_type": "execute_result"
    }
   ],
   "source": [
    "df.reset_index(inplace=True, drop=True)\n",
    "df.head(3)"
   ]
  },
  {
   "cell_type": "code",
   "execution_count": 86,
   "id": "8b87dd48-4ca0-489b-bf67-6496c1339566",
   "metadata": {},
   "outputs": [
    {
     "data": {
      "text/html": [
       "<div>\n",
       "<style scoped>\n",
       "    .dataframe tbody tr th:only-of-type {\n",
       "        vertical-align: middle;\n",
       "    }\n",
       "\n",
       "    .dataframe tbody tr th {\n",
       "        vertical-align: top;\n",
       "    }\n",
       "\n",
       "    .dataframe thead th {\n",
       "        text-align: right;\n",
       "    }\n",
       "</style>\n",
       "<table border=\"1\" class=\"dataframe\">\n",
       "  <thead>\n",
       "    <tr style=\"text-align: right;\">\n",
       "      <th></th>\n",
       "      <th>Date</th>\n",
       "      <th>Price</th>\n",
       "      <th>Quantity</th>\n",
       "      <th>Width</th>\n",
       "      <th>Height</th>\n",
       "      <th>Quality</th>\n",
       "      <th>Score</th>\n",
       "      <th>Difference</th>\n",
       "      <th>Color</th>\n",
       "      <th>Shape</th>\n",
       "    </tr>\n",
       "  </thead>\n",
       "  <tbody>\n",
       "    <tr>\n",
       "      <th>0</th>\n",
       "      <td>1997-07-05</td>\n",
       "      <td>2291</td>\n",
       "      <td>25</td>\n",
       "      <td>2.946650</td>\n",
       "      <td>5.305868</td>\n",
       "      <td>45.893300</td>\n",
       "      <td>52.762659</td>\n",
       "      <td>0.276266</td>\n",
       "      <td>green</td>\n",
       "      <td>triangle</td>\n",
       "    </tr>\n",
       "    <tr>\n",
       "      <th>1</th>\n",
       "      <td>1997-07-06</td>\n",
       "      <td>506</td>\n",
       "      <td>16</td>\n",
       "      <td>1.915208</td>\n",
       "      <td>0.679004</td>\n",
       "      <td>50.611735</td>\n",
       "      <td>31.453719</td>\n",
       "      <td>-1.854628</td>\n",
       "      <td>blue</td>\n",
       "      <td>triangle</td>\n",
       "    </tr>\n",
       "    <tr>\n",
       "      <th>2</th>\n",
       "      <td>1997-07-07</td>\n",
       "      <td>9629</td>\n",
       "      <td>32</td>\n",
       "      <td>7.869855</td>\n",
       "      <td>6.563335</td>\n",
       "      <td>43.830416</td>\n",
       "      <td>56.239011</td>\n",
       "      <td>0.623901</td>\n",
       "      <td>blue</td>\n",
       "      <td>square</td>\n",
       "    </tr>\n",
       "  </tbody>\n",
       "</table>\n",
       "</div>"
      ],
      "text/plain": [
       "        Date  Price  Quantity     Width    Height    Quality      Score  \\\n",
       "0 1997-07-05   2291        25  2.946650  5.305868  45.893300  52.762659   \n",
       "1 1997-07-06    506        16  1.915208  0.679004  50.611735  31.453719   \n",
       "2 1997-07-07   9629        32  7.869855  6.563335  43.830416  56.239011   \n",
       "\n",
       "   Difference  Color     Shape  \n",
       "0    0.276266  green  triangle  \n",
       "1   -1.854628   blue  triangle  \n",
       "2    0.623901   blue    square  "
      ]
     },
     "execution_count": 86,
     "metadata": {},
     "output_type": "execute_result"
    }
   ],
   "source": [
    "df.columns = cols\n",
    "df.head(3)"
   ]
  },
  {
   "cell_type": "markdown",
   "id": "cb604e7b",
   "metadata": {},
   "source": [
    "---\n",
    "<a id=5></a>\n",
    "[Topへ](#0)\n",
    "\n",
    "---\n",
    "## 5.欠損値"
   ]
  },
  {
   "cell_type": "markdown",
   "id": "608d2bdf",
   "metadata": {},
   "source": [
    "* None, null, np.nanを確認\n",
    "* DataFrameの欠損値はNoneもしくはnp.nanで置き換える\n",
    "* df.isnull()の使い方\n",
    "* 欠損値のある行を表示\n",
    "* nullは平均値の計算などに影響するか\n",
    "* 欠損値を視覚化\n",
    "---"
   ]
  },
  {
   "cell_type": "markdown",
   "id": "1a69e05a",
   "metadata": {},
   "source": [
    "None, null, np.nanを確認"
   ]
  },
  {
   "cell_type": "code",
   "execution_count": 87,
   "id": "fd1ca400",
   "metadata": {},
   "outputs": [
    {
     "name": "stdout",
     "output_type": "stream",
     "text": [
      "None\n"
     ]
    }
   ],
   "source": [
    "print(None)"
   ]
  },
  {
   "cell_type": "code",
   "execution_count": 91,
   "id": "64810372-c08b-4988-8f19-d9bdab5c0e19",
   "metadata": {},
   "outputs": [
    {
     "name": "stdout",
     "output_type": "stream",
     "text": [
      "nan\n"
     ]
    }
   ],
   "source": [
    "print(np.nan)"
   ]
  },
  {
   "cell_type": "markdown",
   "id": "063e6357",
   "metadata": {},
   "source": [
    "DataFrameの欠損値はNoneもしくはnp.nanで置き換える"
   ]
  },
  {
   "cell_type": "code",
   "execution_count": 92,
   "id": "62da6db6",
   "metadata": {},
   "outputs": [],
   "source": [
    "null_values = [None, np.nan]"
   ]
  },
  {
   "cell_type": "code",
   "execution_count": 94,
   "id": "a6ebc9ba-661f-4f8e-ad10-ff38c0716403",
   "metadata": {},
   "outputs": [],
   "source": [
    "for i in range(30):\n",
    "    np.random.seed(i)\n",
    "    s = np.random.randint(0, 100)\n",
    "    t = np.random.randint(0, 10)\n",
    "    u = np.random.randint(0, 2)\n",
    "    df.iloc[s, t] = null_values[u]"
   ]
  },
  {
   "cell_type": "code",
   "execution_count": 96,
   "id": "23ff5606-ce49-4b93-b7f0-128244650282",
   "metadata": {},
   "outputs": [
    {
     "data": {
      "text/html": [
       "<div>\n",
       "<style scoped>\n",
       "    .dataframe tbody tr th:only-of-type {\n",
       "        vertical-align: middle;\n",
       "    }\n",
       "\n",
       "    .dataframe tbody tr th {\n",
       "        vertical-align: top;\n",
       "    }\n",
       "\n",
       "    .dataframe thead th {\n",
       "        text-align: right;\n",
       "    }\n",
       "</style>\n",
       "<table border=\"1\" class=\"dataframe\">\n",
       "  <thead>\n",
       "    <tr style=\"text-align: right;\">\n",
       "      <th></th>\n",
       "      <th>Date</th>\n",
       "      <th>Price</th>\n",
       "      <th>Quantity</th>\n",
       "      <th>Width</th>\n",
       "      <th>Height</th>\n",
       "      <th>Quality</th>\n",
       "      <th>Score</th>\n",
       "      <th>Difference</th>\n",
       "      <th>Color</th>\n",
       "      <th>Shape</th>\n",
       "    </tr>\n",
       "  </thead>\n",
       "  <tbody>\n",
       "    <tr>\n",
       "      <th>48</th>\n",
       "      <td>1997-08-22</td>\n",
       "      <td>4710</td>\n",
       "      <td>89</td>\n",
       "      <td>8.710470</td>\n",
       "      <td>7.130864</td>\n",
       "      <td>55.539492</td>\n",
       "      <td>40.839068</td>\n",
       "      <td>-0.916093</td>\n",
       "      <td>blue</td>\n",
       "      <td>triangle</td>\n",
       "    </tr>\n",
       "    <tr>\n",
       "      <th>20</th>\n",
       "      <td>1997-07-25</td>\n",
       "      <td>3445</td>\n",
       "      <td>48</td>\n",
       "      <td>7.972677</td>\n",
       "      <td>0.679787</td>\n",
       "      <td>45.954514</td>\n",
       "      <td>40.177057</td>\n",
       "      <td>-0.982294</td>\n",
       "      <td>green</td>\n",
       "      <td>square</td>\n",
       "    </tr>\n",
       "    <tr>\n",
       "      <th>4</th>\n",
       "      <td>NaT</td>\n",
       "      <td>8570</td>\n",
       "      <td>55</td>\n",
       "      <td>0.390629</td>\n",
       "      <td>3.578136</td>\n",
       "      <td>55.739709</td>\n",
       "      <td>NaN</td>\n",
       "      <td>1.037190</td>\n",
       "      <td>red</td>\n",
       "      <td>square</td>\n",
       "    </tr>\n",
       "    <tr>\n",
       "      <th>44</th>\n",
       "      <td>1997-08-18</td>\n",
       "      <td>3263</td>\n",
       "      <td>73</td>\n",
       "      <td>5.736099</td>\n",
       "      <td>9.603458</td>\n",
       "      <td>NaN</td>\n",
       "      <td>55.576744</td>\n",
       "      <td>0.557674</td>\n",
       "      <td>blue</td>\n",
       "      <td>triangle</td>\n",
       "    </tr>\n",
       "    <tr>\n",
       "      <th>43</th>\n",
       "      <td>1997-08-17</td>\n",
       "      <td>1150</td>\n",
       "      <td>97</td>\n",
       "      <td>6.408748</td>\n",
       "      <td>1.061689</td>\n",
       "      <td>53.184108</td>\n",
       "      <td>43.058211</td>\n",
       "      <td>-0.694179</td>\n",
       "      <td>red</td>\n",
       "      <td>triangle</td>\n",
       "    </tr>\n",
       "  </tbody>\n",
       "</table>\n",
       "</div>"
      ],
      "text/plain": [
       "         Date  Price  Quantity     Width    Height    Quality      Score  \\\n",
       "48 1997-08-22   4710        89  8.710470  7.130864  55.539492  40.839068   \n",
       "20 1997-07-25   3445        48  7.972677  0.679787  45.954514  40.177057   \n",
       "4         NaT   8570        55  0.390629  3.578136  55.739709        NaN   \n",
       "44 1997-08-18   3263        73  5.736099  9.603458        NaN  55.576744   \n",
       "43 1997-08-17   1150        97  6.408748  1.061689  53.184108  43.058211   \n",
       "\n",
       "    Difference  Color     Shape  \n",
       "48   -0.916093   blue  triangle  \n",
       "20   -0.982294  green    square  \n",
       "4     1.037190    red    square  \n",
       "44    0.557674   blue  triangle  \n",
       "43   -0.694179    red  triangle  "
      ]
     },
     "execution_count": 96,
     "metadata": {},
     "output_type": "execute_result"
    }
   ],
   "source": [
    "df.sample(5)"
   ]
  },
  {
   "cell_type": "markdown",
   "id": "1259d5ba",
   "metadata": {},
   "source": [
    "df.isnull()の使い方"
   ]
  },
  {
   "cell_type": "code",
   "execution_count": 97,
   "id": "70cbcb99",
   "metadata": {
    "scrolled": true
   },
   "outputs": [
    {
     "data": {
      "text/html": [
       "<div>\n",
       "<style scoped>\n",
       "    .dataframe tbody tr th:only-of-type {\n",
       "        vertical-align: middle;\n",
       "    }\n",
       "\n",
       "    .dataframe tbody tr th {\n",
       "        vertical-align: top;\n",
       "    }\n",
       "\n",
       "    .dataframe thead th {\n",
       "        text-align: right;\n",
       "    }\n",
       "</style>\n",
       "<table border=\"1\" class=\"dataframe\">\n",
       "  <thead>\n",
       "    <tr style=\"text-align: right;\">\n",
       "      <th></th>\n",
       "      <th>Date</th>\n",
       "      <th>Price</th>\n",
       "      <th>Quantity</th>\n",
       "      <th>Width</th>\n",
       "      <th>Height</th>\n",
       "      <th>Quality</th>\n",
       "      <th>Score</th>\n",
       "      <th>Difference</th>\n",
       "      <th>Color</th>\n",
       "      <th>Shape</th>\n",
       "    </tr>\n",
       "  </thead>\n",
       "  <tbody>\n",
       "    <tr>\n",
       "      <th>0</th>\n",
       "      <td>False</td>\n",
       "      <td>False</td>\n",
       "      <td>False</td>\n",
       "      <td>False</td>\n",
       "      <td>False</td>\n",
       "      <td>False</td>\n",
       "      <td>False</td>\n",
       "      <td>False</td>\n",
       "      <td>False</td>\n",
       "      <td>False</td>\n",
       "    </tr>\n",
       "    <tr>\n",
       "      <th>1</th>\n",
       "      <td>False</td>\n",
       "      <td>False</td>\n",
       "      <td>False</td>\n",
       "      <td>False</td>\n",
       "      <td>False</td>\n",
       "      <td>False</td>\n",
       "      <td>False</td>\n",
       "      <td>False</td>\n",
       "      <td>False</td>\n",
       "      <td>True</td>\n",
       "    </tr>\n",
       "    <tr>\n",
       "      <th>2</th>\n",
       "      <td>False</td>\n",
       "      <td>False</td>\n",
       "      <td>False</td>\n",
       "      <td>False</td>\n",
       "      <td>False</td>\n",
       "      <td>False</td>\n",
       "      <td>False</td>\n",
       "      <td>False</td>\n",
       "      <td>False</td>\n",
       "      <td>False</td>\n",
       "    </tr>\n",
       "    <tr>\n",
       "      <th>3</th>\n",
       "      <td>False</td>\n",
       "      <td>False</td>\n",
       "      <td>False</td>\n",
       "      <td>False</td>\n",
       "      <td>False</td>\n",
       "      <td>False</td>\n",
       "      <td>False</td>\n",
       "      <td>False</td>\n",
       "      <td>False</td>\n",
       "      <td>False</td>\n",
       "    </tr>\n",
       "    <tr>\n",
       "      <th>4</th>\n",
       "      <td>True</td>\n",
       "      <td>False</td>\n",
       "      <td>False</td>\n",
       "      <td>False</td>\n",
       "      <td>False</td>\n",
       "      <td>False</td>\n",
       "      <td>True</td>\n",
       "      <td>False</td>\n",
       "      <td>False</td>\n",
       "      <td>False</td>\n",
       "    </tr>\n",
       "    <tr>\n",
       "      <th>...</th>\n",
       "      <td>...</td>\n",
       "      <td>...</td>\n",
       "      <td>...</td>\n",
       "      <td>...</td>\n",
       "      <td>...</td>\n",
       "      <td>...</td>\n",
       "      <td>...</td>\n",
       "      <td>...</td>\n",
       "      <td>...</td>\n",
       "      <td>...</td>\n",
       "    </tr>\n",
       "    <tr>\n",
       "      <th>95</th>\n",
       "      <td>False</td>\n",
       "      <td>False</td>\n",
       "      <td>False</td>\n",
       "      <td>False</td>\n",
       "      <td>False</td>\n",
       "      <td>False</td>\n",
       "      <td>False</td>\n",
       "      <td>False</td>\n",
       "      <td>False</td>\n",
       "      <td>False</td>\n",
       "    </tr>\n",
       "    <tr>\n",
       "      <th>96</th>\n",
       "      <td>False</td>\n",
       "      <td>False</td>\n",
       "      <td>False</td>\n",
       "      <td>False</td>\n",
       "      <td>False</td>\n",
       "      <td>False</td>\n",
       "      <td>False</td>\n",
       "      <td>False</td>\n",
       "      <td>False</td>\n",
       "      <td>False</td>\n",
       "    </tr>\n",
       "    <tr>\n",
       "      <th>97</th>\n",
       "      <td>False</td>\n",
       "      <td>False</td>\n",
       "      <td>False</td>\n",
       "      <td>False</td>\n",
       "      <td>False</td>\n",
       "      <td>False</td>\n",
       "      <td>False</td>\n",
       "      <td>False</td>\n",
       "      <td>False</td>\n",
       "      <td>False</td>\n",
       "    </tr>\n",
       "    <tr>\n",
       "      <th>98</th>\n",
       "      <td>False</td>\n",
       "      <td>False</td>\n",
       "      <td>False</td>\n",
       "      <td>False</td>\n",
       "      <td>False</td>\n",
       "      <td>False</td>\n",
       "      <td>False</td>\n",
       "      <td>False</td>\n",
       "      <td>False</td>\n",
       "      <td>False</td>\n",
       "    </tr>\n",
       "    <tr>\n",
       "      <th>99</th>\n",
       "      <td>False</td>\n",
       "      <td>False</td>\n",
       "      <td>False</td>\n",
       "      <td>False</td>\n",
       "      <td>False</td>\n",
       "      <td>False</td>\n",
       "      <td>True</td>\n",
       "      <td>False</td>\n",
       "      <td>False</td>\n",
       "      <td>True</td>\n",
       "    </tr>\n",
       "  </tbody>\n",
       "</table>\n",
       "<p>100 rows × 10 columns</p>\n",
       "</div>"
      ],
      "text/plain": [
       "     Date  Price  Quantity  Width  Height  Quality  Score  Difference  Color  \\\n",
       "0   False  False     False  False   False    False  False       False  False   \n",
       "1   False  False     False  False   False    False  False       False  False   \n",
       "2   False  False     False  False   False    False  False       False  False   \n",
       "3   False  False     False  False   False    False  False       False  False   \n",
       "4    True  False     False  False   False    False   True       False  False   \n",
       "..    ...    ...       ...    ...     ...      ...    ...         ...    ...   \n",
       "95  False  False     False  False   False    False  False       False  False   \n",
       "96  False  False     False  False   False    False  False       False  False   \n",
       "97  False  False     False  False   False    False  False       False  False   \n",
       "98  False  False     False  False   False    False  False       False  False   \n",
       "99  False  False     False  False   False    False   True       False  False   \n",
       "\n",
       "    Shape  \n",
       "0   False  \n",
       "1    True  \n",
       "2   False  \n",
       "3   False  \n",
       "4   False  \n",
       "..    ...  \n",
       "95  False  \n",
       "96  False  \n",
       "97  False  \n",
       "98  False  \n",
       "99   True  \n",
       "\n",
       "[100 rows x 10 columns]"
      ]
     },
     "execution_count": 97,
     "metadata": {},
     "output_type": "execute_result"
    }
   ],
   "source": [
    "df.isnull()"
   ]
  },
  {
   "cell_type": "code",
   "execution_count": 98,
   "id": "7228549c-5b0a-4c9d-bf06-0f3a3360d6fb",
   "metadata": {},
   "outputs": [
    {
     "data": {
      "text/plain": [
       "Date          3\n",
       "Price         0\n",
       "Quantity      0\n",
       "Width         3\n",
       "Height        3\n",
       "Quality       4\n",
       "Score         7\n",
       "Difference    1\n",
       "Color         4\n",
       "Shape         5\n",
       "dtype: int64"
      ]
     },
     "execution_count": 98,
     "metadata": {},
     "output_type": "execute_result"
    }
   ],
   "source": [
    "df.isnull().sum()"
   ]
  },
  {
   "cell_type": "code",
   "execution_count": 99,
   "id": "1ddb4a32-43e0-4942-8975-2fb2553e4cc7",
   "metadata": {},
   "outputs": [
    {
     "data": {
      "text/plain": [
       "30"
      ]
     },
     "execution_count": 99,
     "metadata": {},
     "output_type": "execute_result"
    }
   ],
   "source": [
    "df.isnull().sum().sum()"
   ]
  },
  {
   "cell_type": "code",
   "execution_count": 100,
   "id": "4060695a-060a-4825-bbef-152e036f1259",
   "metadata": {},
   "outputs": [
    {
     "name": "stdout",
     "output_type": "stream",
     "text": [
      "<class 'pandas.core.frame.DataFrame'>\n",
      "RangeIndex: 100 entries, 0 to 99\n",
      "Data columns (total 10 columns):\n",
      " #   Column      Non-Null Count  Dtype         \n",
      "---  ------      --------------  -----         \n",
      " 0   Date        97 non-null     datetime64[ns]\n",
      " 1   Price       100 non-null    int64         \n",
      " 2   Quantity    100 non-null    int64         \n",
      " 3   Width       97 non-null     float64       \n",
      " 4   Height      97 non-null     float64       \n",
      " 5   Quality     96 non-null     float64       \n",
      " 6   Score       93 non-null     float64       \n",
      " 7   Difference  99 non-null     float64       \n",
      " 8   Color       96 non-null     object        \n",
      " 9   Shape       95 non-null     object        \n",
      "dtypes: datetime64[ns](1), float64(5), int64(2), object(2)\n",
      "memory usage: 7.9+ KB\n"
     ]
    }
   ],
   "source": [
    "df.info()"
   ]
  },
  {
   "cell_type": "code",
   "execution_count": 101,
   "id": "4ff6befc-cef4-4e22-8f21-5fcc3863958d",
   "metadata": {},
   "outputs": [
    {
     "data": {
      "text/plain": [
       "Date          100\n",
       "Price         100\n",
       "Quantity      100\n",
       "Width         100\n",
       "Height        100\n",
       "Quality       100\n",
       "Score         100\n",
       "Difference    100\n",
       "Color         100\n",
       "Shape         100\n",
       "dtype: int64"
      ]
     },
     "execution_count": 101,
     "metadata": {},
     "output_type": "execute_result"
    }
   ],
   "source": [
    "df.isnull().count()"
   ]
  },
  {
   "cell_type": "code",
   "execution_count": 102,
   "id": "9938be5e-18b5-4fa6-81a2-e90db4ea22f3",
   "metadata": {},
   "outputs": [
    {
     "data": {
      "text/plain": [
       "1000"
      ]
     },
     "execution_count": 102,
     "metadata": {},
     "output_type": "execute_result"
    }
   ],
   "source": [
    "df.isnull().size"
   ]
  },
  {
   "cell_type": "code",
   "execution_count": 103,
   "id": "04ae7afa-60b3-49ea-86b2-0c29c4a7c028",
   "metadata": {},
   "outputs": [
    {
     "data": {
      "text/plain": [
       "Date           97\n",
       "Price         100\n",
       "Quantity      100\n",
       "Width          97\n",
       "Height         97\n",
       "Quality        96\n",
       "Score          93\n",
       "Difference     99\n",
       "Color          96\n",
       "Shape          95\n",
       "dtype: int64"
      ]
     },
     "execution_count": 103,
     "metadata": {},
     "output_type": "execute_result"
    }
   ],
   "source": [
    "df.count()"
   ]
  },
  {
   "cell_type": "markdown",
   "id": "07acea96",
   "metadata": {},
   "source": [
    "欠損値のある行を表示"
   ]
  },
  {
   "cell_type": "code",
   "execution_count": 104,
   "id": "7643c09a",
   "metadata": {
    "scrolled": true
   },
   "outputs": [
    {
     "data": {
      "text/plain": [
       "Date          3\n",
       "Price         0\n",
       "Quantity      0\n",
       "Width         3\n",
       "Height        3\n",
       "Quality       4\n",
       "Score         7\n",
       "Difference    1\n",
       "Color         4\n",
       "Shape         5\n",
       "dtype: int64"
      ]
     },
     "execution_count": 104,
     "metadata": {},
     "output_type": "execute_result"
    }
   ],
   "source": [
    "df.isnull().sum()"
   ]
  },
  {
   "cell_type": "code",
   "execution_count": 105,
   "id": "4c0d1e4c-f475-4b52-81b2-ee4d28344f79",
   "metadata": {},
   "outputs": [
    {
     "data": {
      "text/plain": [
       "0     0\n",
       "1     1\n",
       "2     0\n",
       "3     0\n",
       "4     2\n",
       "     ..\n",
       "95    0\n",
       "96    0\n",
       "97    0\n",
       "98    0\n",
       "99    2\n",
       "Length: 100, dtype: int64"
      ]
     },
     "execution_count": 105,
     "metadata": {},
     "output_type": "execute_result"
    }
   ],
   "source": [
    "df.isnull().sum(axis=1)"
   ]
  },
  {
   "cell_type": "code",
   "execution_count": 106,
   "id": "5f416a4c-a414-4723-926b-c8fb19ff2bb8",
   "metadata": {},
   "outputs": [
    {
     "data": {
      "text/plain": [
       "0     False\n",
       "1      True\n",
       "2     False\n",
       "3     False\n",
       "4      True\n",
       "      ...  \n",
       "95    False\n",
       "96    False\n",
       "97    False\n",
       "98    False\n",
       "99     True\n",
       "Length: 100, dtype: bool"
      ]
     },
     "execution_count": 106,
     "metadata": {},
     "output_type": "execute_result"
    }
   ],
   "source": [
    "0 < df.isnull().sum(axis=1)"
   ]
  },
  {
   "cell_type": "code",
   "execution_count": 110,
   "id": "556b49d7-0630-4bfb-b326-b2f197d3cf0e",
   "metadata": {},
   "outputs": [],
   "source": [
    "# df[np.random.choice([True, False], 100)]"
   ]
  },
  {
   "cell_type": "code",
   "execution_count": 111,
   "id": "a3207cb3-fb77-4848-994a-a1c7c80a8112",
   "metadata": {},
   "outputs": [
    {
     "data": {
      "text/html": [
       "<div>\n",
       "<style scoped>\n",
       "    .dataframe tbody tr th:only-of-type {\n",
       "        vertical-align: middle;\n",
       "    }\n",
       "\n",
       "    .dataframe tbody tr th {\n",
       "        vertical-align: top;\n",
       "    }\n",
       "\n",
       "    .dataframe thead th {\n",
       "        text-align: right;\n",
       "    }\n",
       "</style>\n",
       "<table border=\"1\" class=\"dataframe\">\n",
       "  <thead>\n",
       "    <tr style=\"text-align: right;\">\n",
       "      <th></th>\n",
       "      <th>Date</th>\n",
       "      <th>Price</th>\n",
       "      <th>Quantity</th>\n",
       "      <th>Width</th>\n",
       "      <th>Height</th>\n",
       "      <th>Quality</th>\n",
       "      <th>Score</th>\n",
       "      <th>Difference</th>\n",
       "      <th>Color</th>\n",
       "      <th>Shape</th>\n",
       "    </tr>\n",
       "  </thead>\n",
       "  <tbody>\n",
       "    <tr>\n",
       "      <th>1</th>\n",
       "      <td>1997-07-06</td>\n",
       "      <td>506</td>\n",
       "      <td>16</td>\n",
       "      <td>1.915208</td>\n",
       "      <td>0.679004</td>\n",
       "      <td>50.611735</td>\n",
       "      <td>31.453719</td>\n",
       "      <td>-1.854628</td>\n",
       "      <td>blue</td>\n",
       "      <td>NaN</td>\n",
       "    </tr>\n",
       "    <tr>\n",
       "      <th>4</th>\n",
       "      <td>NaT</td>\n",
       "      <td>8570</td>\n",
       "      <td>55</td>\n",
       "      <td>0.390629</td>\n",
       "      <td>3.578136</td>\n",
       "      <td>55.739709</td>\n",
       "      <td>NaN</td>\n",
       "      <td>1.037190</td>\n",
       "      <td>red</td>\n",
       "      <td>square</td>\n",
       "    </tr>\n",
       "    <tr>\n",
       "      <th>9</th>\n",
       "      <td>1997-07-14</td>\n",
       "      <td>1874</td>\n",
       "      <td>94</td>\n",
       "      <td>4.835286</td>\n",
       "      <td>NaN</td>\n",
       "      <td>47.156272</td>\n",
       "      <td>45.622168</td>\n",
       "      <td>-0.437783</td>\n",
       "      <td>red</td>\n",
       "      <td>circle</td>\n",
       "    </tr>\n",
       "    <tr>\n",
       "      <th>10</th>\n",
       "      <td>1997-07-15</td>\n",
       "      <td>5916</td>\n",
       "      <td>54</td>\n",
       "      <td>2.977257</td>\n",
       "      <td>5.615089</td>\n",
       "      <td>58.913664</td>\n",
       "      <td>71.712570</td>\n",
       "      <td>2.171257</td>\n",
       "      <td>green</td>\n",
       "      <td>NaN</td>\n",
       "    </tr>\n",
       "    <tr>\n",
       "      <th>15</th>\n",
       "      <td>1997-07-20</td>\n",
       "      <td>7530</td>\n",
       "      <td>66</td>\n",
       "      <td>1.987739</td>\n",
       "      <td>8.313639</td>\n",
       "      <td>53.048372</td>\n",
       "      <td>NaN</td>\n",
       "      <td>-1.775282</td>\n",
       "      <td>blue</td>\n",
       "      <td>square</td>\n",
       "    </tr>\n",
       "    <tr>\n",
       "      <th>19</th>\n",
       "      <td>1997-07-24</td>\n",
       "      <td>4893</td>\n",
       "      <td>16</td>\n",
       "      <td>4.449961</td>\n",
       "      <td>8.879824</td>\n",
       "      <td>45.659763</td>\n",
       "      <td>47.499726</td>\n",
       "      <td>-0.250027</td>\n",
       "      <td>None</td>\n",
       "      <td>circle</td>\n",
       "    </tr>\n",
       "    <tr>\n",
       "      <th>24</th>\n",
       "      <td>1997-07-29</td>\n",
       "      <td>2180</td>\n",
       "      <td>27</td>\n",
       "      <td>7.769746</td>\n",
       "      <td>8.379915</td>\n",
       "      <td>48.369688</td>\n",
       "      <td>41.936399</td>\n",
       "      <td>-0.806360</td>\n",
       "      <td>green</td>\n",
       "      <td>NaN</td>\n",
       "    </tr>\n",
       "    <tr>\n",
       "      <th>25</th>\n",
       "      <td>NaT</td>\n",
       "      <td>2977</td>\n",
       "      <td>59</td>\n",
       "      <td>8.293048</td>\n",
       "      <td>0.291570</td>\n",
       "      <td>42.878078</td>\n",
       "      <td>51.312678</td>\n",
       "      <td>0.131268</td>\n",
       "      <td>green</td>\n",
       "      <td>triangle</td>\n",
       "    </tr>\n",
       "    <tr>\n",
       "      <th>34</th>\n",
       "      <td>1997-08-08</td>\n",
       "      <td>2894</td>\n",
       "      <td>66</td>\n",
       "      <td>NaN</td>\n",
       "      <td>9.161101</td>\n",
       "      <td>50.899971</td>\n",
       "      <td>59.682053</td>\n",
       "      <td>0.968205</td>\n",
       "      <td>blue</td>\n",
       "      <td>square</td>\n",
       "    </tr>\n",
       "    <tr>\n",
       "      <th>37</th>\n",
       "      <td>1997-08-11</td>\n",
       "      <td>4768</td>\n",
       "      <td>60</td>\n",
       "      <td>0.827355</td>\n",
       "      <td>6.754864</td>\n",
       "      <td>42.369445</td>\n",
       "      <td>54.652823</td>\n",
       "      <td>0.465282</td>\n",
       "      <td>NaN</td>\n",
       "      <td>circle</td>\n",
       "    </tr>\n",
       "    <tr>\n",
       "      <th>40</th>\n",
       "      <td>1997-08-14</td>\n",
       "      <td>2431</td>\n",
       "      <td>18</td>\n",
       "      <td>2.201921</td>\n",
       "      <td>2.453724</td>\n",
       "      <td>55.945355</td>\n",
       "      <td>38.445867</td>\n",
       "      <td>-1.155413</td>\n",
       "      <td>None</td>\n",
       "      <td>triangle</td>\n",
       "    </tr>\n",
       "    <tr>\n",
       "      <th>41</th>\n",
       "      <td>1997-08-15</td>\n",
       "      <td>4063</td>\n",
       "      <td>61</td>\n",
       "      <td>7.274125</td>\n",
       "      <td>0.641278</td>\n",
       "      <td>41.359575</td>\n",
       "      <td>83.451574</td>\n",
       "      <td>3.345157</td>\n",
       "      <td>red</td>\n",
       "      <td>NaN</td>\n",
       "    </tr>\n",
       "    <tr>\n",
       "      <th>42</th>\n",
       "      <td>1997-08-16</td>\n",
       "      <td>6307</td>\n",
       "      <td>37</td>\n",
       "      <td>NaN</td>\n",
       "      <td>4.876773</td>\n",
       "      <td>59.215755</td>\n",
       "      <td>51.267272</td>\n",
       "      <td>0.126727</td>\n",
       "      <td>green</td>\n",
       "      <td>square</td>\n",
       "    </tr>\n",
       "    <tr>\n",
       "      <th>44</th>\n",
       "      <td>1997-08-18</td>\n",
       "      <td>3263</td>\n",
       "      <td>73</td>\n",
       "      <td>5.736099</td>\n",
       "      <td>9.603458</td>\n",
       "      <td>NaN</td>\n",
       "      <td>55.576744</td>\n",
       "      <td>0.557674</td>\n",
       "      <td>blue</td>\n",
       "      <td>triangle</td>\n",
       "    </tr>\n",
       "    <tr>\n",
       "      <th>46</th>\n",
       "      <td>1997-08-20</td>\n",
       "      <td>722</td>\n",
       "      <td>66</td>\n",
       "      <td>9.880067</td>\n",
       "      <td>8.328709</td>\n",
       "      <td>57.754727</td>\n",
       "      <td>56.379262</td>\n",
       "      <td>NaN</td>\n",
       "      <td>red</td>\n",
       "      <td>circle</td>\n",
       "    </tr>\n",
       "    <tr>\n",
       "      <th>47</th>\n",
       "      <td>1997-08-21</td>\n",
       "      <td>1838</td>\n",
       "      <td>67</td>\n",
       "      <td>4.981437</td>\n",
       "      <td>NaN</td>\n",
       "      <td>42.678913</td>\n",
       "      <td>57.031107</td>\n",
       "      <td>0.703111</td>\n",
       "      <td>green</td>\n",
       "      <td>triangle</td>\n",
       "    </tr>\n",
       "    <tr>\n",
       "      <th>53</th>\n",
       "      <td>1997-08-27</td>\n",
       "      <td>888</td>\n",
       "      <td>59</td>\n",
       "      <td>1.193864</td>\n",
       "      <td>5.209595</td>\n",
       "      <td>48.745040</td>\n",
       "      <td>NaN</td>\n",
       "      <td>-0.581410</td>\n",
       "      <td>green</td>\n",
       "      <td>triangle</td>\n",
       "    </tr>\n",
       "    <tr>\n",
       "      <th>67</th>\n",
       "      <td>1997-09-10</td>\n",
       "      <td>4513</td>\n",
       "      <td>22</td>\n",
       "      <td>2.355312</td>\n",
       "      <td>NaN</td>\n",
       "      <td>55.363809</td>\n",
       "      <td>50.835544</td>\n",
       "      <td>0.083554</td>\n",
       "      <td>green</td>\n",
       "      <td>triangle</td>\n",
       "    </tr>\n",
       "    <tr>\n",
       "      <th>72</th>\n",
       "      <td>1997-09-15</td>\n",
       "      <td>5985</td>\n",
       "      <td>13</td>\n",
       "      <td>3.472464</td>\n",
       "      <td>2.145170</td>\n",
       "      <td>NaN</td>\n",
       "      <td>53.930947</td>\n",
       "      <td>0.393095</td>\n",
       "      <td>green</td>\n",
       "      <td>square</td>\n",
       "    </tr>\n",
       "    <tr>\n",
       "      <th>73</th>\n",
       "      <td>1997-09-16</td>\n",
       "      <td>6354</td>\n",
       "      <td>84</td>\n",
       "      <td>7.945283</td>\n",
       "      <td>7.917093</td>\n",
       "      <td>54.312865</td>\n",
       "      <td>56.844951</td>\n",
       "      <td>0.684495</td>\n",
       "      <td>None</td>\n",
       "      <td>triangle</td>\n",
       "    </tr>\n",
       "    <tr>\n",
       "      <th>75</th>\n",
       "      <td>1997-09-18</td>\n",
       "      <td>4239</td>\n",
       "      <td>69</td>\n",
       "      <td>0.558966</td>\n",
       "      <td>2.324704</td>\n",
       "      <td>53.509729</td>\n",
       "      <td>NaN</td>\n",
       "      <td>0.556003</td>\n",
       "      <td>blue</td>\n",
       "      <td>circle</td>\n",
       "    </tr>\n",
       "    <tr>\n",
       "      <th>82</th>\n",
       "      <td>NaT</td>\n",
       "      <td>4236</td>\n",
       "      <td>56</td>\n",
       "      <td>2.071701</td>\n",
       "      <td>9.561883</td>\n",
       "      <td>54.548250</td>\n",
       "      <td>50.572798</td>\n",
       "      <td>0.057280</td>\n",
       "      <td>blue</td>\n",
       "      <td>square</td>\n",
       "    </tr>\n",
       "    <tr>\n",
       "      <th>83</th>\n",
       "      <td>1997-09-26</td>\n",
       "      <td>2854</td>\n",
       "      <td>53</td>\n",
       "      <td>9.868105</td>\n",
       "      <td>8.293788</td>\n",
       "      <td>41.282555</td>\n",
       "      <td>NaN</td>\n",
       "      <td>-1.040172</td>\n",
       "      <td>red</td>\n",
       "      <td>triangle</td>\n",
       "    </tr>\n",
       "    <tr>\n",
       "      <th>85</th>\n",
       "      <td>1997-09-28</td>\n",
       "      <td>6035</td>\n",
       "      <td>72</td>\n",
       "      <td>NaN</td>\n",
       "      <td>1.061134</td>\n",
       "      <td>49.753547</td>\n",
       "      <td>48.799655</td>\n",
       "      <td>-0.120035</td>\n",
       "      <td>blue</td>\n",
       "      <td>circle</td>\n",
       "    </tr>\n",
       "    <tr>\n",
       "      <th>88</th>\n",
       "      <td>1997-10-01</td>\n",
       "      <td>1702</td>\n",
       "      <td>77</td>\n",
       "      <td>2.610089</td>\n",
       "      <td>5.301368</td>\n",
       "      <td>51.472199</td>\n",
       "      <td>NaN</td>\n",
       "      <td>1.233529</td>\n",
       "      <td>green</td>\n",
       "      <td>circle</td>\n",
       "    </tr>\n",
       "    <tr>\n",
       "      <th>92</th>\n",
       "      <td>1997-10-05</td>\n",
       "      <td>8057</td>\n",
       "      <td>60</td>\n",
       "      <td>5.927891</td>\n",
       "      <td>0.157152</td>\n",
       "      <td>NaN</td>\n",
       "      <td>78.711269</td>\n",
       "      <td>2.871127</td>\n",
       "      <td>blue</td>\n",
       "      <td>square</td>\n",
       "    </tr>\n",
       "    <tr>\n",
       "      <th>93</th>\n",
       "      <td>1997-10-06</td>\n",
       "      <td>7691</td>\n",
       "      <td>11</td>\n",
       "      <td>5.859937</td>\n",
       "      <td>4.086629</td>\n",
       "      <td>NaN</td>\n",
       "      <td>37.919143</td>\n",
       "      <td>-1.208086</td>\n",
       "      <td>green</td>\n",
       "      <td>circle</td>\n",
       "    </tr>\n",
       "    <tr>\n",
       "      <th>99</th>\n",
       "      <td>1997-10-12</td>\n",
       "      <td>1578</td>\n",
       "      <td>77</td>\n",
       "      <td>9.868106</td>\n",
       "      <td>5.397452</td>\n",
       "      <td>56.472400</td>\n",
       "      <td>NaN</td>\n",
       "      <td>2.215901</td>\n",
       "      <td>red</td>\n",
       "      <td>None</td>\n",
       "    </tr>\n",
       "  </tbody>\n",
       "</table>\n",
       "</div>"
      ],
      "text/plain": [
       "         Date  Price  Quantity     Width    Height    Quality      Score  \\\n",
       "1  1997-07-06    506        16  1.915208  0.679004  50.611735  31.453719   \n",
       "4         NaT   8570        55  0.390629  3.578136  55.739709        NaN   \n",
       "9  1997-07-14   1874        94  4.835286       NaN  47.156272  45.622168   \n",
       "10 1997-07-15   5916        54  2.977257  5.615089  58.913664  71.712570   \n",
       "15 1997-07-20   7530        66  1.987739  8.313639  53.048372        NaN   \n",
       "19 1997-07-24   4893        16  4.449961  8.879824  45.659763  47.499726   \n",
       "24 1997-07-29   2180        27  7.769746  8.379915  48.369688  41.936399   \n",
       "25        NaT   2977        59  8.293048  0.291570  42.878078  51.312678   \n",
       "34 1997-08-08   2894        66       NaN  9.161101  50.899971  59.682053   \n",
       "37 1997-08-11   4768        60  0.827355  6.754864  42.369445  54.652823   \n",
       "40 1997-08-14   2431        18  2.201921  2.453724  55.945355  38.445867   \n",
       "41 1997-08-15   4063        61  7.274125  0.641278  41.359575  83.451574   \n",
       "42 1997-08-16   6307        37       NaN  4.876773  59.215755  51.267272   \n",
       "44 1997-08-18   3263        73  5.736099  9.603458        NaN  55.576744   \n",
       "46 1997-08-20    722        66  9.880067  8.328709  57.754727  56.379262   \n",
       "47 1997-08-21   1838        67  4.981437       NaN  42.678913  57.031107   \n",
       "53 1997-08-27    888        59  1.193864  5.209595  48.745040        NaN   \n",
       "67 1997-09-10   4513        22  2.355312       NaN  55.363809  50.835544   \n",
       "72 1997-09-15   5985        13  3.472464  2.145170        NaN  53.930947   \n",
       "73 1997-09-16   6354        84  7.945283  7.917093  54.312865  56.844951   \n",
       "75 1997-09-18   4239        69  0.558966  2.324704  53.509729        NaN   \n",
       "82        NaT   4236        56  2.071701  9.561883  54.548250  50.572798   \n",
       "83 1997-09-26   2854        53  9.868105  8.293788  41.282555        NaN   \n",
       "85 1997-09-28   6035        72       NaN  1.061134  49.753547  48.799655   \n",
       "88 1997-10-01   1702        77  2.610089  5.301368  51.472199        NaN   \n",
       "92 1997-10-05   8057        60  5.927891  0.157152        NaN  78.711269   \n",
       "93 1997-10-06   7691        11  5.859937  4.086629        NaN  37.919143   \n",
       "99 1997-10-12   1578        77  9.868106  5.397452  56.472400        NaN   \n",
       "\n",
       "    Difference  Color     Shape  \n",
       "1    -1.854628   blue       NaN  \n",
       "4     1.037190    red    square  \n",
       "9    -0.437783    red    circle  \n",
       "10    2.171257  green       NaN  \n",
       "15   -1.775282   blue    square  \n",
       "19   -0.250027   None    circle  \n",
       "24   -0.806360  green       NaN  \n",
       "25    0.131268  green  triangle  \n",
       "34    0.968205   blue    square  \n",
       "37    0.465282    NaN    circle  \n",
       "40   -1.155413   None  triangle  \n",
       "41    3.345157    red       NaN  \n",
       "42    0.126727  green    square  \n",
       "44    0.557674   blue  triangle  \n",
       "46         NaN    red    circle  \n",
       "47    0.703111  green  triangle  \n",
       "53   -0.581410  green  triangle  \n",
       "67    0.083554  green  triangle  \n",
       "72    0.393095  green    square  \n",
       "73    0.684495   None  triangle  \n",
       "75    0.556003   blue    circle  \n",
       "82    0.057280   blue    square  \n",
       "83   -1.040172    red  triangle  \n",
       "85   -0.120035   blue    circle  \n",
       "88    1.233529  green    circle  \n",
       "92    2.871127   blue    square  \n",
       "93   -1.208086  green    circle  \n",
       "99    2.215901    red      None  "
      ]
     },
     "execution_count": 111,
     "metadata": {},
     "output_type": "execute_result"
    }
   ],
   "source": [
    "df[0 < df.isnull().sum(axis=1)]"
   ]
  },
  {
   "cell_type": "code",
   "execution_count": 112,
   "id": "b9b40e7f-4ec8-48ae-b5e8-ac7f7a5775ef",
   "metadata": {},
   "outputs": [
    {
     "name": "stderr",
     "output_type": "stream",
     "text": [
      "/var/folders/vh/fvhqhrh16wzb2dlwf7p5fqyh0000gn/T/ipykernel_22653/4029697471.py:1: FutureWarning: `null_color` is deprecated: use `color` instead\n",
      "  df[0 < df.isnull().sum(axis=1)].style.highlight_null(null_color='#f00')\n"
     ]
    },
    {
     "data": {
      "text/html": [
       "<style type=\"text/css\">\n",
       "#T_7d74a_row0_col9, #T_7d74a_row1_col0, #T_7d74a_row1_col6, #T_7d74a_row2_col4, #T_7d74a_row3_col9, #T_7d74a_row4_col6, #T_7d74a_row5_col8, #T_7d74a_row6_col9, #T_7d74a_row7_col0, #T_7d74a_row8_col3, #T_7d74a_row9_col8, #T_7d74a_row10_col8, #T_7d74a_row11_col9, #T_7d74a_row12_col3, #T_7d74a_row13_col5, #T_7d74a_row14_col7, #T_7d74a_row15_col4, #T_7d74a_row16_col6, #T_7d74a_row17_col4, #T_7d74a_row18_col5, #T_7d74a_row19_col8, #T_7d74a_row20_col6, #T_7d74a_row21_col0, #T_7d74a_row22_col6, #T_7d74a_row23_col3, #T_7d74a_row24_col6, #T_7d74a_row25_col5, #T_7d74a_row26_col5, #T_7d74a_row27_col6, #T_7d74a_row27_col9 {\n",
       "  background-color: #f00;\n",
       "}\n",
       "</style>\n",
       "<table id=\"T_7d74a\">\n",
       "  <thead>\n",
       "    <tr>\n",
       "      <th class=\"blank level0\" >&nbsp;</th>\n",
       "      <th id=\"T_7d74a_level0_col0\" class=\"col_heading level0 col0\" >Date</th>\n",
       "      <th id=\"T_7d74a_level0_col1\" class=\"col_heading level0 col1\" >Price</th>\n",
       "      <th id=\"T_7d74a_level0_col2\" class=\"col_heading level0 col2\" >Quantity</th>\n",
       "      <th id=\"T_7d74a_level0_col3\" class=\"col_heading level0 col3\" >Width</th>\n",
       "      <th id=\"T_7d74a_level0_col4\" class=\"col_heading level0 col4\" >Height</th>\n",
       "      <th id=\"T_7d74a_level0_col5\" class=\"col_heading level0 col5\" >Quality</th>\n",
       "      <th id=\"T_7d74a_level0_col6\" class=\"col_heading level0 col6\" >Score</th>\n",
       "      <th id=\"T_7d74a_level0_col7\" class=\"col_heading level0 col7\" >Difference</th>\n",
       "      <th id=\"T_7d74a_level0_col8\" class=\"col_heading level0 col8\" >Color</th>\n",
       "      <th id=\"T_7d74a_level0_col9\" class=\"col_heading level0 col9\" >Shape</th>\n",
       "    </tr>\n",
       "  </thead>\n",
       "  <tbody>\n",
       "    <tr>\n",
       "      <th id=\"T_7d74a_level0_row0\" class=\"row_heading level0 row0\" >1</th>\n",
       "      <td id=\"T_7d74a_row0_col0\" class=\"data row0 col0\" >1997-07-06 00:00:00</td>\n",
       "      <td id=\"T_7d74a_row0_col1\" class=\"data row0 col1\" >506</td>\n",
       "      <td id=\"T_7d74a_row0_col2\" class=\"data row0 col2\" >16</td>\n",
       "      <td id=\"T_7d74a_row0_col3\" class=\"data row0 col3\" >1.915208</td>\n",
       "      <td id=\"T_7d74a_row0_col4\" class=\"data row0 col4\" >0.679004</td>\n",
       "      <td id=\"T_7d74a_row0_col5\" class=\"data row0 col5\" >50.611735</td>\n",
       "      <td id=\"T_7d74a_row0_col6\" class=\"data row0 col6\" >31.453719</td>\n",
       "      <td id=\"T_7d74a_row0_col7\" class=\"data row0 col7\" >-1.854628</td>\n",
       "      <td id=\"T_7d74a_row0_col8\" class=\"data row0 col8\" >blue</td>\n",
       "      <td id=\"T_7d74a_row0_col9\" class=\"data row0 col9\" >nan</td>\n",
       "    </tr>\n",
       "    <tr>\n",
       "      <th id=\"T_7d74a_level0_row1\" class=\"row_heading level0 row1\" >4</th>\n",
       "      <td id=\"T_7d74a_row1_col0\" class=\"data row1 col0\" >NaT</td>\n",
       "      <td id=\"T_7d74a_row1_col1\" class=\"data row1 col1\" >8570</td>\n",
       "      <td id=\"T_7d74a_row1_col2\" class=\"data row1 col2\" >55</td>\n",
       "      <td id=\"T_7d74a_row1_col3\" class=\"data row1 col3\" >0.390629</td>\n",
       "      <td id=\"T_7d74a_row1_col4\" class=\"data row1 col4\" >3.578136</td>\n",
       "      <td id=\"T_7d74a_row1_col5\" class=\"data row1 col5\" >55.739709</td>\n",
       "      <td id=\"T_7d74a_row1_col6\" class=\"data row1 col6\" >nan</td>\n",
       "      <td id=\"T_7d74a_row1_col7\" class=\"data row1 col7\" >1.037190</td>\n",
       "      <td id=\"T_7d74a_row1_col8\" class=\"data row1 col8\" >red</td>\n",
       "      <td id=\"T_7d74a_row1_col9\" class=\"data row1 col9\" >square</td>\n",
       "    </tr>\n",
       "    <tr>\n",
       "      <th id=\"T_7d74a_level0_row2\" class=\"row_heading level0 row2\" >9</th>\n",
       "      <td id=\"T_7d74a_row2_col0\" class=\"data row2 col0\" >1997-07-14 00:00:00</td>\n",
       "      <td id=\"T_7d74a_row2_col1\" class=\"data row2 col1\" >1874</td>\n",
       "      <td id=\"T_7d74a_row2_col2\" class=\"data row2 col2\" >94</td>\n",
       "      <td id=\"T_7d74a_row2_col3\" class=\"data row2 col3\" >4.835286</td>\n",
       "      <td id=\"T_7d74a_row2_col4\" class=\"data row2 col4\" >nan</td>\n",
       "      <td id=\"T_7d74a_row2_col5\" class=\"data row2 col5\" >47.156272</td>\n",
       "      <td id=\"T_7d74a_row2_col6\" class=\"data row2 col6\" >45.622168</td>\n",
       "      <td id=\"T_7d74a_row2_col7\" class=\"data row2 col7\" >-0.437783</td>\n",
       "      <td id=\"T_7d74a_row2_col8\" class=\"data row2 col8\" >red</td>\n",
       "      <td id=\"T_7d74a_row2_col9\" class=\"data row2 col9\" >circle</td>\n",
       "    </tr>\n",
       "    <tr>\n",
       "      <th id=\"T_7d74a_level0_row3\" class=\"row_heading level0 row3\" >10</th>\n",
       "      <td id=\"T_7d74a_row3_col0\" class=\"data row3 col0\" >1997-07-15 00:00:00</td>\n",
       "      <td id=\"T_7d74a_row3_col1\" class=\"data row3 col1\" >5916</td>\n",
       "      <td id=\"T_7d74a_row3_col2\" class=\"data row3 col2\" >54</td>\n",
       "      <td id=\"T_7d74a_row3_col3\" class=\"data row3 col3\" >2.977257</td>\n",
       "      <td id=\"T_7d74a_row3_col4\" class=\"data row3 col4\" >5.615089</td>\n",
       "      <td id=\"T_7d74a_row3_col5\" class=\"data row3 col5\" >58.913664</td>\n",
       "      <td id=\"T_7d74a_row3_col6\" class=\"data row3 col6\" >71.712570</td>\n",
       "      <td id=\"T_7d74a_row3_col7\" class=\"data row3 col7\" >2.171257</td>\n",
       "      <td id=\"T_7d74a_row3_col8\" class=\"data row3 col8\" >green</td>\n",
       "      <td id=\"T_7d74a_row3_col9\" class=\"data row3 col9\" >nan</td>\n",
       "    </tr>\n",
       "    <tr>\n",
       "      <th id=\"T_7d74a_level0_row4\" class=\"row_heading level0 row4\" >15</th>\n",
       "      <td id=\"T_7d74a_row4_col0\" class=\"data row4 col0\" >1997-07-20 00:00:00</td>\n",
       "      <td id=\"T_7d74a_row4_col1\" class=\"data row4 col1\" >7530</td>\n",
       "      <td id=\"T_7d74a_row4_col2\" class=\"data row4 col2\" >66</td>\n",
       "      <td id=\"T_7d74a_row4_col3\" class=\"data row4 col3\" >1.987739</td>\n",
       "      <td id=\"T_7d74a_row4_col4\" class=\"data row4 col4\" >8.313639</td>\n",
       "      <td id=\"T_7d74a_row4_col5\" class=\"data row4 col5\" >53.048372</td>\n",
       "      <td id=\"T_7d74a_row4_col6\" class=\"data row4 col6\" >nan</td>\n",
       "      <td id=\"T_7d74a_row4_col7\" class=\"data row4 col7\" >-1.775282</td>\n",
       "      <td id=\"T_7d74a_row4_col8\" class=\"data row4 col8\" >blue</td>\n",
       "      <td id=\"T_7d74a_row4_col9\" class=\"data row4 col9\" >square</td>\n",
       "    </tr>\n",
       "    <tr>\n",
       "      <th id=\"T_7d74a_level0_row5\" class=\"row_heading level0 row5\" >19</th>\n",
       "      <td id=\"T_7d74a_row5_col0\" class=\"data row5 col0\" >1997-07-24 00:00:00</td>\n",
       "      <td id=\"T_7d74a_row5_col1\" class=\"data row5 col1\" >4893</td>\n",
       "      <td id=\"T_7d74a_row5_col2\" class=\"data row5 col2\" >16</td>\n",
       "      <td id=\"T_7d74a_row5_col3\" class=\"data row5 col3\" >4.449961</td>\n",
       "      <td id=\"T_7d74a_row5_col4\" class=\"data row5 col4\" >8.879824</td>\n",
       "      <td id=\"T_7d74a_row5_col5\" class=\"data row5 col5\" >45.659763</td>\n",
       "      <td id=\"T_7d74a_row5_col6\" class=\"data row5 col6\" >47.499726</td>\n",
       "      <td id=\"T_7d74a_row5_col7\" class=\"data row5 col7\" >-0.250027</td>\n",
       "      <td id=\"T_7d74a_row5_col8\" class=\"data row5 col8\" >None</td>\n",
       "      <td id=\"T_7d74a_row5_col9\" class=\"data row5 col9\" >circle</td>\n",
       "    </tr>\n",
       "    <tr>\n",
       "      <th id=\"T_7d74a_level0_row6\" class=\"row_heading level0 row6\" >24</th>\n",
       "      <td id=\"T_7d74a_row6_col0\" class=\"data row6 col0\" >1997-07-29 00:00:00</td>\n",
       "      <td id=\"T_7d74a_row6_col1\" class=\"data row6 col1\" >2180</td>\n",
       "      <td id=\"T_7d74a_row6_col2\" class=\"data row6 col2\" >27</td>\n",
       "      <td id=\"T_7d74a_row6_col3\" class=\"data row6 col3\" >7.769746</td>\n",
       "      <td id=\"T_7d74a_row6_col4\" class=\"data row6 col4\" >8.379915</td>\n",
       "      <td id=\"T_7d74a_row6_col5\" class=\"data row6 col5\" >48.369688</td>\n",
       "      <td id=\"T_7d74a_row6_col6\" class=\"data row6 col6\" >41.936399</td>\n",
       "      <td id=\"T_7d74a_row6_col7\" class=\"data row6 col7\" >-0.806360</td>\n",
       "      <td id=\"T_7d74a_row6_col8\" class=\"data row6 col8\" >green</td>\n",
       "      <td id=\"T_7d74a_row6_col9\" class=\"data row6 col9\" >nan</td>\n",
       "    </tr>\n",
       "    <tr>\n",
       "      <th id=\"T_7d74a_level0_row7\" class=\"row_heading level0 row7\" >25</th>\n",
       "      <td id=\"T_7d74a_row7_col0\" class=\"data row7 col0\" >NaT</td>\n",
       "      <td id=\"T_7d74a_row7_col1\" class=\"data row7 col1\" >2977</td>\n",
       "      <td id=\"T_7d74a_row7_col2\" class=\"data row7 col2\" >59</td>\n",
       "      <td id=\"T_7d74a_row7_col3\" class=\"data row7 col3\" >8.293048</td>\n",
       "      <td id=\"T_7d74a_row7_col4\" class=\"data row7 col4\" >0.291570</td>\n",
       "      <td id=\"T_7d74a_row7_col5\" class=\"data row7 col5\" >42.878078</td>\n",
       "      <td id=\"T_7d74a_row7_col6\" class=\"data row7 col6\" >51.312678</td>\n",
       "      <td id=\"T_7d74a_row7_col7\" class=\"data row7 col7\" >0.131268</td>\n",
       "      <td id=\"T_7d74a_row7_col8\" class=\"data row7 col8\" >green</td>\n",
       "      <td id=\"T_7d74a_row7_col9\" class=\"data row7 col9\" >triangle</td>\n",
       "    </tr>\n",
       "    <tr>\n",
       "      <th id=\"T_7d74a_level0_row8\" class=\"row_heading level0 row8\" >34</th>\n",
       "      <td id=\"T_7d74a_row8_col0\" class=\"data row8 col0\" >1997-08-08 00:00:00</td>\n",
       "      <td id=\"T_7d74a_row8_col1\" class=\"data row8 col1\" >2894</td>\n",
       "      <td id=\"T_7d74a_row8_col2\" class=\"data row8 col2\" >66</td>\n",
       "      <td id=\"T_7d74a_row8_col3\" class=\"data row8 col3\" >nan</td>\n",
       "      <td id=\"T_7d74a_row8_col4\" class=\"data row8 col4\" >9.161101</td>\n",
       "      <td id=\"T_7d74a_row8_col5\" class=\"data row8 col5\" >50.899971</td>\n",
       "      <td id=\"T_7d74a_row8_col6\" class=\"data row8 col6\" >59.682053</td>\n",
       "      <td id=\"T_7d74a_row8_col7\" class=\"data row8 col7\" >0.968205</td>\n",
       "      <td id=\"T_7d74a_row8_col8\" class=\"data row8 col8\" >blue</td>\n",
       "      <td id=\"T_7d74a_row8_col9\" class=\"data row8 col9\" >square</td>\n",
       "    </tr>\n",
       "    <tr>\n",
       "      <th id=\"T_7d74a_level0_row9\" class=\"row_heading level0 row9\" >37</th>\n",
       "      <td id=\"T_7d74a_row9_col0\" class=\"data row9 col0\" >1997-08-11 00:00:00</td>\n",
       "      <td id=\"T_7d74a_row9_col1\" class=\"data row9 col1\" >4768</td>\n",
       "      <td id=\"T_7d74a_row9_col2\" class=\"data row9 col2\" >60</td>\n",
       "      <td id=\"T_7d74a_row9_col3\" class=\"data row9 col3\" >0.827355</td>\n",
       "      <td id=\"T_7d74a_row9_col4\" class=\"data row9 col4\" >6.754864</td>\n",
       "      <td id=\"T_7d74a_row9_col5\" class=\"data row9 col5\" >42.369445</td>\n",
       "      <td id=\"T_7d74a_row9_col6\" class=\"data row9 col6\" >54.652823</td>\n",
       "      <td id=\"T_7d74a_row9_col7\" class=\"data row9 col7\" >0.465282</td>\n",
       "      <td id=\"T_7d74a_row9_col8\" class=\"data row9 col8\" >nan</td>\n",
       "      <td id=\"T_7d74a_row9_col9\" class=\"data row9 col9\" >circle</td>\n",
       "    </tr>\n",
       "    <tr>\n",
       "      <th id=\"T_7d74a_level0_row10\" class=\"row_heading level0 row10\" >40</th>\n",
       "      <td id=\"T_7d74a_row10_col0\" class=\"data row10 col0\" >1997-08-14 00:00:00</td>\n",
       "      <td id=\"T_7d74a_row10_col1\" class=\"data row10 col1\" >2431</td>\n",
       "      <td id=\"T_7d74a_row10_col2\" class=\"data row10 col2\" >18</td>\n",
       "      <td id=\"T_7d74a_row10_col3\" class=\"data row10 col3\" >2.201921</td>\n",
       "      <td id=\"T_7d74a_row10_col4\" class=\"data row10 col4\" >2.453724</td>\n",
       "      <td id=\"T_7d74a_row10_col5\" class=\"data row10 col5\" >55.945355</td>\n",
       "      <td id=\"T_7d74a_row10_col6\" class=\"data row10 col6\" >38.445867</td>\n",
       "      <td id=\"T_7d74a_row10_col7\" class=\"data row10 col7\" >-1.155413</td>\n",
       "      <td id=\"T_7d74a_row10_col8\" class=\"data row10 col8\" >None</td>\n",
       "      <td id=\"T_7d74a_row10_col9\" class=\"data row10 col9\" >triangle</td>\n",
       "    </tr>\n",
       "    <tr>\n",
       "      <th id=\"T_7d74a_level0_row11\" class=\"row_heading level0 row11\" >41</th>\n",
       "      <td id=\"T_7d74a_row11_col0\" class=\"data row11 col0\" >1997-08-15 00:00:00</td>\n",
       "      <td id=\"T_7d74a_row11_col1\" class=\"data row11 col1\" >4063</td>\n",
       "      <td id=\"T_7d74a_row11_col2\" class=\"data row11 col2\" >61</td>\n",
       "      <td id=\"T_7d74a_row11_col3\" class=\"data row11 col3\" >7.274125</td>\n",
       "      <td id=\"T_7d74a_row11_col4\" class=\"data row11 col4\" >0.641278</td>\n",
       "      <td id=\"T_7d74a_row11_col5\" class=\"data row11 col5\" >41.359575</td>\n",
       "      <td id=\"T_7d74a_row11_col6\" class=\"data row11 col6\" >83.451574</td>\n",
       "      <td id=\"T_7d74a_row11_col7\" class=\"data row11 col7\" >3.345157</td>\n",
       "      <td id=\"T_7d74a_row11_col8\" class=\"data row11 col8\" >red</td>\n",
       "      <td id=\"T_7d74a_row11_col9\" class=\"data row11 col9\" >nan</td>\n",
       "    </tr>\n",
       "    <tr>\n",
       "      <th id=\"T_7d74a_level0_row12\" class=\"row_heading level0 row12\" >42</th>\n",
       "      <td id=\"T_7d74a_row12_col0\" class=\"data row12 col0\" >1997-08-16 00:00:00</td>\n",
       "      <td id=\"T_7d74a_row12_col1\" class=\"data row12 col1\" >6307</td>\n",
       "      <td id=\"T_7d74a_row12_col2\" class=\"data row12 col2\" >37</td>\n",
       "      <td id=\"T_7d74a_row12_col3\" class=\"data row12 col3\" >nan</td>\n",
       "      <td id=\"T_7d74a_row12_col4\" class=\"data row12 col4\" >4.876773</td>\n",
       "      <td id=\"T_7d74a_row12_col5\" class=\"data row12 col5\" >59.215755</td>\n",
       "      <td id=\"T_7d74a_row12_col6\" class=\"data row12 col6\" >51.267272</td>\n",
       "      <td id=\"T_7d74a_row12_col7\" class=\"data row12 col7\" >0.126727</td>\n",
       "      <td id=\"T_7d74a_row12_col8\" class=\"data row12 col8\" >green</td>\n",
       "      <td id=\"T_7d74a_row12_col9\" class=\"data row12 col9\" >square</td>\n",
       "    </tr>\n",
       "    <tr>\n",
       "      <th id=\"T_7d74a_level0_row13\" class=\"row_heading level0 row13\" >44</th>\n",
       "      <td id=\"T_7d74a_row13_col0\" class=\"data row13 col0\" >1997-08-18 00:00:00</td>\n",
       "      <td id=\"T_7d74a_row13_col1\" class=\"data row13 col1\" >3263</td>\n",
       "      <td id=\"T_7d74a_row13_col2\" class=\"data row13 col2\" >73</td>\n",
       "      <td id=\"T_7d74a_row13_col3\" class=\"data row13 col3\" >5.736099</td>\n",
       "      <td id=\"T_7d74a_row13_col4\" class=\"data row13 col4\" >9.603458</td>\n",
       "      <td id=\"T_7d74a_row13_col5\" class=\"data row13 col5\" >nan</td>\n",
       "      <td id=\"T_7d74a_row13_col6\" class=\"data row13 col6\" >55.576744</td>\n",
       "      <td id=\"T_7d74a_row13_col7\" class=\"data row13 col7\" >0.557674</td>\n",
       "      <td id=\"T_7d74a_row13_col8\" class=\"data row13 col8\" >blue</td>\n",
       "      <td id=\"T_7d74a_row13_col9\" class=\"data row13 col9\" >triangle</td>\n",
       "    </tr>\n",
       "    <tr>\n",
       "      <th id=\"T_7d74a_level0_row14\" class=\"row_heading level0 row14\" >46</th>\n",
       "      <td id=\"T_7d74a_row14_col0\" class=\"data row14 col0\" >1997-08-20 00:00:00</td>\n",
       "      <td id=\"T_7d74a_row14_col1\" class=\"data row14 col1\" >722</td>\n",
       "      <td id=\"T_7d74a_row14_col2\" class=\"data row14 col2\" >66</td>\n",
       "      <td id=\"T_7d74a_row14_col3\" class=\"data row14 col3\" >9.880067</td>\n",
       "      <td id=\"T_7d74a_row14_col4\" class=\"data row14 col4\" >8.328709</td>\n",
       "      <td id=\"T_7d74a_row14_col5\" class=\"data row14 col5\" >57.754727</td>\n",
       "      <td id=\"T_7d74a_row14_col6\" class=\"data row14 col6\" >56.379262</td>\n",
       "      <td id=\"T_7d74a_row14_col7\" class=\"data row14 col7\" >nan</td>\n",
       "      <td id=\"T_7d74a_row14_col8\" class=\"data row14 col8\" >red</td>\n",
       "      <td id=\"T_7d74a_row14_col9\" class=\"data row14 col9\" >circle</td>\n",
       "    </tr>\n",
       "    <tr>\n",
       "      <th id=\"T_7d74a_level0_row15\" class=\"row_heading level0 row15\" >47</th>\n",
       "      <td id=\"T_7d74a_row15_col0\" class=\"data row15 col0\" >1997-08-21 00:00:00</td>\n",
       "      <td id=\"T_7d74a_row15_col1\" class=\"data row15 col1\" >1838</td>\n",
       "      <td id=\"T_7d74a_row15_col2\" class=\"data row15 col2\" >67</td>\n",
       "      <td id=\"T_7d74a_row15_col3\" class=\"data row15 col3\" >4.981437</td>\n",
       "      <td id=\"T_7d74a_row15_col4\" class=\"data row15 col4\" >nan</td>\n",
       "      <td id=\"T_7d74a_row15_col5\" class=\"data row15 col5\" >42.678913</td>\n",
       "      <td id=\"T_7d74a_row15_col6\" class=\"data row15 col6\" >57.031107</td>\n",
       "      <td id=\"T_7d74a_row15_col7\" class=\"data row15 col7\" >0.703111</td>\n",
       "      <td id=\"T_7d74a_row15_col8\" class=\"data row15 col8\" >green</td>\n",
       "      <td id=\"T_7d74a_row15_col9\" class=\"data row15 col9\" >triangle</td>\n",
       "    </tr>\n",
       "    <tr>\n",
       "      <th id=\"T_7d74a_level0_row16\" class=\"row_heading level0 row16\" >53</th>\n",
       "      <td id=\"T_7d74a_row16_col0\" class=\"data row16 col0\" >1997-08-27 00:00:00</td>\n",
       "      <td id=\"T_7d74a_row16_col1\" class=\"data row16 col1\" >888</td>\n",
       "      <td id=\"T_7d74a_row16_col2\" class=\"data row16 col2\" >59</td>\n",
       "      <td id=\"T_7d74a_row16_col3\" class=\"data row16 col3\" >1.193864</td>\n",
       "      <td id=\"T_7d74a_row16_col4\" class=\"data row16 col4\" >5.209595</td>\n",
       "      <td id=\"T_7d74a_row16_col5\" class=\"data row16 col5\" >48.745040</td>\n",
       "      <td id=\"T_7d74a_row16_col6\" class=\"data row16 col6\" >nan</td>\n",
       "      <td id=\"T_7d74a_row16_col7\" class=\"data row16 col7\" >-0.581410</td>\n",
       "      <td id=\"T_7d74a_row16_col8\" class=\"data row16 col8\" >green</td>\n",
       "      <td id=\"T_7d74a_row16_col9\" class=\"data row16 col9\" >triangle</td>\n",
       "    </tr>\n",
       "    <tr>\n",
       "      <th id=\"T_7d74a_level0_row17\" class=\"row_heading level0 row17\" >67</th>\n",
       "      <td id=\"T_7d74a_row17_col0\" class=\"data row17 col0\" >1997-09-10 00:00:00</td>\n",
       "      <td id=\"T_7d74a_row17_col1\" class=\"data row17 col1\" >4513</td>\n",
       "      <td id=\"T_7d74a_row17_col2\" class=\"data row17 col2\" >22</td>\n",
       "      <td id=\"T_7d74a_row17_col3\" class=\"data row17 col3\" >2.355312</td>\n",
       "      <td id=\"T_7d74a_row17_col4\" class=\"data row17 col4\" >nan</td>\n",
       "      <td id=\"T_7d74a_row17_col5\" class=\"data row17 col5\" >55.363809</td>\n",
       "      <td id=\"T_7d74a_row17_col6\" class=\"data row17 col6\" >50.835544</td>\n",
       "      <td id=\"T_7d74a_row17_col7\" class=\"data row17 col7\" >0.083554</td>\n",
       "      <td id=\"T_7d74a_row17_col8\" class=\"data row17 col8\" >green</td>\n",
       "      <td id=\"T_7d74a_row17_col9\" class=\"data row17 col9\" >triangle</td>\n",
       "    </tr>\n",
       "    <tr>\n",
       "      <th id=\"T_7d74a_level0_row18\" class=\"row_heading level0 row18\" >72</th>\n",
       "      <td id=\"T_7d74a_row18_col0\" class=\"data row18 col0\" >1997-09-15 00:00:00</td>\n",
       "      <td id=\"T_7d74a_row18_col1\" class=\"data row18 col1\" >5985</td>\n",
       "      <td id=\"T_7d74a_row18_col2\" class=\"data row18 col2\" >13</td>\n",
       "      <td id=\"T_7d74a_row18_col3\" class=\"data row18 col3\" >3.472464</td>\n",
       "      <td id=\"T_7d74a_row18_col4\" class=\"data row18 col4\" >2.145170</td>\n",
       "      <td id=\"T_7d74a_row18_col5\" class=\"data row18 col5\" >nan</td>\n",
       "      <td id=\"T_7d74a_row18_col6\" class=\"data row18 col6\" >53.930947</td>\n",
       "      <td id=\"T_7d74a_row18_col7\" class=\"data row18 col7\" >0.393095</td>\n",
       "      <td id=\"T_7d74a_row18_col8\" class=\"data row18 col8\" >green</td>\n",
       "      <td id=\"T_7d74a_row18_col9\" class=\"data row18 col9\" >square</td>\n",
       "    </tr>\n",
       "    <tr>\n",
       "      <th id=\"T_7d74a_level0_row19\" class=\"row_heading level0 row19\" >73</th>\n",
       "      <td id=\"T_7d74a_row19_col0\" class=\"data row19 col0\" >1997-09-16 00:00:00</td>\n",
       "      <td id=\"T_7d74a_row19_col1\" class=\"data row19 col1\" >6354</td>\n",
       "      <td id=\"T_7d74a_row19_col2\" class=\"data row19 col2\" >84</td>\n",
       "      <td id=\"T_7d74a_row19_col3\" class=\"data row19 col3\" >7.945283</td>\n",
       "      <td id=\"T_7d74a_row19_col4\" class=\"data row19 col4\" >7.917093</td>\n",
       "      <td id=\"T_7d74a_row19_col5\" class=\"data row19 col5\" >54.312865</td>\n",
       "      <td id=\"T_7d74a_row19_col6\" class=\"data row19 col6\" >56.844951</td>\n",
       "      <td id=\"T_7d74a_row19_col7\" class=\"data row19 col7\" >0.684495</td>\n",
       "      <td id=\"T_7d74a_row19_col8\" class=\"data row19 col8\" >None</td>\n",
       "      <td id=\"T_7d74a_row19_col9\" class=\"data row19 col9\" >triangle</td>\n",
       "    </tr>\n",
       "    <tr>\n",
       "      <th id=\"T_7d74a_level0_row20\" class=\"row_heading level0 row20\" >75</th>\n",
       "      <td id=\"T_7d74a_row20_col0\" class=\"data row20 col0\" >1997-09-18 00:00:00</td>\n",
       "      <td id=\"T_7d74a_row20_col1\" class=\"data row20 col1\" >4239</td>\n",
       "      <td id=\"T_7d74a_row20_col2\" class=\"data row20 col2\" >69</td>\n",
       "      <td id=\"T_7d74a_row20_col3\" class=\"data row20 col3\" >0.558966</td>\n",
       "      <td id=\"T_7d74a_row20_col4\" class=\"data row20 col4\" >2.324704</td>\n",
       "      <td id=\"T_7d74a_row20_col5\" class=\"data row20 col5\" >53.509729</td>\n",
       "      <td id=\"T_7d74a_row20_col6\" class=\"data row20 col6\" >nan</td>\n",
       "      <td id=\"T_7d74a_row20_col7\" class=\"data row20 col7\" >0.556003</td>\n",
       "      <td id=\"T_7d74a_row20_col8\" class=\"data row20 col8\" >blue</td>\n",
       "      <td id=\"T_7d74a_row20_col9\" class=\"data row20 col9\" >circle</td>\n",
       "    </tr>\n",
       "    <tr>\n",
       "      <th id=\"T_7d74a_level0_row21\" class=\"row_heading level0 row21\" >82</th>\n",
       "      <td id=\"T_7d74a_row21_col0\" class=\"data row21 col0\" >NaT</td>\n",
       "      <td id=\"T_7d74a_row21_col1\" class=\"data row21 col1\" >4236</td>\n",
       "      <td id=\"T_7d74a_row21_col2\" class=\"data row21 col2\" >56</td>\n",
       "      <td id=\"T_7d74a_row21_col3\" class=\"data row21 col3\" >2.071701</td>\n",
       "      <td id=\"T_7d74a_row21_col4\" class=\"data row21 col4\" >9.561883</td>\n",
       "      <td id=\"T_7d74a_row21_col5\" class=\"data row21 col5\" >54.548250</td>\n",
       "      <td id=\"T_7d74a_row21_col6\" class=\"data row21 col6\" >50.572798</td>\n",
       "      <td id=\"T_7d74a_row21_col7\" class=\"data row21 col7\" >0.057280</td>\n",
       "      <td id=\"T_7d74a_row21_col8\" class=\"data row21 col8\" >blue</td>\n",
       "      <td id=\"T_7d74a_row21_col9\" class=\"data row21 col9\" >square</td>\n",
       "    </tr>\n",
       "    <tr>\n",
       "      <th id=\"T_7d74a_level0_row22\" class=\"row_heading level0 row22\" >83</th>\n",
       "      <td id=\"T_7d74a_row22_col0\" class=\"data row22 col0\" >1997-09-26 00:00:00</td>\n",
       "      <td id=\"T_7d74a_row22_col1\" class=\"data row22 col1\" >2854</td>\n",
       "      <td id=\"T_7d74a_row22_col2\" class=\"data row22 col2\" >53</td>\n",
       "      <td id=\"T_7d74a_row22_col3\" class=\"data row22 col3\" >9.868105</td>\n",
       "      <td id=\"T_7d74a_row22_col4\" class=\"data row22 col4\" >8.293788</td>\n",
       "      <td id=\"T_7d74a_row22_col5\" class=\"data row22 col5\" >41.282555</td>\n",
       "      <td id=\"T_7d74a_row22_col6\" class=\"data row22 col6\" >nan</td>\n",
       "      <td id=\"T_7d74a_row22_col7\" class=\"data row22 col7\" >-1.040172</td>\n",
       "      <td id=\"T_7d74a_row22_col8\" class=\"data row22 col8\" >red</td>\n",
       "      <td id=\"T_7d74a_row22_col9\" class=\"data row22 col9\" >triangle</td>\n",
       "    </tr>\n",
       "    <tr>\n",
       "      <th id=\"T_7d74a_level0_row23\" class=\"row_heading level0 row23\" >85</th>\n",
       "      <td id=\"T_7d74a_row23_col0\" class=\"data row23 col0\" >1997-09-28 00:00:00</td>\n",
       "      <td id=\"T_7d74a_row23_col1\" class=\"data row23 col1\" >6035</td>\n",
       "      <td id=\"T_7d74a_row23_col2\" class=\"data row23 col2\" >72</td>\n",
       "      <td id=\"T_7d74a_row23_col3\" class=\"data row23 col3\" >nan</td>\n",
       "      <td id=\"T_7d74a_row23_col4\" class=\"data row23 col4\" >1.061134</td>\n",
       "      <td id=\"T_7d74a_row23_col5\" class=\"data row23 col5\" >49.753547</td>\n",
       "      <td id=\"T_7d74a_row23_col6\" class=\"data row23 col6\" >48.799655</td>\n",
       "      <td id=\"T_7d74a_row23_col7\" class=\"data row23 col7\" >-0.120035</td>\n",
       "      <td id=\"T_7d74a_row23_col8\" class=\"data row23 col8\" >blue</td>\n",
       "      <td id=\"T_7d74a_row23_col9\" class=\"data row23 col9\" >circle</td>\n",
       "    </tr>\n",
       "    <tr>\n",
       "      <th id=\"T_7d74a_level0_row24\" class=\"row_heading level0 row24\" >88</th>\n",
       "      <td id=\"T_7d74a_row24_col0\" class=\"data row24 col0\" >1997-10-01 00:00:00</td>\n",
       "      <td id=\"T_7d74a_row24_col1\" class=\"data row24 col1\" >1702</td>\n",
       "      <td id=\"T_7d74a_row24_col2\" class=\"data row24 col2\" >77</td>\n",
       "      <td id=\"T_7d74a_row24_col3\" class=\"data row24 col3\" >2.610089</td>\n",
       "      <td id=\"T_7d74a_row24_col4\" class=\"data row24 col4\" >5.301368</td>\n",
       "      <td id=\"T_7d74a_row24_col5\" class=\"data row24 col5\" >51.472199</td>\n",
       "      <td id=\"T_7d74a_row24_col6\" class=\"data row24 col6\" >nan</td>\n",
       "      <td id=\"T_7d74a_row24_col7\" class=\"data row24 col7\" >1.233529</td>\n",
       "      <td id=\"T_7d74a_row24_col8\" class=\"data row24 col8\" >green</td>\n",
       "      <td id=\"T_7d74a_row24_col9\" class=\"data row24 col9\" >circle</td>\n",
       "    </tr>\n",
       "    <tr>\n",
       "      <th id=\"T_7d74a_level0_row25\" class=\"row_heading level0 row25\" >92</th>\n",
       "      <td id=\"T_7d74a_row25_col0\" class=\"data row25 col0\" >1997-10-05 00:00:00</td>\n",
       "      <td id=\"T_7d74a_row25_col1\" class=\"data row25 col1\" >8057</td>\n",
       "      <td id=\"T_7d74a_row25_col2\" class=\"data row25 col2\" >60</td>\n",
       "      <td id=\"T_7d74a_row25_col3\" class=\"data row25 col3\" >5.927891</td>\n",
       "      <td id=\"T_7d74a_row25_col4\" class=\"data row25 col4\" >0.157152</td>\n",
       "      <td id=\"T_7d74a_row25_col5\" class=\"data row25 col5\" >nan</td>\n",
       "      <td id=\"T_7d74a_row25_col6\" class=\"data row25 col6\" >78.711269</td>\n",
       "      <td id=\"T_7d74a_row25_col7\" class=\"data row25 col7\" >2.871127</td>\n",
       "      <td id=\"T_7d74a_row25_col8\" class=\"data row25 col8\" >blue</td>\n",
       "      <td id=\"T_7d74a_row25_col9\" class=\"data row25 col9\" >square</td>\n",
       "    </tr>\n",
       "    <tr>\n",
       "      <th id=\"T_7d74a_level0_row26\" class=\"row_heading level0 row26\" >93</th>\n",
       "      <td id=\"T_7d74a_row26_col0\" class=\"data row26 col0\" >1997-10-06 00:00:00</td>\n",
       "      <td id=\"T_7d74a_row26_col1\" class=\"data row26 col1\" >7691</td>\n",
       "      <td id=\"T_7d74a_row26_col2\" class=\"data row26 col2\" >11</td>\n",
       "      <td id=\"T_7d74a_row26_col3\" class=\"data row26 col3\" >5.859937</td>\n",
       "      <td id=\"T_7d74a_row26_col4\" class=\"data row26 col4\" >4.086629</td>\n",
       "      <td id=\"T_7d74a_row26_col5\" class=\"data row26 col5\" >nan</td>\n",
       "      <td id=\"T_7d74a_row26_col6\" class=\"data row26 col6\" >37.919143</td>\n",
       "      <td id=\"T_7d74a_row26_col7\" class=\"data row26 col7\" >-1.208086</td>\n",
       "      <td id=\"T_7d74a_row26_col8\" class=\"data row26 col8\" >green</td>\n",
       "      <td id=\"T_7d74a_row26_col9\" class=\"data row26 col9\" >circle</td>\n",
       "    </tr>\n",
       "    <tr>\n",
       "      <th id=\"T_7d74a_level0_row27\" class=\"row_heading level0 row27\" >99</th>\n",
       "      <td id=\"T_7d74a_row27_col0\" class=\"data row27 col0\" >1997-10-12 00:00:00</td>\n",
       "      <td id=\"T_7d74a_row27_col1\" class=\"data row27 col1\" >1578</td>\n",
       "      <td id=\"T_7d74a_row27_col2\" class=\"data row27 col2\" >77</td>\n",
       "      <td id=\"T_7d74a_row27_col3\" class=\"data row27 col3\" >9.868106</td>\n",
       "      <td id=\"T_7d74a_row27_col4\" class=\"data row27 col4\" >5.397452</td>\n",
       "      <td id=\"T_7d74a_row27_col5\" class=\"data row27 col5\" >56.472400</td>\n",
       "      <td id=\"T_7d74a_row27_col6\" class=\"data row27 col6\" >nan</td>\n",
       "      <td id=\"T_7d74a_row27_col7\" class=\"data row27 col7\" >2.215901</td>\n",
       "      <td id=\"T_7d74a_row27_col8\" class=\"data row27 col8\" >red</td>\n",
       "      <td id=\"T_7d74a_row27_col9\" class=\"data row27 col9\" >None</td>\n",
       "    </tr>\n",
       "  </tbody>\n",
       "</table>\n"
      ],
      "text/plain": [
       "<pandas.io.formats.style.Styler at 0x140b5bd90>"
      ]
     },
     "execution_count": 112,
     "metadata": {},
     "output_type": "execute_result"
    }
   ],
   "source": [
    "df[0 < df.isnull().sum(axis=1)].style.highlight_null(null_color='#f00')"
   ]
  },
  {
   "cell_type": "markdown",
   "id": "002ab684",
   "metadata": {},
   "source": [
    "nullは平均値の計算などに影響するか"
   ]
  },
  {
   "cell_type": "code",
   "execution_count": 114,
   "id": "9fb55b9d",
   "metadata": {},
   "outputs": [
    {
     "data": {
      "text/plain": [
       "51.022066593933225"
      ]
     },
     "execution_count": 114,
     "metadata": {},
     "output_type": "execute_result"
    }
   ],
   "source": [
    "df['Score'].mean()"
   ]
  },
  {
   "cell_type": "code",
   "execution_count": 115,
   "id": "9166510e-c3e0-48c5-817f-2d24796cb861",
   "metadata": {},
   "outputs": [
    {
     "data": {
      "text/plain": [
       "4745.05219323579"
      ]
     },
     "execution_count": 115,
     "metadata": {},
     "output_type": "execute_result"
    }
   ],
   "source": [
    "df['Score'].sum()"
   ]
  },
  {
   "cell_type": "code",
   "execution_count": 117,
   "id": "751f5cb2-12cd-4a56-bd75-8cb1e1e8a14f",
   "metadata": {},
   "outputs": [
    {
     "data": {
      "text/plain": [
       "93.0"
      ]
     },
     "execution_count": 117,
     "metadata": {},
     "output_type": "execute_result"
    }
   ],
   "source": [
    "df['Score'].sum() / df['Score'].mean()"
   ]
  },
  {
   "cell_type": "code",
   "execution_count": 118,
   "id": "d4decfe6-f1d9-4a90-936a-78382a0627ee",
   "metadata": {},
   "outputs": [
    {
     "data": {
      "text/plain": [
       "93"
      ]
     },
     "execution_count": 118,
     "metadata": {},
     "output_type": "execute_result"
    }
   ],
   "source": [
    "df['Score'].count()"
   ]
  },
  {
   "cell_type": "markdown",
   "id": "c956a442",
   "metadata": {},
   "source": [
    "欠損値の有無を視覚化  \n",
    "※ seabornやグラフについての詳細は別のレクチャーで解説します"
   ]
  },
  {
   "cell_type": "code",
   "execution_count": 120,
   "id": "2bfde741",
   "metadata": {},
   "outputs": [
    {
     "data": {
      "image/png": "[encoded data removed]",
      "text/plain": [
       "<Figure size 1200x600 with 1 Axes>"
      ]
     },
     "metadata": {},
     "output_type": "display_data"
    }
   ],
   "source": [
    "plt.figure(figsize=(12, 6))\n",
    "sns.heatmap(df.isnull(), yticklabels=False, cbar=False)\n",
    "plt.show()"
   ]
  },
  {
   "cell_type": "markdown",
   "id": "3d0e4b43",
   "metadata": {},
   "source": [
    "---\n",
    "<a id=6></a>\n",
    "[Topへ](#0)\n",
    "\n",
    "---\n",
    "## 6.DataFrameを別のファイルとして保存\n",
    "---"
   ]
  },
  {
   "cell_type": "code",
   "execution_count": 121,
   "id": "0a27631b",
   "metadata": {},
   "outputs": [],
   "source": [
    "df.to_csv('sample_with_index.csv')"
   ]
  },
  {
   "cell_type": "code",
   "execution_count": 122,
   "id": "618bc4c7-6af8-40d5-9a56-1c4b140afe8a",
   "metadata": {},
   "outputs": [],
   "source": [
    "df.to_csv('sample_without_index.csv', index=False)"
   ]
  },
  {
   "cell_type": "code",
   "execution_count": 124,
   "id": "8ed9f674-5ad8-4a9b-85e5-3964bc8e863d",
   "metadata": {},
   "outputs": [],
   "source": [
    "df.to_pickle('sample1.pkl')"
   ]
  },
  {
   "cell_type": "markdown",
   "id": "ea75d049",
   "metadata": {},
   "source": [
    "---\n",
    "[Topへ](#0)\n",
    "\n",
    "---\n",
    "## 以上\n",
    "---"
   ]
  }
 ],
 "metadata": {
  "kernelspec": {
   "display_name": "Python 3 (ipykernel)",
   "language": "python",
   "name": "python3"
  },
  "language_info": {
   "codemirror_mode": {
    "name": "ipython",
    "version": 3
   },
   "file_extension": ".py",
   "mimetype": "text/x-python",
   "name": "python",
   "nbconvert_exporter": "python",
   "pygments_lexer": "ipython3",
   "version": "3.11.8"
  }
 },
 "nbformat": 4,
 "nbformat_minor": 5
}
