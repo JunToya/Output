{
 "cells": [
  {
   "cell_type": "markdown",
   "id": "2346558a",
   "metadata": {},
   "source": [
    "<a id=0></a>  \n",
    "# 1. Numpy ndarrayを理解する\n",
    "### ※ Numpy : ”Numerical Python”、数値計算・配列計算を高速で実行できるパッケージ"
   ]
  },
  {
   "cell_type": "markdown",
   "id": "d42a05df",
   "metadata": {},
   "source": [
    "---\n",
    "### [1.Python ListとNumpy ndarray ](#1)\n",
    "### [2.Numpyの関数で連番、等差数列を作成](#2)\n",
    "### [3.Randomモジュールによる乱数Arrayの作成と次元の変換](#3)\n",
    "### [4.Numpy ndarrayの次元、形状、サイズ](#4)\n",
    "### [5.Numpy ndarrayの演算例](#5)\n",
    "---"
   ]
  },
  {
   "cell_type": "markdown",
   "id": "650acfd3",
   "metadata": {},
   "source": [
    "Numpyをnpというエイリアス（別名）でインポートする  "
   ]
  },
  {
   "cell_type": "code",
   "execution_count": 1,
   "id": "972ba1da",
   "metadata": {},
   "outputs": [],
   "source": [
    "import numpy as np"
   ]
  },
  {
   "cell_type": "markdown",
   "id": "1279c566",
   "metadata": {},
   "source": [
    "---\n",
    "<a id=1></a>\n",
    "[Topへ](#0)\n",
    "\n",
    "---\n",
    "## 1.Python ListとNumpy ndarray      "
   ]
  },
  {
   "cell_type": "markdown",
   "id": "0e8bcf67",
   "metadata": {},
   "source": [
    "* ListとNumpy ndarrayを作成\n",
    "* 型（タイプ）を確認  \n",
    "* Numpy ndarrayのデータタイプ（Numpy ndarrayではすべての要素のデータタイプが統一される）\n",
    "* Numpy ndarrayの演算例\n",
    "* Numpy ndarrayの最大値、最小値、平均、合計\n",
    "* Numpy ndarrayは要素の形状を一定に\n",
    "* Numpy ndarrayのデータタイプ変換\n",
    "---"
   ]
  },
  {
   "cell_type": "markdown",
   "id": "1471a3cb",
   "metadata": {},
   "source": [
    "List と ndarrayを作成"
   ]
  },
  {
   "cell_type": "code",
   "execution_count": 2,
   "id": "160306be",
   "metadata": {},
   "outputs": [
    {
     "data": {
      "text/plain": [
       "[1, 3, 5]"
      ]
     },
     "execution_count": 2,
     "metadata": {},
     "output_type": "execute_result"
    }
   ],
   "source": [
    "arr1 = [1, 3, 5]\n",
    "arr2 = [2, 4, 6]\n",
    "arr1"
   ]
  },
  {
   "cell_type": "code",
   "execution_count": 4,
   "id": "f209f28d-b907-49e7-95e1-b96cc83ef8b6",
   "metadata": {},
   "outputs": [
    {
     "data": {
      "text/plain": [
       "array([1, 3, 5])"
      ]
     },
     "execution_count": 4,
     "metadata": {},
     "output_type": "execute_result"
    }
   ],
   "source": [
    "np_arr1 = np.array(arr1)\n",
    "np_arr2 = np.array(arr2)\n",
    "np_arr1"
   ]
  },
  {
   "cell_type": "markdown",
   "id": "5938050d",
   "metadata": {},
   "source": [
    "型（タイプ）を確認  \n",
    "※ ndarray : n dimentional array（多次元配列）"
   ]
  },
  {
   "cell_type": "code",
   "execution_count": 6,
   "id": "69785e4b",
   "metadata": {
    "scrolled": true
   },
   "outputs": [
    {
     "name": "stdout",
     "output_type": "stream",
     "text": [
      "<class 'list'>\n",
      "<class 'numpy.ndarray'>\n"
     ]
    }
   ],
   "source": [
    "print(type(arr1))\n",
    "print(type(np_arr1))"
   ]
  },
  {
   "cell_type": "markdown",
   "id": "732627d7",
   "metadata": {},
   "source": [
    "Numpy ndarrayのデータタイプ（Numpy ndarrayではすべての要素のデータタイプが統一される）"
   ]
  },
  {
   "cell_type": "code",
   "execution_count": 8,
   "id": "5f213384",
   "metadata": {},
   "outputs": [
    {
     "data": {
      "text/plain": [
       "dtype('int64')"
      ]
     },
     "execution_count": 8,
     "metadata": {},
     "output_type": "execute_result"
    }
   ],
   "source": [
    "np_arr1.dtype"
   ]
  },
  {
   "cell_type": "markdown",
   "id": "85da2428",
   "metadata": {},
   "source": [
    "NumpyArrayの演算例"
   ]
  },
  {
   "cell_type": "code",
   "execution_count": 9,
   "id": "a4faad9e-d53c-417b-8a95-273be51e4f59",
   "metadata": {},
   "outputs": [
    {
     "data": {
      "text/plain": [
       "array([ 2,  6, 10])"
      ]
     },
     "execution_count": 9,
     "metadata": {},
     "output_type": "execute_result"
    }
   ],
   "source": [
    "np_arr1 * 2"
   ]
  },
  {
   "cell_type": "code",
   "execution_count": 10,
   "id": "78543d5c-a981-4c4c-9e40-250925a0912a",
   "metadata": {},
   "outputs": [
    {
     "data": {
      "text/plain": [
       "[1, 3, 5, 1, 3, 5]"
      ]
     },
     "execution_count": 10,
     "metadata": {},
     "output_type": "execute_result"
    }
   ],
   "source": [
    "arr1 * 2"
   ]
  },
  {
   "cell_type": "code",
   "execution_count": 11,
   "id": "164c7ac2-b609-4e73-9e06-c327a786042c",
   "metadata": {},
   "outputs": [
    {
     "data": {
      "text/plain": [
       "array([ 3,  7, 11])"
      ]
     },
     "execution_count": 11,
     "metadata": {},
     "output_type": "execute_result"
    }
   ],
   "source": [
    "np_arr1 + np_arr2"
   ]
  },
  {
   "cell_type": "code",
   "execution_count": 12,
   "id": "81c8cb59-26c8-4b14-94eb-c8dbacf79271",
   "metadata": {},
   "outputs": [
    {
     "data": {
      "text/plain": [
       "[1, 3, 5, 2, 4, 6]"
      ]
     },
     "execution_count": 12,
     "metadata": {},
     "output_type": "execute_result"
    }
   ],
   "source": [
    "arr1 + arr2"
   ]
  },
  {
   "cell_type": "code",
   "execution_count": 13,
   "id": "6a962809-5085-4b58-9ec0-15597564256f",
   "metadata": {},
   "outputs": [
    {
     "data": {
      "text/plain": [
       "array([ 2, 12, 30])"
      ]
     },
     "execution_count": 13,
     "metadata": {},
     "output_type": "execute_result"
    }
   ],
   "source": [
    "np_arr1 * np_arr2"
   ]
  },
  {
   "cell_type": "markdown",
   "id": "e3848cf8",
   "metadata": {},
   "source": [
    "Numpy ndarrayの最大値、最小値、平均、合計（全要素に対する）"
   ]
  },
  {
   "cell_type": "code",
   "execution_count": 14,
   "id": "e329a8c4-ab97-49c4-802b-97738548148f",
   "metadata": {},
   "outputs": [
    {
     "data": {
      "text/plain": [
       "5"
      ]
     },
     "execution_count": 14,
     "metadata": {},
     "output_type": "execute_result"
    }
   ],
   "source": [
    "np_arr1.max()"
   ]
  },
  {
   "cell_type": "code",
   "execution_count": 15,
   "id": "c0906258-7e8e-412e-8ea6-fa0bca395ca4",
   "metadata": {},
   "outputs": [
    {
     "data": {
      "text/plain": [
       "1"
      ]
     },
     "execution_count": 15,
     "metadata": {},
     "output_type": "execute_result"
    }
   ],
   "source": [
    "np_arr1.min()"
   ]
  },
  {
   "cell_type": "code",
   "execution_count": null,
   "id": "e12bf731-80a9-47b2-8330-c52b2a02d95b",
   "metadata": {},
   "outputs": [],
   "source": []
  },
  {
   "cell_type": "code",
   "execution_count": null,
   "id": "a9abe512-5636-4543-8d68-f2f85710c1e2",
   "metadata": {},
   "outputs": [],
   "source": []
  },
  {
   "cell_type": "markdown",
   "id": "a70bb654",
   "metadata": {},
   "source": [
    "ファンシーインデックス"
   ]
  },
  {
   "cell_type": "code",
   "execution_count": 16,
   "id": "28a93237",
   "metadata": {},
   "outputs": [],
   "source": [
    "arr3 = [[0, 100], [200, 300]]\n",
    "np_arr3 = np.array(arr3)"
   ]
  },
  {
   "cell_type": "code",
   "execution_count": 17,
   "id": "f29534ab-5310-4b47-9b1e-5e855d1d4112",
   "metadata": {},
   "outputs": [
    {
     "data": {
      "text/plain": [
       "100"
      ]
     },
     "execution_count": 17,
     "metadata": {},
     "output_type": "execute_result"
    }
   ],
   "source": [
    "arr3[0][1]"
   ]
  },
  {
   "cell_type": "code",
   "execution_count": 19,
   "id": "662a1bf0-3347-4d97-b724-8b18851b11ef",
   "metadata": {},
   "outputs": [
    {
     "data": {
      "text/plain": [
       "100"
      ]
     },
     "execution_count": 19,
     "metadata": {},
     "output_type": "execute_result"
    }
   ],
   "source": [
    "np_arr3[0, 1]"
   ]
  },
  {
   "cell_type": "code",
   "execution_count": 20,
   "id": "b7da034c-4e58-4a5a-a5a5-0e976cee1e5a",
   "metadata": {},
   "outputs": [
    {
     "data": {
      "text/plain": [
       "array([[  0, 100],\n",
       "       [200, 300]])"
      ]
     },
     "execution_count": 20,
     "metadata": {},
     "output_type": "execute_result"
    }
   ],
   "source": [
    "np_arr3"
   ]
  },
  {
   "cell_type": "code",
   "execution_count": null,
   "id": "d2c83ab7-ff3f-41a9-9841-e38a19e71a13",
   "metadata": {},
   "outputs": [],
   "source": []
  },
  {
   "cell_type": "markdown",
   "id": "28c17db2",
   "metadata": {},
   "source": [
    "Numpy ndarrayは各次元の要素の形状を一定に"
   ]
  },
  {
   "cell_type": "code",
   "execution_count": 21,
   "id": "e295a1d2",
   "metadata": {},
   "outputs": [],
   "source": [
    "arr4 = [0, [100, 200], [300, 400, 500]]"
   ]
  },
  {
   "cell_type": "code",
   "execution_count": 22,
   "id": "b8add70a-ba3f-426b-8c9d-b19948c533ea",
   "metadata": {},
   "outputs": [
    {
     "ename": "ValueError",
     "evalue": "setting an array element with a sequence. The requested array has an inhomogeneous shape after 1 dimensions. The detected shape was (3,) + inhomogeneous part.",
     "output_type": "error",
     "traceback": [
      "\u001b[0;31m---------------------------------------------------------------------------\u001b[0m",
      "\u001b[0;31mValueError\u001b[0m                                Traceback (most recent call last)",
      "Cell \u001b[0;32mIn[22], line 1\u001b[0m\n\u001b[0;32m----> 1\u001b[0m np\u001b[38;5;241m.\u001b[39marray(arr4)\n",
      "\u001b[0;31mValueError\u001b[0m: setting an array element with a sequence. The requested array has an inhomogeneous shape after 1 dimensions. The detected shape was (3,) + inhomogeneous part."
     ]
    }
   ],
   "source": [
    "np.array(arr4)"
   ]
  },
  {
   "cell_type": "code",
   "execution_count": 24,
   "id": "002c63b1-16c2-466a-9794-0334dd816ca8",
   "metadata": {},
   "outputs": [],
   "source": [
    "arr5 = [[0, [1, 2]], [3, [4, 5]]]"
   ]
  },
  {
   "cell_type": "code",
   "execution_count": 25,
   "id": "f4b1eaf0-525e-44e5-9c14-16bae2d8111e",
   "metadata": {},
   "outputs": [
    {
     "ename": "ValueError",
     "evalue": "setting an array element with a sequence. The requested array has an inhomogeneous shape after 2 dimensions. The detected shape was (2, 2) + inhomogeneous part.",
     "output_type": "error",
     "traceback": [
      "\u001b[0;31m---------------------------------------------------------------------------\u001b[0m",
      "\u001b[0;31mValueError\u001b[0m                                Traceback (most recent call last)",
      "Cell \u001b[0;32mIn[25], line 1\u001b[0m\n\u001b[0;32m----> 1\u001b[0m np\u001b[38;5;241m.\u001b[39marray(arr5)\n",
      "\u001b[0;31mValueError\u001b[0m: setting an array element with a sequence. The requested array has an inhomogeneous shape after 2 dimensions. The detected shape was (2, 2) + inhomogeneous part."
     ]
    }
   ],
   "source": [
    "np.array(arr5)"
   ]
  },
  {
   "cell_type": "code",
   "execution_count": 27,
   "id": "44e375f2-ee7f-4829-9836-a3ac27d10a61",
   "metadata": {},
   "outputs": [
    {
     "data": {
      "text/plain": [
       "array([[0, list([1, 2])],\n",
       "       [3, list([4, 5])]], dtype=object)"
      ]
     },
     "execution_count": 27,
     "metadata": {},
     "output_type": "execute_result"
    }
   ],
   "source": [
    "np.array(arr5, dtype=object)"
   ]
  },
  {
   "cell_type": "code",
   "execution_count": null,
   "id": "7a7da1a5-7749-43db-a87e-e442a8d82155",
   "metadata": {},
   "outputs": [],
   "source": []
  },
  {
   "cell_type": "markdown",
   "id": "0ab71d25",
   "metadata": {},
   "source": [
    "Numpy ndarrayのデータタイプ変換"
   ]
  },
  {
   "cell_type": "code",
   "execution_count": 28,
   "id": "c8cf267b-dbfa-410e-b4da-32ec4ac85080",
   "metadata": {},
   "outputs": [
    {
     "data": {
      "text/plain": [
       "array([[0., 1., 2.],\n",
       "       [3., 4., 5.]])"
      ]
     },
     "execution_count": 28,
     "metadata": {},
     "output_type": "execute_result"
    }
   ],
   "source": [
    "arr6 = [[0, 1, 2.0], [3, 4, 5]]\n",
    "np_arr6 = np.array(arr6)\n",
    "np_arr6"
   ]
  },
  {
   "cell_type": "code",
   "execution_count": 29,
   "id": "d287170d",
   "metadata": {},
   "outputs": [
    {
     "data": {
      "text/plain": [
       "dtype('float64')"
      ]
     },
     "execution_count": 29,
     "metadata": {},
     "output_type": "execute_result"
    }
   ],
   "source": [
    "np_arr6.dtype"
   ]
  },
  {
   "cell_type": "code",
   "execution_count": 31,
   "id": "7838d02c-5e31-40e4-8550-940f379bb6ab",
   "metadata": {},
   "outputs": [],
   "source": [
    "np_arr6 = np_arr6.astype(int)"
   ]
  },
  {
   "cell_type": "code",
   "execution_count": 32,
   "id": "24068d5b-2493-4eec-80e7-ff6af969394d",
   "metadata": {},
   "outputs": [
    {
     "data": {
      "text/plain": [
       "dtype('int64')"
      ]
     },
     "execution_count": 32,
     "metadata": {},
     "output_type": "execute_result"
    }
   ],
   "source": [
    "np_arr6.dtype"
   ]
  },
  {
   "cell_type": "code",
   "execution_count": 33,
   "id": "b99ee983-b7db-4218-af60-c49cfa390dab",
   "metadata": {},
   "outputs": [
    {
     "data": {
      "text/plain": [
       "dtype('<U21')"
      ]
     },
     "execution_count": 33,
     "metadata": {},
     "output_type": "execute_result"
    }
   ],
   "source": [
    "arr7 = [[0, 1, '2'], [3, 4, 5]]\n",
    "np_arr7 = np.array(arr7)\n",
    "np_arr7.dtype"
   ]
  },
  {
   "cell_type": "code",
   "execution_count": 34,
   "id": "db39c2f4-42fa-4918-b3a1-7dd39e654ac3",
   "metadata": {},
   "outputs": [
    {
     "data": {
      "text/plain": [
       "dtype('int64')"
      ]
     },
     "execution_count": 34,
     "metadata": {},
     "output_type": "execute_result"
    }
   ],
   "source": [
    "np_arr7.astype(int).dtype"
   ]
  },
  {
   "cell_type": "code",
   "execution_count": 35,
   "id": "af793d7d-ae5a-40a4-a15f-a39594b1f560",
   "metadata": {},
   "outputs": [
    {
     "data": {
      "text/plain": [
       "dtype('O')"
      ]
     },
     "execution_count": 35,
     "metadata": {},
     "output_type": "execute_result"
    }
   ],
   "source": [
    "np_arr7.astype(object).dtype"
   ]
  },
  {
   "cell_type": "code",
   "execution_count": 36,
   "id": "2d062357-faa7-4e64-af59-4d84416e054b",
   "metadata": {},
   "outputs": [
    {
     "data": {
      "text/plain": [
       "dtype('<U21')"
      ]
     },
     "execution_count": 36,
     "metadata": {},
     "output_type": "execute_result"
    }
   ],
   "source": [
    "np_arr7.astype(str).dtype"
   ]
  },
  {
   "cell_type": "code",
   "execution_count": null,
   "id": "92ce0102-c169-4e46-b7c7-d29a8e3fe599",
   "metadata": {},
   "outputs": [],
   "source": []
  },
  {
   "cell_type": "markdown",
   "id": "f3f21f22",
   "metadata": {},
   "source": [
    "---\n",
    "<a id=2></a>\n",
    "[Topへ](#0)\n",
    "\n",
    "---\n",
    "## 2.Numpyの関数で数列を作成"
   ]
  },
  {
   "cell_type": "markdown",
   "id": "6cb9efd3",
   "metadata": {},
   "source": [
    "* np.arange(start, stop, step) : 等差数列\n",
    "* np.linspace(start, stop, size) : 範囲と生成数から作成\n",
    "---"
   ]
  },
  {
   "cell_type": "markdown",
   "id": "76c20373",
   "metadata": {},
   "source": [
    "np.arange(start, stop, step) : 等差数列（正の値のみ）"
   ]
  },
  {
   "cell_type": "code",
   "execution_count": 39,
   "id": "aa071ddd",
   "metadata": {},
   "outputs": [
    {
     "data": {
      "text/plain": [
       "array([0, 1, 2, 3, 4, 5, 6, 7])"
      ]
     },
     "execution_count": 39,
     "metadata": {},
     "output_type": "execute_result"
    }
   ],
   "source": [
    "np.arange(8)\n",
    "# start=0, step=1"
   ]
  },
  {
   "cell_type": "code",
   "execution_count": 40,
   "id": "7ff6ffe4-eafa-4fbd-8d63-97220468392a",
   "metadata": {},
   "outputs": [
    {
     "data": {
      "text/plain": [
       "array([0, 1, 2, 3, 4, 5, 6, 7])"
      ]
     },
     "execution_count": 40,
     "metadata": {},
     "output_type": "execute_result"
    }
   ],
   "source": [
    "np.arange(0, 8, 1)\n",
    "# stopは含まれない"
   ]
  },
  {
   "cell_type": "code",
   "execution_count": 43,
   "id": "2879db73-de76-4dc9-926b-5f1055cd86e1",
   "metadata": {},
   "outputs": [
    {
     "data": {
      "text/plain": [
       "array([-5, -3, -1,  1,  3])"
      ]
     },
     "execution_count": 43,
     "metadata": {},
     "output_type": "execute_result"
    }
   ],
   "source": [
    "np.arange(-5, 5, 2)"
   ]
  },
  {
   "cell_type": "code",
   "execution_count": 44,
   "id": "a8486767",
   "metadata": {},
   "outputs": [
    {
     "data": {
      "text/plain": [
       "array([0. , 0.5, 1. , 1.5, 2. , 2.5, 3. , 3.5, 4. , 4.5, 5. , 5.5, 6. ])"
      ]
     },
     "execution_count": 44,
     "metadata": {},
     "output_type": "execute_result"
    }
   ],
   "source": [
    "np.arange(0, 6.1, 0.5)"
   ]
  },
  {
   "cell_type": "markdown",
   "id": "6a03f72a",
   "metadata": {},
   "source": [
    "np.linspace(start, stop, size) : 範囲と生成数から作成"
   ]
  },
  {
   "cell_type": "code",
   "execution_count": 46,
   "id": "ff3e0f8f-4d6e-471c-b449-5baf0b68878f",
   "metadata": {},
   "outputs": [
    {
     "data": {
      "text/plain": [
       "array([0.        , 0.16326531, 0.32653061, 0.48979592, 0.65306122,\n",
       "       0.81632653, 0.97959184, 1.14285714, 1.30612245, 1.46938776,\n",
       "       1.63265306, 1.79591837, 1.95918367, 2.12244898, 2.28571429,\n",
       "       2.44897959, 2.6122449 , 2.7755102 , 2.93877551, 3.10204082,\n",
       "       3.26530612, 3.42857143, 3.59183673, 3.75510204, 3.91836735,\n",
       "       4.08163265, 4.24489796, 4.40816327, 4.57142857, 4.73469388,\n",
       "       4.89795918, 5.06122449, 5.2244898 , 5.3877551 , 5.55102041,\n",
       "       5.71428571, 5.87755102, 6.04081633, 6.20408163, 6.36734694,\n",
       "       6.53061224, 6.69387755, 6.85714286, 7.02040816, 7.18367347,\n",
       "       7.34693878, 7.51020408, 7.67346939, 7.83673469, 8.        ])"
      ]
     },
     "execution_count": 46,
     "metadata": {},
     "output_type": "execute_result"
    }
   ],
   "source": [
    "np.linspace(0, 8)\n",
    "# defalutsize=50"
   ]
  },
  {
   "cell_type": "code",
   "execution_count": 48,
   "id": "c2ed84b4-e620-45d8-907b-dff3719566ed",
   "metadata": {},
   "outputs": [
    {
     "data": {
      "text/plain": [
       "array([0.        , 0.55555556, 1.11111111, 1.66666667, 2.22222222,\n",
       "       2.77777778, 3.33333333, 3.88888889, 4.44444444, 5.        ])"
      ]
     },
     "execution_count": 48,
     "metadata": {},
     "output_type": "execute_result"
    }
   ],
   "source": [
    "np.linspace(0, 5, 10)\n",
    "# stopを含む"
   ]
  },
  {
   "cell_type": "code",
   "execution_count": 49,
   "id": "fad97b39-a524-4edb-9b07-c0236920a164",
   "metadata": {},
   "outputs": [
    {
     "data": {
      "text/plain": [
       "array([0. , 0.5, 1. , 1.5, 2. , 2.5, 3. , 3.5, 4. , 4.5])"
      ]
     },
     "execution_count": 49,
     "metadata": {},
     "output_type": "execute_result"
    }
   ],
   "source": [
    "np.linspace(0, 5, 10, endpoint=False)\n",
    "# stopを含まない"
   ]
  },
  {
   "cell_type": "markdown",
   "id": "a96367d0",
   "metadata": {},
   "source": [
    "---\n",
    "<a id=3></a>\n",
    "[Topへ](#0)\n",
    "\n",
    "---\n",
    "## 3.Randomモジュールによる乱数Arrayの作成"
   ]
  },
  {
   "cell_type": "markdown",
   "id": "e5cf2532",
   "metadata": {},
   "source": [
    "* np.random.randint(low, high, size): 整数\n",
    "* 乱数シード\n",
    "* np.random.rand(size) : 0以上1未満 \n",
    "* np.random.randn(size) : 平均0、標準偏差1、正規分布に近づく数列  \n",
    "* np.random.normal(average, satandard_deviation, size) : 平均と標準偏差を指定、正規分布に近づく数列\n",
    "* np.random.uniform(low, high, size) : 範囲と生成数を指定\n",
    "* np.random.choice(array, size) : Listの値をランダムに選択\n",
    "---"
   ]
  },
  {
   "cell_type": "markdown",
   "id": "48445f81",
   "metadata": {},
   "source": [
    "np.random.randint(low, high, size): 整数"
   ]
  },
  {
   "cell_type": "code",
   "execution_count": 52,
   "id": "0a93eff2",
   "metadata": {},
   "outputs": [
    {
     "data": {
      "text/plain": [
       "14"
      ]
     },
     "execution_count": 52,
     "metadata": {},
     "output_type": "execute_result"
    }
   ],
   "source": [
    "np.random.randint(10, 20)"
   ]
  },
  {
   "cell_type": "code",
   "execution_count": 53,
   "id": "6291d3cf-0b04-4875-9065-c642cb12763e",
   "metadata": {},
   "outputs": [
    {
     "data": {
      "text/plain": [
       "array([22, 28, 14, 12, 11])"
      ]
     },
     "execution_count": 53,
     "metadata": {},
     "output_type": "execute_result"
    }
   ],
   "source": [
    "np.random.randint(10, 30, 5)"
   ]
  },
  {
   "cell_type": "code",
   "execution_count": 54,
   "id": "6f3959b5-fcff-4b09-b5dd-5b9a91ad0ca2",
   "metadata": {},
   "outputs": [
    {
     "data": {
      "text/plain": [
       "array([[29, 12, 14, 10],\n",
       "       [10, 19, 28, 16],\n",
       "       [14, 14, 17, 12]])"
      ]
     },
     "execution_count": 54,
     "metadata": {},
     "output_type": "execute_result"
    }
   ],
   "source": [
    "np.random.randint(10, 30, (3, 4))"
   ]
  },
  {
   "cell_type": "code",
   "execution_count": 55,
   "id": "c783d8df-5ab3-45d1-8011-8ca88faa1500",
   "metadata": {},
   "outputs": [
    {
     "data": {
      "text/plain": [
       "array([[[17, 16],\n",
       "        [10, 13],\n",
       "        [14, 45],\n",
       "        [22, 36]],\n",
       "\n",
       "       [[33, 41],\n",
       "        [20, 17],\n",
       "        [37, 14],\n",
       "        [44, 34]],\n",
       "\n",
       "       [[40, 20],\n",
       "        [33, 35],\n",
       "        [49, 31],\n",
       "        [24, 34]]])"
      ]
     },
     "execution_count": 55,
     "metadata": {},
     "output_type": "execute_result"
    }
   ],
   "source": [
    "np.random.randint(10, 50, (3, 4, 2))"
   ]
  },
  {
   "cell_type": "markdown",
   "id": "54b11ddd",
   "metadata": {},
   "source": [
    "乱数シード"
   ]
  },
  {
   "cell_type": "code",
   "execution_count": 60,
   "id": "a4396762",
   "metadata": {},
   "outputs": [
    {
     "data": {
      "text/plain": [
       "16"
      ]
     },
     "execution_count": 60,
     "metadata": {},
     "output_type": "execute_result"
    }
   ],
   "source": [
    "np.random.seed(17)\n",
    "np.random.randint(1, 100)"
   ]
  },
  {
   "cell_type": "code",
   "execution_count": 63,
   "id": "cc9ad4ce",
   "metadata": {},
   "outputs": [
    {
     "data": {
      "text/plain": [
       "78"
      ]
     },
     "execution_count": 63,
     "metadata": {},
     "output_type": "execute_result"
    }
   ],
   "source": [
    "np.random.seed()\n",
    "np.random.randint(1, 100)"
   ]
  },
  {
   "cell_type": "markdown",
   "id": "da09e3da",
   "metadata": {},
   "source": [
    "np.random.rand(size) : 0以上1未満"
   ]
  },
  {
   "cell_type": "code",
   "execution_count": 64,
   "id": "c7ef838a-477b-4933-a1f2-b1a871a3d1a1",
   "metadata": {},
   "outputs": [
    {
     "data": {
      "text/plain": [
       "array([0.3780148 , 0.08536397, 0.57464536, 0.6698037 , 0.91555835])"
      ]
     },
     "execution_count": 64,
     "metadata": {},
     "output_type": "execute_result"
    }
   ],
   "source": [
    "np.random.rand(5)"
   ]
  },
  {
   "cell_type": "code",
   "execution_count": 65,
   "id": "c11c941d-41f5-4318-b1a8-e9e110414e66",
   "metadata": {},
   "outputs": [
    {
     "data": {
      "text/plain": [
       "array([[0.13140853, 0.94611591, 0.25328335, 0.80217553],\n",
       "       [0.19332262, 0.99180495, 0.55249407, 0.57023502],\n",
       "       [0.84973939, 0.638844  , 0.19402792, 0.41795367]])"
      ]
     },
     "execution_count": 65,
     "metadata": {},
     "output_type": "execute_result"
    }
   ],
   "source": [
    "np.random.rand(3, 4)"
   ]
  },
  {
   "cell_type": "markdown",
   "id": "c91ed918",
   "metadata": {},
   "source": [
    "np.random.randn(size) : 平均0、標準偏差1、正規分布に近づく数列  \n",
    "\n",
    "    ※ 分散    ：「各数値の平均との差」を平方（2乗）した値の平均（平方するのはプラスの値で測るため）  \n",
    "    ※ 標準偏差：平均からのばらつき具合を示す指標。分散の正の平方根  \n",
    "    ※ 正規分布：平均値の度数を中心に、正負の値の度数が同程度に広がる分布      "
   ]
  },
  {
   "cell_type": "code",
   "execution_count": 80,
   "id": "87affd40",
   "metadata": {},
   "outputs": [
    {
     "data": {
      "text/plain": [
       "-0.008434394259253061"
      ]
     },
     "execution_count": 80,
     "metadata": {},
     "output_type": "execute_result"
    }
   ],
   "source": [
    "np.random.randn(1000).mean()"
   ]
  },
  {
   "cell_type": "code",
   "execution_count": 82,
   "id": "b3416710",
   "metadata": {},
   "outputs": [
    {
     "data": {
      "image/png": "[encoded data removed]",
      "text/plain": [
       "<Figure size 640x480 with 1 Axes>"
      ]
     },
     "metadata": {},
     "output_type": "display_data"
    }
   ],
   "source": [
    "np.random.seed(17)\n",
    "import matplotlib.pyplot as plt\n",
    "plt.hist(np.random.randn(1000), bins=20)\n",
    "plt.show()"
   ]
  },
  {
   "cell_type": "markdown",
   "id": "7b0efdd2",
   "metadata": {},
   "source": [
    " np.random.normal(average, satandard_deviation, size) : 平均と標準偏差を指定、正規分布に近づく数列"
   ]
  },
  {
   "cell_type": "code",
   "execution_count": 83,
   "id": "d9319b67-1250-4eca-aa02-bde5f843f715",
   "metadata": {},
   "outputs": [
    {
     "data": {
      "text/plain": [
       "array([50.20519082, 49.62717611, 50.66191469, 49.69196425, 50.15201394,\n",
       "       49.00409711, 49.57827754, 51.33262148, 50.29294534, 48.83167682])"
      ]
     },
     "execution_count": 83,
     "metadata": {},
     "output_type": "execute_result"
    }
   ],
   "source": [
    "np.random.normal(50, 1, 10)"
   ]
  },
  {
   "cell_type": "code",
   "execution_count": 84,
   "id": "c1dd5a55-56b4-4262-9f9b-1c37ef85c8f7",
   "metadata": {},
   "outputs": [
    {
     "data": {
      "text/plain": [
       "array([[10.50995435, 66.50950984, 34.12534389, 53.44124834, 32.2554948 ],\n",
       "       [65.88857107, 56.07838467, 30.17273726, 44.25715629, 33.25875306]])"
      ]
     },
     "execution_count": 84,
     "metadata": {},
     "output_type": "execute_result"
    }
   ],
   "source": [
    "np.random.normal(50, 20, (2, 5))"
   ]
  },
  {
   "cell_type": "code",
   "execution_count": 85,
   "id": "9572194d-345e-4500-8c72-7ae49a72315b",
   "metadata": {},
   "outputs": [
    {
     "data": {
      "image/png": "[encoded data removed]",
      "text/plain": [
       "<Figure size 640x480 with 1 Axes>"
      ]
     },
     "metadata": {},
     "output_type": "display_data"
    }
   ],
   "source": [
    "plt.hist(np.random.normal(100, 4, 1000), bins=30)\n",
    "plt.xlim(60,140)\n",
    "plt.show()"
   ]
  },
  {
   "cell_type": "code",
   "execution_count": 86,
   "id": "e6ac4f44-bf5b-4598-a9c6-7765f2154b9d",
   "metadata": {},
   "outputs": [
    {
     "data": {
      "image/png": "[encoded data removed]",
      "text/plain": [
       "<Figure size 640x480 with 1 Axes>"
      ]
     },
     "metadata": {},
     "output_type": "display_data"
    }
   ],
   "source": [
    "plt.hist(np.random.normal(100, 12, 1000), bins=30)\n",
    "plt.xlim(60,140)\n",
    "plt.show()"
   ]
  },
  {
   "cell_type": "code",
   "execution_count": 87,
   "id": "ac917dfa-1836-474f-8570-2a114580730b",
   "metadata": {},
   "outputs": [
    {
     "data": {
      "image/png": "[encoded data removed]",
      "text/plain": [
       "<Figure size 640x480 with 1 Axes>"
      ]
     },
     "metadata": {},
     "output_type": "display_data"
    }
   ],
   "source": [
    "plt.hist(np.random.normal(100, 20, 1000), bins=30)\n",
    "plt.xlim(60,140)\n",
    "plt.show()"
   ]
  },
  {
   "cell_type": "markdown",
   "id": "bc7a7b91",
   "metadata": {},
   "source": [
    "np.random.uniform(low, high, size) : 範囲と生成数を指定、連続一様分布に近づく"
   ]
  },
  {
   "cell_type": "code",
   "execution_count": 70,
   "id": "3028fd18",
   "metadata": {
    "scrolled": true
   },
   "outputs": [
    {
     "data": {
      "text/plain": [
       "4.179965632788913"
      ]
     },
     "execution_count": 70,
     "metadata": {},
     "output_type": "execute_result"
    }
   ],
   "source": [
    "np.random.uniform(2, 8, 3).mean()"
   ]
  },
  {
   "cell_type": "code",
   "execution_count": 71,
   "id": "8a41b554-dd03-4bc2-9269-23b4eec795b3",
   "metadata": {},
   "outputs": [
    {
     "data": {
      "text/plain": [
       "array([[2.17526467, 4.59878093, 6.2688548 , 4.17985453],\n",
       "       [4.30639429, 6.56529296, 6.55803691, 5.70296484],\n",
       "       [5.04013764, 9.14258493, 4.39633137, 4.00788909]])"
      ]
     },
     "execution_count": 71,
     "metadata": {},
     "output_type": "execute_result"
    }
   ],
   "source": [
    "np.random.uniform(1, 10, (3, 4))"
   ]
  },
  {
   "cell_type": "markdown",
   "id": "04669a8c",
   "metadata": {},
   "source": [
    "np.random.choice(array, size) : Listの値をランダムに選択"
   ]
  },
  {
   "cell_type": "code",
   "execution_count": 72,
   "id": "f02f5344",
   "metadata": {},
   "outputs": [
    {
     "data": {
      "text/plain": [
       "array([ 87,  87, 233,  87,  16])"
      ]
     },
     "execution_count": 72,
     "metadata": {},
     "output_type": "execute_result"
    }
   ],
   "source": [
    "l = [16, 87, 233]\n",
    "np.random.choice(l, 5)"
   ]
  },
  {
   "cell_type": "code",
   "execution_count": 73,
   "id": "1f3f7cba-1a08-4cc4-9c78-ebe4ad7d0e00",
   "metadata": {},
   "outputs": [
    {
     "data": {
      "text/plain": [
       "array([[233,  16, 233],\n",
       "       [233, 233,  16]])"
      ]
     },
     "execution_count": 73,
     "metadata": {},
     "output_type": "execute_result"
    }
   ],
   "source": [
    "np.random.choice(l, (2, 3))"
   ]
  },
  {
   "cell_type": "markdown",
   "id": "a1d0ca59",
   "metadata": {},
   "source": [
    "---\n",
    "<a id=4></a>\n",
    "[Topへ](#0)\n",
    "\n",
    "---\n",
    "## 4.Numpy ndarrayの次元、形状、サイズ"
   ]
  },
  {
   "cell_type": "markdown",
   "id": "5b39235b-341a-4944-a8bd-0dd92d57eed0",
   "metadata": {},
   "source": [
    "* 次元\n",
    "* 形状\n",
    "* サイズ（要素数）\n",
    "* 形状の変換\n",
    "---"
   ]
  },
  {
   "cell_type": "code",
   "execution_count": 88,
   "id": "80f594e4-1eaa-4e18-b6aa-29efbb8ff6b1",
   "metadata": {},
   "outputs": [
    {
     "data": {
      "text/plain": [
       "array([[[0.58331719, 0.36600837, 0.83399253, 0.8425419 ],\n",
       "        [0.08843208, 0.76127748, 0.63655481, 0.6986564 ],\n",
       "        [0.45591904, 0.86591134, 0.06871871, 0.75303291]],\n",
       "\n",
       "       [[0.95739162, 0.44473976, 0.6230473 , 0.14670426],\n",
       "        [0.59909626, 0.83431069, 0.81374955, 0.99486359],\n",
       "        [0.03068163, 0.21642026, 0.41536095, 0.60568129]]])"
      ]
     },
     "execution_count": 88,
     "metadata": {},
     "output_type": "execute_result"
    }
   ],
   "source": [
    "np_arr = np.random.rand(2, 3, 4)\n",
    "np_arr"
   ]
  },
  {
   "cell_type": "markdown",
   "id": "e785d42b",
   "metadata": {},
   "source": [
    "次元"
   ]
  },
  {
   "cell_type": "code",
   "execution_count": 89,
   "id": "39619057-96ac-48d3-af90-6ba0c5306b88",
   "metadata": {},
   "outputs": [
    {
     "data": {
      "text/plain": [
       "3"
      ]
     },
     "execution_count": 89,
     "metadata": {},
     "output_type": "execute_result"
    }
   ],
   "source": [
    "np_arr.ndim"
   ]
  },
  {
   "cell_type": "code",
   "execution_count": 90,
   "id": "4ddbd445-e3c6-41f8-9ada-a239d3d874a5",
   "metadata": {},
   "outputs": [
    {
     "data": {
      "text/plain": [
       "5"
      ]
     },
     "execution_count": 90,
     "metadata": {},
     "output_type": "execute_result"
    }
   ],
   "source": [
    "np.random.rand(2, 3, 4, 5, 6).ndim"
   ]
  },
  {
   "cell_type": "markdown",
   "id": "ed920438",
   "metadata": {},
   "source": [
    "形状"
   ]
  },
  {
   "cell_type": "code",
   "execution_count": 92,
   "id": "7b720562",
   "metadata": {},
   "outputs": [
    {
     "data": {
      "text/plain": [
       "(2, 3, 4)"
      ]
     },
     "execution_count": 92,
     "metadata": {},
     "output_type": "execute_result"
    }
   ],
   "source": [
    "np_arr.shape"
   ]
  },
  {
   "cell_type": "code",
   "execution_count": 93,
   "id": "3ef3f27e",
   "metadata": {},
   "outputs": [
    {
     "data": {
      "text/plain": [
       "(3,)"
      ]
     },
     "execution_count": 93,
     "metadata": {},
     "output_type": "execute_result"
    }
   ],
   "source": [
    "np.array([1, 2, 3]).shape"
   ]
  },
  {
   "cell_type": "code",
   "execution_count": 94,
   "id": "0ea7527a-a21a-4cae-b24d-2d1b245c1d98",
   "metadata": {},
   "outputs": [
    {
     "data": {
      "text/plain": [
       "(3, 2)"
      ]
     },
     "execution_count": 94,
     "metadata": {},
     "output_type": "execute_result"
    }
   ],
   "source": [
    "np.array([[1, 2], [3, 4], [5, 6]]).shape"
   ]
  },
  {
   "cell_type": "markdown",
   "id": "fa9d12b8",
   "metadata": {},
   "source": [
    "サイズ（要素数）"
   ]
  },
  {
   "cell_type": "code",
   "execution_count": 95,
   "id": "86673451",
   "metadata": {},
   "outputs": [
    {
     "data": {
      "text/plain": [
       "24"
      ]
     },
     "execution_count": 95,
     "metadata": {},
     "output_type": "execute_result"
    }
   ],
   "source": [
    "np_arr.size"
   ]
  },
  {
   "cell_type": "code",
   "execution_count": 96,
   "id": "4fbf6920-ca7b-4ea7-9722-c2a480dfccfd",
   "metadata": {},
   "outputs": [
    {
     "data": {
      "text/plain": [
       "6"
      ]
     },
     "execution_count": 96,
     "metadata": {},
     "output_type": "execute_result"
    }
   ],
   "source": [
    "np.array([[1, 2], [3, 4], [5, 6]]).size"
   ]
  },
  {
   "cell_type": "markdown",
   "id": "1a559575",
   "metadata": {},
   "source": [
    "形状の変換"
   ]
  },
  {
   "cell_type": "code",
   "execution_count": 97,
   "id": "560f55b7",
   "metadata": {
    "scrolled": true
   },
   "outputs": [
    {
     "data": {
      "text/plain": [
       "(2, 3, 4)"
      ]
     },
     "execution_count": 97,
     "metadata": {},
     "output_type": "execute_result"
    }
   ],
   "source": [
    "np_arr.shape"
   ]
  },
  {
   "cell_type": "code",
   "execution_count": 98,
   "id": "499947b4-5735-46ee-86c0-c1707d4b7158",
   "metadata": {},
   "outputs": [
    {
     "data": {
      "text/plain": [
       "array([[0.58331719, 0.36600837, 0.83399253, 0.8425419 , 0.08843208,\n",
       "        0.76127748],\n",
       "       [0.63655481, 0.6986564 , 0.45591904, 0.86591134, 0.06871871,\n",
       "        0.75303291],\n",
       "       [0.95739162, 0.44473976, 0.6230473 , 0.14670426, 0.59909626,\n",
       "        0.83431069],\n",
       "       [0.81374955, 0.99486359, 0.03068163, 0.21642026, 0.41536095,\n",
       "        0.60568129]])"
      ]
     },
     "execution_count": 98,
     "metadata": {},
     "output_type": "execute_result"
    }
   ],
   "source": [
    "np_arr.reshape(4, 6)"
   ]
  },
  {
   "cell_type": "code",
   "execution_count": 100,
   "id": "8c755212-b8d9-4e28-b876-ebc9536a3649",
   "metadata": {},
   "outputs": [
    {
     "data": {
      "text/plain": [
       "array([[[[0.58331719, 0.36600837, 0.83399253],\n",
       "         [0.8425419 , 0.08843208, 0.76127748]],\n",
       "\n",
       "        [[0.63655481, 0.6986564 , 0.45591904],\n",
       "         [0.86591134, 0.06871871, 0.75303291]]],\n",
       "\n",
       "\n",
       "       [[[0.95739162, 0.44473976, 0.6230473 ],\n",
       "         [0.14670426, 0.59909626, 0.83431069]],\n",
       "\n",
       "        [[0.81374955, 0.99486359, 0.03068163],\n",
       "         [0.21642026, 0.41536095, 0.60568129]]]])"
      ]
     },
     "execution_count": 100,
     "metadata": {},
     "output_type": "execute_result"
    }
   ],
   "source": [
    "np_arr.reshape(2, 2, 2, 3)"
   ]
  },
  {
   "cell_type": "code",
   "execution_count": 104,
   "id": "c6324099-53a0-4f70-94bf-6055b7724cfd",
   "metadata": {},
   "outputs": [
    {
     "data": {
      "text/plain": [
       "array([[0.58331719],\n",
       "       [0.36600837],\n",
       "       [0.83399253],\n",
       "       [0.8425419 ],\n",
       "       [0.08843208],\n",
       "       [0.76127748],\n",
       "       [0.63655481],\n",
       "       [0.6986564 ],\n",
       "       [0.45591904],\n",
       "       [0.86591134],\n",
       "       [0.06871871],\n",
       "       [0.75303291],\n",
       "       [0.95739162],\n",
       "       [0.44473976],\n",
       "       [0.6230473 ],\n",
       "       [0.14670426],\n",
       "       [0.59909626],\n",
       "       [0.83431069],\n",
       "       [0.81374955],\n",
       "       [0.99486359],\n",
       "       [0.03068163],\n",
       "       [0.21642026],\n",
       "       [0.41536095],\n",
       "       [0.60568129]])"
      ]
     },
     "execution_count": 104,
     "metadata": {},
     "output_type": "execute_result"
    }
   ],
   "source": [
    "np_arr.reshape(-1, 1)"
   ]
  },
  {
   "cell_type": "code",
   "execution_count": 105,
   "id": "8b0f015c-aa7e-4e65-bc00-db1928930100",
   "metadata": {},
   "outputs": [
    {
     "data": {
      "text/plain": [
       "array([[0.58331719, 0.36600837, 0.83399253, 0.8425419 , 0.08843208,\n",
       "        0.76127748, 0.63655481, 0.6986564 , 0.45591904, 0.86591134,\n",
       "        0.06871871, 0.75303291, 0.95739162, 0.44473976, 0.6230473 ,\n",
       "        0.14670426, 0.59909626, 0.83431069, 0.81374955, 0.99486359,\n",
       "        0.03068163, 0.21642026, 0.41536095, 0.60568129]])"
      ]
     },
     "execution_count": 105,
     "metadata": {},
     "output_type": "execute_result"
    }
   ],
   "source": [
    "np_arr.reshape(1, -1)"
   ]
  },
  {
   "cell_type": "code",
   "execution_count": 106,
   "id": "edd877e2-eb9b-4736-9c24-7a0973e0ef00",
   "metadata": {},
   "outputs": [
    {
     "data": {
      "text/plain": [
       "array([0.58331719, 0.36600837, 0.83399253, 0.8425419 , 0.08843208,\n",
       "       0.76127748, 0.63655481, 0.6986564 , 0.45591904, 0.86591134,\n",
       "       0.06871871, 0.75303291, 0.95739162, 0.44473976, 0.6230473 ,\n",
       "       0.14670426, 0.59909626, 0.83431069, 0.81374955, 0.99486359,\n",
       "       0.03068163, 0.21642026, 0.41536095, 0.60568129])"
      ]
     },
     "execution_count": 106,
     "metadata": {},
     "output_type": "execute_result"
    }
   ],
   "source": [
    "np_arr.reshape(-1)"
   ]
  },
  {
   "cell_type": "code",
   "execution_count": 107,
   "id": "cde4515d-795d-4faa-9095-c35072db7c53",
   "metadata": {},
   "outputs": [
    {
     "data": {
      "text/plain": [
       "array([0.58331719, 0.36600837, 0.83399253, 0.8425419 , 0.08843208,\n",
       "       0.76127748, 0.63655481, 0.6986564 , 0.45591904, 0.86591134,\n",
       "       0.06871871, 0.75303291, 0.95739162, 0.44473976, 0.6230473 ,\n",
       "       0.14670426, 0.59909626, 0.83431069, 0.81374955, 0.99486359,\n",
       "       0.03068163, 0.21642026, 0.41536095, 0.60568129])"
      ]
     },
     "execution_count": 107,
     "metadata": {},
     "output_type": "execute_result"
    }
   ],
   "source": [
    "np_arr.ravel()"
   ]
  },
  {
   "cell_type": "code",
   "execution_count": 108,
   "id": "f2f038b6-44f1-4f67-bcc8-bafebfa7d603",
   "metadata": {},
   "outputs": [
    {
     "data": {
      "text/plain": [
       "array([0.58331719, 0.36600837, 0.83399253, 0.8425419 , 0.08843208,\n",
       "       0.76127748, 0.63655481, 0.6986564 , 0.45591904, 0.86591134,\n",
       "       0.06871871, 0.75303291, 0.95739162, 0.44473976, 0.6230473 ,\n",
       "       0.14670426, 0.59909626, 0.83431069, 0.81374955, 0.99486359,\n",
       "       0.03068163, 0.21642026, 0.41536095, 0.60568129])"
      ]
     },
     "execution_count": 108,
     "metadata": {},
     "output_type": "execute_result"
    }
   ],
   "source": [
    "np_arr.flatten()"
   ]
  },
  {
   "cell_type": "code",
   "execution_count": 110,
   "id": "861a9f97-3857-40fc-97ba-c63ac8f72a90",
   "metadata": {},
   "outputs": [
    {
     "data": {
      "text/plain": [
       "array([[[0.58331719, 0.36600837, 0.83399253, 0.8425419 ],\n",
       "        [0.08843208, 0.76127748, 0.63655481, 0.6986564 ],\n",
       "        [0.45591904, 0.86591134, 0.06871871, 0.75303291]],\n",
       "\n",
       "       [[0.95739162, 0.44473976, 0.6230473 , 0.14670426],\n",
       "        [0.59909626, 0.83431069, 0.81374955, 0.99486359],\n",
       "        [0.03068163, 0.21642026, 0.41536095, 0.60568129]]])"
      ]
     },
     "execution_count": 110,
     "metadata": {},
     "output_type": "execute_result"
    }
   ],
   "source": [
    "np_arr.flatten()[0] = 99\n",
    "np_arr"
   ]
  },
  {
   "cell_type": "code",
   "execution_count": 111,
   "id": "4b55f447-f795-4b79-ad0e-5b2fd08b7e9e",
   "metadata": {},
   "outputs": [
    {
     "data": {
      "text/plain": [
       "array([[[9.90000000e+01, 3.66008365e-01, 8.33992529e-01, 8.42541901e-01],\n",
       "        [8.84320791e-02, 7.61277477e-01, 6.36554811e-01, 6.98656399e-01],\n",
       "        [4.55919043e-01, 8.65911340e-01, 6.87187074e-02, 7.53032909e-01]],\n",
       "\n",
       "       [[9.57391620e-01, 4.44739756e-01, 6.23047300e-01, 1.46704256e-01],\n",
       "        [5.99096255e-01, 8.34310692e-01, 8.13749545e-01, 9.94863593e-01],\n",
       "        [3.06816266e-02, 2.16420257e-01, 4.15360948e-01, 6.05681292e-01]]])"
      ]
     },
     "execution_count": 111,
     "metadata": {},
     "output_type": "execute_result"
    }
   ],
   "source": [
    "np_arr.ravel()[0] = 99\n",
    "np_arr"
   ]
  },
  {
   "cell_type": "markdown",
   "id": "731d265c",
   "metadata": {},
   "source": [
    "---\n",
    "<a id=5></a>\n",
    "[Topへ](#0)\n",
    "\n",
    "---\n",
    "## 5.Numpy ndarrayの演算例"
   ]
  },
  {
   "cell_type": "code",
   "execution_count": 112,
   "id": "77cad46c",
   "metadata": {},
   "outputs": [
    {
     "data": {
      "text/plain": [
       "array([[ 2,  4,  8],\n",
       "       [ 3,  9, 27]])"
      ]
     },
     "execution_count": 112,
     "metadata": {},
     "output_type": "execute_result"
    }
   ],
   "source": [
    "arr = [[2, 4, 8], [3, 9, 27]]\n",
    "np_arr = np.array(arr)\n",
    "np_arr"
   ]
  },
  {
   "cell_type": "code",
   "execution_count": 117,
   "id": "17171e36-2e51-4e3a-97f1-39797045f10c",
   "metadata": {},
   "outputs": [
    {
     "data": {
      "text/plain": [
       "array([[ 1.,  2.,  5.],\n",
       "       [ 2.,  6., 18.]])"
      ]
     },
     "execution_count": 117,
     "metadata": {},
     "output_type": "execute_result"
    }
   ],
   "source": [
    "np_arr + 100\n",
    "np_arr * 2\n",
    "np_arr % 3\n",
    "np_arr // 1.5"
   ]
  },
  {
   "cell_type": "code",
   "execution_count": 119,
   "id": "12f8511a-cc06-48c9-bacd-a79e8bf88d58",
   "metadata": {},
   "outputs": [
    {
     "data": {
      "text/plain": [
       "array([[  4,  16,  64],\n",
       "       [  9,  81, 729]])"
      ]
     },
     "execution_count": 119,
     "metadata": {},
     "output_type": "execute_result"
    }
   ],
   "source": [
    "np_arr + np_arr\n",
    "np_arr * np_arr"
   ]
  },
  {
   "cell_type": "code",
   "execution_count": 120,
   "id": "f59d3212-d36b-462d-9f7e-f34540c628fd",
   "metadata": {},
   "outputs": [
    {
     "data": {
      "text/plain": [
       "array([[1002, 2004, 3008],\n",
       "       [1003, 2009, 3027]])"
      ]
     },
     "execution_count": 120,
     "metadata": {},
     "output_type": "execute_result"
    }
   ],
   "source": [
    "np_arr + [1000, 2000, 3000]"
   ]
  },
  {
   "cell_type": "code",
   "execution_count": 142,
   "id": "07600c6e-92b4-4032-95cf-5d933f688d34",
   "metadata": {},
   "outputs": [],
   "source": [
    "# np_arr + [100, 2000]"
   ]
  },
  {
   "cell_type": "code",
   "execution_count": 123,
   "id": "92bb9921-158a-4872-bbbb-d036e6f17012",
   "metadata": {},
   "outputs": [
    {
     "data": {
      "text/plain": [
       "array([[1002, 2004, 3008],\n",
       "       [1003, 2009, 3027]])"
      ]
     },
     "execution_count": 123,
     "metadata": {},
     "output_type": "execute_result"
    }
   ],
   "source": [
    "np_arr + [[1000, 2000, 3000]]"
   ]
  },
  {
   "cell_type": "code",
   "execution_count": 124,
   "id": "31e87ef0-cbc2-41a6-88dd-eb2892f4a36d",
   "metadata": {},
   "outputs": [
    {
     "data": {
      "text/plain": [
       "array([[1002, 1004, 1008],\n",
       "       [2003, 2009, 2027]])"
      ]
     },
     "execution_count": 124,
     "metadata": {},
     "output_type": "execute_result"
    }
   ],
   "source": [
    "np_arr + [[1000], [2000]]"
   ]
  },
  {
   "cell_type": "code",
   "execution_count": 125,
   "id": "a5744864-ce2f-4d67-a656-83ecd5356283",
   "metadata": {},
   "outputs": [
    {
     "data": {
      "text/plain": [
       "53"
      ]
     },
     "execution_count": 125,
     "metadata": {},
     "output_type": "execute_result"
    }
   ],
   "source": [
    "np_arr.sum()"
   ]
  },
  {
   "cell_type": "code",
   "execution_count": 128,
   "id": "15f27463-bd84-414b-8a90-a18d71e1721a",
   "metadata": {},
   "outputs": [
    {
     "data": {
      "text/plain": [
       "array([[ 2,  4,  8],\n",
       "       [ 3,  9, 27]])"
      ]
     },
     "execution_count": 128,
     "metadata": {},
     "output_type": "execute_result"
    }
   ],
   "source": [
    "np_arr"
   ]
  },
  {
   "cell_type": "code",
   "execution_count": 126,
   "id": "f7bc5fce-63f8-488c-a14c-c6070fbb85bc",
   "metadata": {},
   "outputs": [
    {
     "data": {
      "text/plain": [
       "array([ 5, 13, 35])"
      ]
     },
     "execution_count": 126,
     "metadata": {},
     "output_type": "execute_result"
    }
   ],
   "source": [
    "np_arr.sum(axis=0)"
   ]
  },
  {
   "cell_type": "code",
   "execution_count": 129,
   "id": "64e7b385-ca0b-4292-8758-3b1db71a0ca2",
   "metadata": {},
   "outputs": [
    {
     "data": {
      "text/plain": [
       "array([14, 39])"
      ]
     },
     "execution_count": 129,
     "metadata": {},
     "output_type": "execute_result"
    }
   ],
   "source": [
    "np_arr.sum(axis=1)"
   ]
  },
  {
   "cell_type": "code",
   "execution_count": 131,
   "id": "53508bef-6259-4894-bc67-12be19889b02",
   "metadata": {},
   "outputs": [
    {
     "data": {
      "text/plain": [
       "array([[  4,  16,  64],\n",
       "       [  9,  81, 729]])"
      ]
     },
     "execution_count": 131,
     "metadata": {},
     "output_type": "execute_result"
    }
   ],
   "source": [
    "np.power(np_arr, 2)  # 2乗している"
   ]
  },
  {
   "cell_type": "code",
   "execution_count": 134,
   "id": "76474db8-0db3-4252-adbe-a09b246afc9e",
   "metadata": {},
   "outputs": [
    {
     "data": {
      "text/plain": [
       "array([[1.41421356, 2.        , 2.82842712],\n",
       "       [1.73205081, 3.        , 5.19615242]])"
      ]
     },
     "execution_count": 134,
     "metadata": {},
     "output_type": "execute_result"
    }
   ],
   "source": [
    "np.sqrt(np_arr)  # 平方根"
   ]
  },
  {
   "cell_type": "code",
   "execution_count": 136,
   "id": "d6d34090-4924-4b0d-bdd6-1432aeff7847",
   "metadata": {},
   "outputs": [
    {
     "data": {
      "text/plain": [
       "array([[ 0.90929743, -0.7568025 ,  0.98935825],\n",
       "       [ 0.14112001,  0.41211849,  0.95637593]])"
      ]
     },
     "execution_count": 136,
     "metadata": {},
     "output_type": "execute_result"
    }
   ],
   "source": [
    "np.sin(np_arr) # sin三角比"
   ]
  },
  {
   "cell_type": "code",
   "execution_count": 139,
   "id": "2b345d04-edd9-4e93-8883-0636f79cee69",
   "metadata": {},
   "outputs": [
    {
     "data": {
      "text/plain": [
       "array([[1.41421, 2.     , 2.82843],\n",
       "       [1.73205, 3.     , 5.19615]])"
      ]
     },
     "execution_count": 139,
     "metadata": {},
     "output_type": "execute_result"
    }
   ],
   "source": [
    "np.floor(np.sqrt(np_arr)) #小数点以下を切り捨て\n",
    "np.ceil(np.sqrt(np_arr))  #小数点以下を切り上げ\n",
    "np.round(np.sqrt(np_arr), 5) #小数点⚪︎⚪︎以下を四捨五入（今回は⚪︎⚪︎=5）"
   ]
  },
  {
   "cell_type": "code",
   "execution_count": 141,
   "id": "98fcceac-2815-4376-9257-4824061d8b17",
   "metadata": {},
   "outputs": [
    {
     "data": {
      "text/plain": [
       "array([[ 8,  6,  2],\n",
       "       [ 7,  1, 17]])"
      ]
     },
     "execution_count": 141,
     "metadata": {},
     "output_type": "execute_result"
    }
   ],
   "source": [
    "np.abs(np_arr - 10)  #絶対値"
   ]
  },
  {
   "cell_type": "markdown",
   "id": "a2345564",
   "metadata": {},
   "source": [
    "---\n",
    "[Topへ](#0)\n",
    "\n",
    "---\n",
    "## 以上\n",
    "    \n",
    "---"
   ]
  }
 ],
 "metadata": {
  "kernelspec": {
   "display_name": "Python 3 (ipykernel)",
   "language": "python",
   "name": "python3"
  },
  "language_info": {
   "codemirror_mode": {
    "name": "ipython",
    "version": 3
   },
   "file_extension": ".py",
   "mimetype": "text/x-python",
   "name": "python",
   "nbconvert_exporter": "python",
   "pygments_lexer": "ipython3",
   "version": "3.11.8"
  }
 },
 "nbformat": 4,
 "nbformat_minor": 5
}
